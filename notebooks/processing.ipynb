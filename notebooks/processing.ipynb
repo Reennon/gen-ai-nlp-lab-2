{
 "cells": [
  {
   "cell_type": "code",
   "execution_count": 1,
   "metadata": {
    "collapsed": true,
    "ExecuteTime": {
     "end_time": "2025-01-08T18:38:07.792262Z",
     "start_time": "2025-01-08T18:38:03.611583Z"
    }
   },
   "outputs": [],
   "source": [
    "import os\n",
    "\n",
    "import deepl\n",
    "import pandas as pd\n",
    "from dotenv import load_dotenv\n",
    "from tqdm import tqdm\n",
    "import tiktoken\n",
    "from openai import OpenAI\n",
    "import faiss\n",
    "import numpy as np\n",
    "\n",
    "\n",
    "# Enable tqdm for pandas\n",
    "tqdm.pandas()"
   ]
  },
  {
   "cell_type": "code",
   "execution_count": 3,
   "outputs": [
    {
     "data": {
      "text/plain": "True"
     },
     "execution_count": 3,
     "metadata": {},
     "output_type": "execute_result"
    }
   ],
   "source": [
    "load_dotenv(\"./../.env\")"
   ],
   "metadata": {
    "collapsed": false,
    "ExecuteTime": {
     "end_time": "2025-01-08T18:39:03.276597Z",
     "start_time": "2025-01-08T18:39:03.272181Z"
    }
   }
  },
  {
   "cell_type": "code",
   "execution_count": 7,
   "outputs": [],
   "source": [
    "index = faiss.read_index('../datasets/math-500-uk.index')\n",
    "inference_df = pd.read_csv('../datasets/math-500-uk-inference.csv')"
   ],
   "metadata": {
    "collapsed": false,
    "ExecuteTime": {
     "end_time": "2025-01-08T18:39:38.169426Z",
     "start_time": "2025-01-08T18:39:38.018426Z"
    }
   }
  },
  {
   "cell_type": "code",
   "execution_count": 4,
   "outputs": [],
   "source": [
    "openai_api_key = os.getenv(\"OPENAI_API_KEY\")"
   ],
   "metadata": {
    "collapsed": false,
    "ExecuteTime": {
     "end_time": "2025-01-08T18:39:05.353541Z",
     "start_time": "2025-01-08T18:39:05.349220Z"
    }
   }
  },
  {
   "cell_type": "code",
   "execution_count": 5,
   "outputs": [],
   "source": [
    "client = OpenAI(api_key=openai_api_key)\n",
    "\n",
    "def get_embedding(text, model=\"text-embedding-ada-002\"):\n",
    "    response = client.embeddings.create(input=text, model=model)\n",
    "    return response.data[0].embedding\n",
    "\n",
    "model = \"text-embedding-ada-002\""
   ],
   "metadata": {
    "collapsed": false,
    "ExecuteTime": {
     "end_time": "2025-01-08T18:39:10.980503Z",
     "start_time": "2025-01-08T18:39:10.933661Z"
    }
   }
  },
  {
   "cell_type": "code",
   "execution_count": 11,
   "outputs": [
    {
     "data": {
      "text/plain": "                                               problem  \\\n222  The area of $\\triangle ABC$ is 6 square centim...   \n308  Let $ABCD$ be a regular tetrahedron with side ...   \n299  Consider the rectangle with vertices at $(5,4)...   \n169  What is the number of square units in the area...   \n123  In the diagram, $D$ and $E$ are the midpoints ...   \n152  The medians $AD$, $BE$, and $CF$ of triangle $...   \n154  A gecko is in a room that is 12 feet long, 10 ...   \n100  A hexagon is inscribed in a circle: [asy]\\npai...   \n129  In triangle $ABC$, $AB = 17$, $AC = 8$, and $B...   \n264  In the figure below, quadrilateral $CDEG$ is a...   \n274  Let $S$ be the union of the set of all points ...   \n41   The coordinates of a parallelogram are (5, 3),...   \n476  Jim and Martha are standing together at the co...   \n179  Find the equation of the plane containing the ...   \n192  In $\\triangle PQR$, we have $PQ = QR = 34$ and...   \n243  A triangle has sides measuring 1 unit and 3 un...   \n267  In circle $J$, $HO$ and $HN$ are tangent to th...   \n426  A square and an equilateral triangle have\\tequ...   \n382  A rectangular field is enclosed in an athletic...   \n376  Determine the coordinates of the point $P$ on ...   \n261  A triangle $\\triangle ABC$ with $\\angle A = 14...   \n67   The lengths of two opposite sides of a square ...   \n239  The parallelogram bounded by the lines $y=ax+c...   \n368  Two sides of a triangle are each $8$ units lon...   \n72   What is the length, in units, of the radius of...   \n\n                                              solution                 answer  \\\n222  Since $AB \\parallel DE,$ we know that $\\angle ...                     54   \n308  The plane intersects each face of the tetrahed...            1+2\\sqrt{3}   \n299  Points with integer coordinates are called lat...                     63   \n169  This triangle is isosceles, and so the altitud...                     12   \n123  $\\triangle DBC$ has base $\\overline{BC}$ of le...                      8   \n152  Since $E$ is the midpoint of $AC$, the area of...                      8   \n154  [asy]\\nimport three;\\ncurrentprojection=orthog...            2\\sqrt{113}   \n100  Labeling our vertices will help a great deal, ...              145^\\circ   \n129  By Pythagoras, $\\angle C = 90^\\circ$.  Triangl...       \\frac{3840}{289}   \n264  Let $J$ be the intersection of $\\overline{BE}$...           1\\frac{4}{5}   \n274  $S$ looks like a nonagon with slightly rounded...                18+2\\pi   \n41   Name the points $A(5,3)$, $B(6,8)$, $C(7,4)$, ...                     17   \n476  The diagonal of the field is $\\sqrt{300^2+400^...                    200   \n179  Let $\\mathbf{a} = \\begin{pmatrix} 0 \\\\ -1 \\\\ -...  5x - 7y + 11z + 4 = 0   \n192  Because $\\triangle PQR$ is isosceles with $PQ=...                     30   \n243  Call the length of the third side $n$. By the ...                      3   \n267  Since $\\overline{OH}$ and $\\overline{NH}$ are ...              180^\\circ   \n426  If we let $x = $ the side length of the triang...              6\\sqrt{2}   \n382  Let the width of the rectangle be $w,$ and let...      \\frac{20000}{\\pi}   \n376  If $P$ is equidistant from $A$ and $O$, it mus...                 (8,-2)   \n261  If $AB$ is a diameter, that means the triangle...               76^\\circ   \n67   Let $A$ be the area of the square. The lengths...                     10   \n239  Two vertices of the first parallelogram are at...                     16   \n368  The Triangle Inequality says that the sum of t...                     31   \n72   The volume of a sphere is $\\frac{4}{3}\\pi r^3$...                      3   \n\n                  subject                                              level  \\\n222              Geometry  High-Level Math Competition Problems; Regional...   \n308              Geometry  Advanced Math Competitions; International Olym...   \n299              Geometry  High-Level Math Competition Problems; Regional...   \n169              Geometry                      Foundational High-School Math   \n123              Geometry  High-Level Math Competition Problems; Regional...   \n152              Geometry  Advanced Math Competitions; International Olym...   \n154              Geometry  Advanced Math Competitions; International Olym...   \n100              Geometry  Advanced Math Competitions; International Olym...   \n129              Geometry  Advanced Math Competitions; International Olym...   \n264              Geometry  Advanced Math Competitions; International Olym...   \n274              Geometry  Advanced Math Competitions; International Olym...   \n41               Geometry  High-Level Math Competition Problems; Regional...   \n476            Prealgebra                      Foundational High-School Math   \n179           Precalculus  High-Level Math Competition Problems; Regional...   \n192              Geometry  High-School Intermediate Level Competition Mat...   \n243              Geometry                      Foundational High-School Math   \n267              Geometry                                Basic Math Concepts   \n426              Geometry  High-School Intermediate Level Competition Mat...   \n382  Intermediate Algebra  Advanced Math Competitions; International Olym...   \n376              Geometry  High-Level Math Competition Problems; Regional...   \n261              Geometry  High-School Intermediate Level Competition Mat...   \n67             Prealgebra  High-Level Math Competition Problems; Regional...   \n239              Geometry  Advanced Math Competitions; International Olym...   \n368              Geometry                      Foundational High-School Math   \n72               Geometry                      Foundational High-School Math   \n\n                               unique_id  original_level  problem_char_count  \\\n222               test/geometry/547.json               4                 342   \n308               test/geometry/711.json               5                 203   \n299              test/geometry/1097.json               4                 156   \n169               test/geometry/802.json               2                  98   \n123               test/geometry/283.json               4                 568   \n152               test/geometry/172.json               5                 260   \n154               test/geometry/880.json               5                 546   \n100               test/geometry/183.json               5                 409   \n129              test/geometry/1140.json               5                 143   \n264               test/geometry/826.json               5                 619   \n274               test/geometry/686.json               5                 235   \n41                test/geometry/627.json               4                 117   \n476            test/prealgebra/1252.json               2                 277   \n179            test/precalculus/659.json               4                 237   \n192               test/geometry/221.json               3                 101   \n243               test/geometry/254.json               2                 157   \n267               test/geometry/226.json               1                 500   \n426               test/geometry/843.json               3                 390   \n382  test/intermediate_algebra/1111.json               5                 489   \n376               test/geometry/538.json               4                 210   \n261               test/geometry/347.json               3                 140   \n67             test/prealgebra/1233.json               4                 204   \n239               test/geometry/229.json               5                 296   \n368               test/geometry/106.json               2                 162   \n72                test/geometry/456.json               2                 156   \n\n     solution_char_count  subject_char_count  ...  \\\n222                  424                   8  ...   \n308                  375                   8  ...   \n299                  387                   8  ...   \n169                  337                   8  ...   \n123                  587                   8  ...   \n152                  873                   8  ...   \n154                 3356                   8  ...   \n100                 1259                   8  ...   \n129                  621                   8  ...   \n264                 1352                   8  ...   \n274                 1677                   8  ...   \n41                  1041                   8  ...   \n476                  227                  10  ...   \n179                  915                  11  ...   \n192                  598                   8  ...   \n243                  157                   8  ...   \n267                  301                   8  ...   \n426                 1134                   8  ...   \n382                  808                  20  ...   \n376                  641                   8  ...   \n261                  236                   8  ...   \n67                   269                  10  ...   \n239                 1317                   8  ...   \n368                  334                   8  ...   \n72                   219                   8  ...   \n\n                                    problem_translated  \\\n222  Площа $\\трикутника ABC$ дорівнює 6 квадратних ...   \n308  Нехай $ABCD$ - правильний тетраедр зі стороною...   \n299  Розглянемо прямокутник з вершинами $(5,4),$ $(...   \n169  Скільки квадратних одиниць міститься у площі т...   \n123  На рисунку $D$ і $E$ - середини відрізків $\\ov...   \n152  Медіани $AD$, $BE$ і $CF$ трикутника $ABC$ пер...   \n154  Гекон знаходиться у кімнаті довжиною 12 футів,...   \n100  У коло вписано шестикутник: [asy].\\nпара pA, p...   \n129  У трикутнику $ABC$, $AB = 17$, $AC = 8$ і $BC ...   \n264  На рисунку нижче чотирикутник $CDEG$ є квадрат...   \n274  Нехай $S$ - це об'єднання множини всіх точок в...   \n41   Координати паралелограма: (5, 3), (6, 8), (7, ...   \n476  Джим і Марта стоять разом на розі прямокутного...   \n179  Знайти рівняння площини, яка містить точки $(0...   \n192  У $\\triangle PQR$ маємо $PQ = QR = 34$ і $PR =...   \n243  Трикутник має сторони, довжини яких дорівнюють...   \n267  У колі $J$, $HO$ і $HN$ проведені дотичні до к...   \n426  Квадрат і рівносторонній трикутник мають рівні...   \n382  Прямокутне поле оточене легкоатлетичною доріжк...   \n376  Визначте координати точки $P$ на прямій $y=-x+...   \n261  Трикутник $\\triangle ABC$ з $\\angle A = 14^\\ci...   \n67   Довжини двох протилежних сторін квадрата зменш...   \n239  Паралелограм, обмежений прямими $y=ax+c$, $y=a...   \n368  Дві сторони трикутника мають довжину по $8$ од...   \n72   Яка довжина в одиницях радіуса сфери, об'єм і ...   \n\n                                   solution_translated    subject_translated  \\\n222  Оскільки $AB \\паралельний DE,$ ми знаємо, що $...             Геометрія   \n308  Площина перетинає кожну грань тетраедра по сер...             Геометрія   \n299  Точки з цілочисельними координатами називаютьс...             Геометрія   \n169  Цей трикутник рівнобедрений, тому висота, пров...             Геометрія   \n123  Трикутник $\\triangle DBC$ має основу $\\overlin...             Геометрія   \n152  Оскільки $E$ є серединою $AC$, то площа трикут...             Геометрія   \n154  [asy]\\nімпортувати три;\\ncurrentprojection=ort...             Геометрія   \n100  Позначення наших вершин дуже допоможе, так сам...             Геометрія   \n129  За теоремою Піфагора, $\\кут C = 90^\\circ$.  Тр...             Геометрія   \n264  Нехай $J$ є перетином $\\overline{BE}$ та $\\ove...             Геометрія   \n274  $S$ виглядає як нонагон зі злегка заокругленим...             Геометрія   \n41   Назвіть точки $A(5,3)$, $B(6,8)$, $C(7,4)$ та ...             Геометрія   \n476  Діагональ поля дорівнює $\\sqrt{300^2+400^2}=50...            Преалгебра   \n179  Нехай $\\mathbf{a} = \\begin{pmatrix} 0 \\\\ -1 \\\\...  Попереднє обчислення   \n192  Оскільки $\\трикутник PQR$ рівнобедрений з $PQ=...             Геометрія   \n243  Назвемо довжину третьої сторони $n$. За нерівн...             Геометрія   \n267  Оскільки $\\overline{OH}$ і $\\overline{NH}$ є д...             Геометрія   \n426  Якщо нехай $x = $ довжина сторони трикутника, ...             Геометрія   \n382  Нехай ширина прямокутника дорівнює $w,$, а рад...      Проміжна алгебра   \n376  Якщо точка $P$ рівновіддалена від точок $A$ і ...             Геометрія   \n261  Якщо $AB$ є діаметром, то це означає, що трику...             Геометрія   \n67   Нехай $A$ - площа квадрата. Довжини однієї пар...            Преалгебра   \n239  Дві вершини першого паралелограма знаходяться ...             Геометрія   \n368  Нерівність трикутника говорить, що сума довжин...             Геометрія   \n72   Об'єм кулі дорівнює $\\frac{4}{3}\\pi r^3$, а пл...             Геометрія   \n\n                                      level_translated  \\\n222  Математичні олімпіадні задачі високого рівня; ...   \n308  Поглиблені математичні змагання; міжнародна ол...   \n299  Математичні олімпіадні задачі високого рівня; ...   \n169      Фундаментальна математика для середньої школи   \n123  Математичні олімпіадні задачі високого рівня; ...   \n152  Поглиблені математичні змагання; міжнародна ол...   \n154  Поглиблені математичні змагання; міжнародна ол...   \n100  Поглиблені математичні змагання; міжнародна ол...   \n129  Поглиблені математичні змагання; міжнародна ол...   \n264  Поглиблені математичні змагання; міжнародна ол...   \n274  Поглиблені математичні змагання; міжнародна ол...   \n41   Математичні олімпіадні задачі високого рівня; ...   \n476      Фундаментальна математика для середньої школи   \n179  Математичні олімпіадні задачі високого рівня; ...   \n192  Олімпіада з математики для середнього рівня дл...   \n243      Фундаментальна математика для середньої школи   \n267                        Основні математичні поняття   \n426  Олімпіада з математики для середнього рівня дл...   \n382  Поглиблені математичні змагання; міжнародна ол...   \n376  Математичні олімпіадні задачі високого рівня; ...   \n261  Олімпіада з математики для середнього рівня дл...   \n67   Математичні олімпіадні задачі високого рівня; ...   \n239  Поглиблені математичні змагання; міжнародна ол...   \n368      Фундаментальна математика для середньої школи   \n72       Фундаментальна математика для середньої школи   \n\n    problem_translated_token_count  solution_translated_token_count  \\\n222                            176                              272   \n308                            117                              191   \n299                             85                              209   \n169                             62                              225   \n123                            271                              318   \n152                            145                              453   \n154                            329                             1887   \n100                            199                              629   \n129                             73                              305   \n264                            335                              768   \n274                            141                              948   \n41                              60                              540   \n476                            131                              128   \n179                            136                              423   \n192                             50                              314   \n243                            110                              101   \n267                            217                              146   \n426                            224                              624   \n382                            243                              425   \n376                            118                              387   \n261                             58                              121   \n67                             104                              142   \n239                            155                              705   \n368                             89                              200   \n72                              81                              136   \n\n     subject_translated_token_count  level_translated_token_count  \\\n222                               7                            50   \n308                               7                            56   \n299                               7                            50   \n169                               7                            23   \n123                               7                            50   \n152                               7                            56   \n154                               7                            56   \n100                               7                            56   \n129                               7                            56   \n264                               7                            56   \n274                               7                            56   \n41                                7                            50   \n476                               6                            23   \n179                              12                            50   \n192                               7                            34   \n243                               7                            23   \n267                               7                            16   \n426                               7                            34   \n382                              10                            56   \n376                               7                            50   \n261                               7                            34   \n67                                6                            50   \n239                               7                            56   \n368                               7                            23   \n72                                7                            23   \n\n                                        embedding_text  \\\n222  Математичні олімпіадні задачі високого рівня; ...   \n308  Поглиблені математичні змагання; міжнародна ол...   \n299  Математичні олімпіадні задачі високого рівня; ...   \n169  Фундаментальна математика для середньої школи\\...   \n123  Математичні олімпіадні задачі високого рівня; ...   \n152  Поглиблені математичні змагання; міжнародна ол...   \n154  Поглиблені математичні змагання; міжнародна ол...   \n100  Поглиблені математичні змагання; міжнародна ол...   \n129  Поглиблені математичні змагання; міжнародна ол...   \n264  Поглиблені математичні змагання; міжнародна ол...   \n274  Поглиблені математичні змагання; міжнародна ол...   \n41   Математичні олімпіадні задачі високого рівня; ...   \n476  Фундаментальна математика для середньої школи\\...   \n179  Математичні олімпіадні задачі високого рівня; ...   \n192  Олімпіада з математики для середнього рівня дл...   \n243  Фундаментальна математика для середньої школи\\...   \n267  Основні математичні поняття\\nГеометрія\\nУ колі...   \n426  Олімпіада з математики для середнього рівня дл...   \n382  Поглиблені математичні змагання; міжнародна ол...   \n376  Математичні олімпіадні задачі високого рівня; ...   \n261  Олімпіада з математики для середнього рівня дл...   \n67   Математичні олімпіадні задачі високого рівня; ...   \n239  Поглиблені математичні змагання; міжнародна ол...   \n368  Фундаментальна математика для середньої школи\\...   \n72   Фундаментальна математика для середньої школи\\...   \n\n                                             embedding  \n222  [0.010712559334933758, -0.007907348684966564, ...  \n308  [0.008417361415922642, 0.000720419455319643, 5...  \n299  [-0.0031878254376351833, -0.003637160174548626...  \n169  [0.021239973604679108, 0.022146791219711304, 0...  \n123  [0.008777080103754997, -0.00464252894744277, -...  \n152  [0.010307596065104008, -0.0026040917728096247,...  \n154  [-0.005317579489201307, 0.01098331343382597, -...  \n100  [0.008953087031841278, -0.008230245672166348, ...  \n129  [0.004543466027826071, -0.0061322464607656, 0....  \n264  [-0.005745587404817343, -0.002533208578824997,...  \n274  [0.00911207776516676, 0.010200942866504192, 0....  \n41   [-0.00790895614773035, -0.010039271786808968, ...  \n476  [0.011948387138545513, 0.01732580177485943, -0...  \n179  [0.0026531366165727377, 0.009113087318837643, ...  \n192  [0.020815491676330566, 0.0028605533298105, 0.0...  \n243  [0.01385931670665741, 0.016113074496388435, 0....  \n267  [0.0035390304401516914, 0.0073977564461529255,...  \n426  [0.010262595489621162, 0.012190022505819798, -...  \n382  [0.010249917395412922, 0.006011402700096369, -...  \n376  [-0.010705342516303062, -0.007595266681164503,...  \n261  [0.0025655964855104685, -0.004616189282387495,...  \n67   [0.00012971088290214539, 0.011747276410460472,...  \n239  [-0.005379538983106613, -0.005849181208759546,...  \n368  [0.007907223887741566, 0.024386880919337273, -...  \n72   [0.04297228902578354, 0.017586568370461464, -0...  \n\n[25 rows x 21 columns]",
      "text/html": "<div>\n<style scoped>\n    .dataframe tbody tr th:only-of-type {\n        vertical-align: middle;\n    }\n\n    .dataframe tbody tr th {\n        vertical-align: top;\n    }\n\n    .dataframe thead th {\n        text-align: right;\n    }\n</style>\n<table border=\"1\" class=\"dataframe\">\n  <thead>\n    <tr style=\"text-align: right;\">\n      <th></th>\n      <th>problem</th>\n      <th>solution</th>\n      <th>answer</th>\n      <th>subject</th>\n      <th>level</th>\n      <th>unique_id</th>\n      <th>original_level</th>\n      <th>problem_char_count</th>\n      <th>solution_char_count</th>\n      <th>subject_char_count</th>\n      <th>...</th>\n      <th>problem_translated</th>\n      <th>solution_translated</th>\n      <th>subject_translated</th>\n      <th>level_translated</th>\n      <th>problem_translated_token_count</th>\n      <th>solution_translated_token_count</th>\n      <th>subject_translated_token_count</th>\n      <th>level_translated_token_count</th>\n      <th>embedding_text</th>\n      <th>embedding</th>\n    </tr>\n  </thead>\n  <tbody>\n    <tr>\n      <th>222</th>\n      <td>The area of $\\triangle ABC$ is 6 square centim...</td>\n      <td>Since $AB \\parallel DE,$ we know that $\\angle ...</td>\n      <td>54</td>\n      <td>Geometry</td>\n      <td>High-Level Math Competition Problems; Regional...</td>\n      <td>test/geometry/547.json</td>\n      <td>4</td>\n      <td>342</td>\n      <td>424</td>\n      <td>8</td>\n      <td>...</td>\n      <td>Площа $\\трикутника ABC$ дорівнює 6 квадратних ...</td>\n      <td>Оскільки $AB \\паралельний DE,$ ми знаємо, що $...</td>\n      <td>Геометрія</td>\n      <td>Математичні олімпіадні задачі високого рівня; ...</td>\n      <td>176</td>\n      <td>272</td>\n      <td>7</td>\n      <td>50</td>\n      <td>Математичні олімпіадні задачі високого рівня; ...</td>\n      <td>[0.010712559334933758, -0.007907348684966564, ...</td>\n    </tr>\n    <tr>\n      <th>308</th>\n      <td>Let $ABCD$ be a regular tetrahedron with side ...</td>\n      <td>The plane intersects each face of the tetrahed...</td>\n      <td>1+2\\sqrt{3}</td>\n      <td>Geometry</td>\n      <td>Advanced Math Competitions; International Olym...</td>\n      <td>test/geometry/711.json</td>\n      <td>5</td>\n      <td>203</td>\n      <td>375</td>\n      <td>8</td>\n      <td>...</td>\n      <td>Нехай $ABCD$ - правильний тетраедр зі стороною...</td>\n      <td>Площина перетинає кожну грань тетраедра по сер...</td>\n      <td>Геометрія</td>\n      <td>Поглиблені математичні змагання; міжнародна ол...</td>\n      <td>117</td>\n      <td>191</td>\n      <td>7</td>\n      <td>56</td>\n      <td>Поглиблені математичні змагання; міжнародна ол...</td>\n      <td>[0.008417361415922642, 0.000720419455319643, 5...</td>\n    </tr>\n    <tr>\n      <th>299</th>\n      <td>Consider the rectangle with vertices at $(5,4)...</td>\n      <td>Points with integer coordinates are called lat...</td>\n      <td>63</td>\n      <td>Geometry</td>\n      <td>High-Level Math Competition Problems; Regional...</td>\n      <td>test/geometry/1097.json</td>\n      <td>4</td>\n      <td>156</td>\n      <td>387</td>\n      <td>8</td>\n      <td>...</td>\n      <td>Розглянемо прямокутник з вершинами $(5,4),$ $(...</td>\n      <td>Точки з цілочисельними координатами називаютьс...</td>\n      <td>Геометрія</td>\n      <td>Математичні олімпіадні задачі високого рівня; ...</td>\n      <td>85</td>\n      <td>209</td>\n      <td>7</td>\n      <td>50</td>\n      <td>Математичні олімпіадні задачі високого рівня; ...</td>\n      <td>[-0.0031878254376351833, -0.003637160174548626...</td>\n    </tr>\n    <tr>\n      <th>169</th>\n      <td>What is the number of square units in the area...</td>\n      <td>This triangle is isosceles, and so the altitud...</td>\n      <td>12</td>\n      <td>Geometry</td>\n      <td>Foundational High-School Math</td>\n      <td>test/geometry/802.json</td>\n      <td>2</td>\n      <td>98</td>\n      <td>337</td>\n      <td>8</td>\n      <td>...</td>\n      <td>Скільки квадратних одиниць міститься у площі т...</td>\n      <td>Цей трикутник рівнобедрений, тому висота, пров...</td>\n      <td>Геометрія</td>\n      <td>Фундаментальна математика для середньої школи</td>\n      <td>62</td>\n      <td>225</td>\n      <td>7</td>\n      <td>23</td>\n      <td>Фундаментальна математика для середньої школи\\...</td>\n      <td>[0.021239973604679108, 0.022146791219711304, 0...</td>\n    </tr>\n    <tr>\n      <th>123</th>\n      <td>In the diagram, $D$ and $E$ are the midpoints ...</td>\n      <td>$\\triangle DBC$ has base $\\overline{BC}$ of le...</td>\n      <td>8</td>\n      <td>Geometry</td>\n      <td>High-Level Math Competition Problems; Regional...</td>\n      <td>test/geometry/283.json</td>\n      <td>4</td>\n      <td>568</td>\n      <td>587</td>\n      <td>8</td>\n      <td>...</td>\n      <td>На рисунку $D$ і $E$ - середини відрізків $\\ov...</td>\n      <td>Трикутник $\\triangle DBC$ має основу $\\overlin...</td>\n      <td>Геометрія</td>\n      <td>Математичні олімпіадні задачі високого рівня; ...</td>\n      <td>271</td>\n      <td>318</td>\n      <td>7</td>\n      <td>50</td>\n      <td>Математичні олімпіадні задачі високого рівня; ...</td>\n      <td>[0.008777080103754997, -0.00464252894744277, -...</td>\n    </tr>\n    <tr>\n      <th>152</th>\n      <td>The medians $AD$, $BE$, and $CF$ of triangle $...</td>\n      <td>Since $E$ is the midpoint of $AC$, the area of...</td>\n      <td>8</td>\n      <td>Geometry</td>\n      <td>Advanced Math Competitions; International Olym...</td>\n      <td>test/geometry/172.json</td>\n      <td>5</td>\n      <td>260</td>\n      <td>873</td>\n      <td>8</td>\n      <td>...</td>\n      <td>Медіани $AD$, $BE$ і $CF$ трикутника $ABC$ пер...</td>\n      <td>Оскільки $E$ є серединою $AC$, то площа трикут...</td>\n      <td>Геометрія</td>\n      <td>Поглиблені математичні змагання; міжнародна ол...</td>\n      <td>145</td>\n      <td>453</td>\n      <td>7</td>\n      <td>56</td>\n      <td>Поглиблені математичні змагання; міжнародна ол...</td>\n      <td>[0.010307596065104008, -0.0026040917728096247,...</td>\n    </tr>\n    <tr>\n      <th>154</th>\n      <td>A gecko is in a room that is 12 feet long, 10 ...</td>\n      <td>[asy]\\nimport three;\\ncurrentprojection=orthog...</td>\n      <td>2\\sqrt{113}</td>\n      <td>Geometry</td>\n      <td>Advanced Math Competitions; International Olym...</td>\n      <td>test/geometry/880.json</td>\n      <td>5</td>\n      <td>546</td>\n      <td>3356</td>\n      <td>8</td>\n      <td>...</td>\n      <td>Гекон знаходиться у кімнаті довжиною 12 футів,...</td>\n      <td>[asy]\\nімпортувати три;\\ncurrentprojection=ort...</td>\n      <td>Геометрія</td>\n      <td>Поглиблені математичні змагання; міжнародна ол...</td>\n      <td>329</td>\n      <td>1887</td>\n      <td>7</td>\n      <td>56</td>\n      <td>Поглиблені математичні змагання; міжнародна ол...</td>\n      <td>[-0.005317579489201307, 0.01098331343382597, -...</td>\n    </tr>\n    <tr>\n      <th>100</th>\n      <td>A hexagon is inscribed in a circle: [asy]\\npai...</td>\n      <td>Labeling our vertices will help a great deal, ...</td>\n      <td>145^\\circ</td>\n      <td>Geometry</td>\n      <td>Advanced Math Competitions; International Olym...</td>\n      <td>test/geometry/183.json</td>\n      <td>5</td>\n      <td>409</td>\n      <td>1259</td>\n      <td>8</td>\n      <td>...</td>\n      <td>У коло вписано шестикутник: [asy].\\nпара pA, p...</td>\n      <td>Позначення наших вершин дуже допоможе, так сам...</td>\n      <td>Геометрія</td>\n      <td>Поглиблені математичні змагання; міжнародна ол...</td>\n      <td>199</td>\n      <td>629</td>\n      <td>7</td>\n      <td>56</td>\n      <td>Поглиблені математичні змагання; міжнародна ол...</td>\n      <td>[0.008953087031841278, -0.008230245672166348, ...</td>\n    </tr>\n    <tr>\n      <th>129</th>\n      <td>In triangle $ABC$, $AB = 17$, $AC = 8$, and $B...</td>\n      <td>By Pythagoras, $\\angle C = 90^\\circ$.  Triangl...</td>\n      <td>\\frac{3840}{289}</td>\n      <td>Geometry</td>\n      <td>Advanced Math Competitions; International Olym...</td>\n      <td>test/geometry/1140.json</td>\n      <td>5</td>\n      <td>143</td>\n      <td>621</td>\n      <td>8</td>\n      <td>...</td>\n      <td>У трикутнику $ABC$, $AB = 17$, $AC = 8$ і $BC ...</td>\n      <td>За теоремою Піфагора, $\\кут C = 90^\\circ$.  Тр...</td>\n      <td>Геометрія</td>\n      <td>Поглиблені математичні змагання; міжнародна ол...</td>\n      <td>73</td>\n      <td>305</td>\n      <td>7</td>\n      <td>56</td>\n      <td>Поглиблені математичні змагання; міжнародна ол...</td>\n      <td>[0.004543466027826071, -0.0061322464607656, 0....</td>\n    </tr>\n    <tr>\n      <th>264</th>\n      <td>In the figure below, quadrilateral $CDEG$ is a...</td>\n      <td>Let $J$ be the intersection of $\\overline{BE}$...</td>\n      <td>1\\frac{4}{5}</td>\n      <td>Geometry</td>\n      <td>Advanced Math Competitions; International Olym...</td>\n      <td>test/geometry/826.json</td>\n      <td>5</td>\n      <td>619</td>\n      <td>1352</td>\n      <td>8</td>\n      <td>...</td>\n      <td>На рисунку нижче чотирикутник $CDEG$ є квадрат...</td>\n      <td>Нехай $J$ є перетином $\\overline{BE}$ та $\\ove...</td>\n      <td>Геометрія</td>\n      <td>Поглиблені математичні змагання; міжнародна ол...</td>\n      <td>335</td>\n      <td>768</td>\n      <td>7</td>\n      <td>56</td>\n      <td>Поглиблені математичні змагання; міжнародна ол...</td>\n      <td>[-0.005745587404817343, -0.002533208578824997,...</td>\n    </tr>\n    <tr>\n      <th>274</th>\n      <td>Let $S$ be the union of the set of all points ...</td>\n      <td>$S$ looks like a nonagon with slightly rounded...</td>\n      <td>18+2\\pi</td>\n      <td>Geometry</td>\n      <td>Advanced Math Competitions; International Olym...</td>\n      <td>test/geometry/686.json</td>\n      <td>5</td>\n      <td>235</td>\n      <td>1677</td>\n      <td>8</td>\n      <td>...</td>\n      <td>Нехай $S$ - це об'єднання множини всіх точок в...</td>\n      <td>$S$ виглядає як нонагон зі злегка заокругленим...</td>\n      <td>Геометрія</td>\n      <td>Поглиблені математичні змагання; міжнародна ол...</td>\n      <td>141</td>\n      <td>948</td>\n      <td>7</td>\n      <td>56</td>\n      <td>Поглиблені математичні змагання; міжнародна ол...</td>\n      <td>[0.00911207776516676, 0.010200942866504192, 0....</td>\n    </tr>\n    <tr>\n      <th>41</th>\n      <td>The coordinates of a parallelogram are (5, 3),...</td>\n      <td>Name the points $A(5,3)$, $B(6,8)$, $C(7,4)$, ...</td>\n      <td>17</td>\n      <td>Geometry</td>\n      <td>High-Level Math Competition Problems; Regional...</td>\n      <td>test/geometry/627.json</td>\n      <td>4</td>\n      <td>117</td>\n      <td>1041</td>\n      <td>8</td>\n      <td>...</td>\n      <td>Координати паралелограма: (5, 3), (6, 8), (7, ...</td>\n      <td>Назвіть точки $A(5,3)$, $B(6,8)$, $C(7,4)$ та ...</td>\n      <td>Геометрія</td>\n      <td>Математичні олімпіадні задачі високого рівня; ...</td>\n      <td>60</td>\n      <td>540</td>\n      <td>7</td>\n      <td>50</td>\n      <td>Математичні олімпіадні задачі високого рівня; ...</td>\n      <td>[-0.00790895614773035, -0.010039271786808968, ...</td>\n    </tr>\n    <tr>\n      <th>476</th>\n      <td>Jim and Martha are standing together at the co...</td>\n      <td>The diagonal of the field is $\\sqrt{300^2+400^...</td>\n      <td>200</td>\n      <td>Prealgebra</td>\n      <td>Foundational High-School Math</td>\n      <td>test/prealgebra/1252.json</td>\n      <td>2</td>\n      <td>277</td>\n      <td>227</td>\n      <td>10</td>\n      <td>...</td>\n      <td>Джим і Марта стоять разом на розі прямокутного...</td>\n      <td>Діагональ поля дорівнює $\\sqrt{300^2+400^2}=50...</td>\n      <td>Преалгебра</td>\n      <td>Фундаментальна математика для середньої школи</td>\n      <td>131</td>\n      <td>128</td>\n      <td>6</td>\n      <td>23</td>\n      <td>Фундаментальна математика для середньої школи\\...</td>\n      <td>[0.011948387138545513, 0.01732580177485943, -0...</td>\n    </tr>\n    <tr>\n      <th>179</th>\n      <td>Find the equation of the plane containing the ...</td>\n      <td>Let $\\mathbf{a} = \\begin{pmatrix} 0 \\\\ -1 \\\\ -...</td>\n      <td>5x - 7y + 11z + 4 = 0</td>\n      <td>Precalculus</td>\n      <td>High-Level Math Competition Problems; Regional...</td>\n      <td>test/precalculus/659.json</td>\n      <td>4</td>\n      <td>237</td>\n      <td>915</td>\n      <td>11</td>\n      <td>...</td>\n      <td>Знайти рівняння площини, яка містить точки $(0...</td>\n      <td>Нехай $\\mathbf{a} = \\begin{pmatrix} 0 \\\\ -1 \\\\...</td>\n      <td>Попереднє обчислення</td>\n      <td>Математичні олімпіадні задачі високого рівня; ...</td>\n      <td>136</td>\n      <td>423</td>\n      <td>12</td>\n      <td>50</td>\n      <td>Математичні олімпіадні задачі високого рівня; ...</td>\n      <td>[0.0026531366165727377, 0.009113087318837643, ...</td>\n    </tr>\n    <tr>\n      <th>192</th>\n      <td>In $\\triangle PQR$, we have $PQ = QR = 34$ and...</td>\n      <td>Because $\\triangle PQR$ is isosceles with $PQ=...</td>\n      <td>30</td>\n      <td>Geometry</td>\n      <td>High-School Intermediate Level Competition Mat...</td>\n      <td>test/geometry/221.json</td>\n      <td>3</td>\n      <td>101</td>\n      <td>598</td>\n      <td>8</td>\n      <td>...</td>\n      <td>У $\\triangle PQR$ маємо $PQ = QR = 34$ і $PR =...</td>\n      <td>Оскільки $\\трикутник PQR$ рівнобедрений з $PQ=...</td>\n      <td>Геометрія</td>\n      <td>Олімпіада з математики для середнього рівня дл...</td>\n      <td>50</td>\n      <td>314</td>\n      <td>7</td>\n      <td>34</td>\n      <td>Олімпіада з математики для середнього рівня дл...</td>\n      <td>[0.020815491676330566, 0.0028605533298105, 0.0...</td>\n    </tr>\n    <tr>\n      <th>243</th>\n      <td>A triangle has sides measuring 1 unit and 3 un...</td>\n      <td>Call the length of the third side $n$. By the ...</td>\n      <td>3</td>\n      <td>Geometry</td>\n      <td>Foundational High-School Math</td>\n      <td>test/geometry/254.json</td>\n      <td>2</td>\n      <td>157</td>\n      <td>157</td>\n      <td>8</td>\n      <td>...</td>\n      <td>Трикутник має сторони, довжини яких дорівнюють...</td>\n      <td>Назвемо довжину третьої сторони $n$. За нерівн...</td>\n      <td>Геометрія</td>\n      <td>Фундаментальна математика для середньої школи</td>\n      <td>110</td>\n      <td>101</td>\n      <td>7</td>\n      <td>23</td>\n      <td>Фундаментальна математика для середньої школи\\...</td>\n      <td>[0.01385931670665741, 0.016113074496388435, 0....</td>\n    </tr>\n    <tr>\n      <th>267</th>\n      <td>In circle $J$, $HO$ and $HN$ are tangent to th...</td>\n      <td>Since $\\overline{OH}$ and $\\overline{NH}$ are ...</td>\n      <td>180^\\circ</td>\n      <td>Geometry</td>\n      <td>Basic Math Concepts</td>\n      <td>test/geometry/226.json</td>\n      <td>1</td>\n      <td>500</td>\n      <td>301</td>\n      <td>8</td>\n      <td>...</td>\n      <td>У колі $J$, $HO$ і $HN$ проведені дотичні до к...</td>\n      <td>Оскільки $\\overline{OH}$ і $\\overline{NH}$ є д...</td>\n      <td>Геометрія</td>\n      <td>Основні математичні поняття</td>\n      <td>217</td>\n      <td>146</td>\n      <td>7</td>\n      <td>16</td>\n      <td>Основні математичні поняття\\nГеометрія\\nУ колі...</td>\n      <td>[0.0035390304401516914, 0.0073977564461529255,...</td>\n    </tr>\n    <tr>\n      <th>426</th>\n      <td>A square and an equilateral triangle have\\tequ...</td>\n      <td>If we let $x = $ the side length of the triang...</td>\n      <td>6\\sqrt{2}</td>\n      <td>Geometry</td>\n      <td>High-School Intermediate Level Competition Mat...</td>\n      <td>test/geometry/843.json</td>\n      <td>3</td>\n      <td>390</td>\n      <td>1134</td>\n      <td>8</td>\n      <td>...</td>\n      <td>Квадрат і рівносторонній трикутник мають рівні...</td>\n      <td>Якщо нехай $x = $ довжина сторони трикутника, ...</td>\n      <td>Геометрія</td>\n      <td>Олімпіада з математики для середнього рівня дл...</td>\n      <td>224</td>\n      <td>624</td>\n      <td>7</td>\n      <td>34</td>\n      <td>Олімпіада з математики для середнього рівня дл...</td>\n      <td>[0.010262595489621162, 0.012190022505819798, -...</td>\n    </tr>\n    <tr>\n      <th>382</th>\n      <td>A rectangular field is enclosed in an athletic...</td>\n      <td>Let the width of the rectangle be $w,$ and let...</td>\n      <td>\\frac{20000}{\\pi}</td>\n      <td>Intermediate Algebra</td>\n      <td>Advanced Math Competitions; International Olym...</td>\n      <td>test/intermediate_algebra/1111.json</td>\n      <td>5</td>\n      <td>489</td>\n      <td>808</td>\n      <td>20</td>\n      <td>...</td>\n      <td>Прямокутне поле оточене легкоатлетичною доріжк...</td>\n      <td>Нехай ширина прямокутника дорівнює $w,$, а рад...</td>\n      <td>Проміжна алгебра</td>\n      <td>Поглиблені математичні змагання; міжнародна ол...</td>\n      <td>243</td>\n      <td>425</td>\n      <td>10</td>\n      <td>56</td>\n      <td>Поглиблені математичні змагання; міжнародна ол...</td>\n      <td>[0.010249917395412922, 0.006011402700096369, -...</td>\n    </tr>\n    <tr>\n      <th>376</th>\n      <td>Determine the coordinates of the point $P$ on ...</td>\n      <td>If $P$ is equidistant from $A$ and $O$, it mus...</td>\n      <td>(8,-2)</td>\n      <td>Geometry</td>\n      <td>High-Level Math Competition Problems; Regional...</td>\n      <td>test/geometry/538.json</td>\n      <td>4</td>\n      <td>210</td>\n      <td>641</td>\n      <td>8</td>\n      <td>...</td>\n      <td>Визначте координати точки $P$ на прямій $y=-x+...</td>\n      <td>Якщо точка $P$ рівновіддалена від точок $A$ і ...</td>\n      <td>Геометрія</td>\n      <td>Математичні олімпіадні задачі високого рівня; ...</td>\n      <td>118</td>\n      <td>387</td>\n      <td>7</td>\n      <td>50</td>\n      <td>Математичні олімпіадні задачі високого рівня; ...</td>\n      <td>[-0.010705342516303062, -0.007595266681164503,...</td>\n    </tr>\n    <tr>\n      <th>261</th>\n      <td>A triangle $\\triangle ABC$ with $\\angle A = 14...</td>\n      <td>If $AB$ is a diameter, that means the triangle...</td>\n      <td>76^\\circ</td>\n      <td>Geometry</td>\n      <td>High-School Intermediate Level Competition Mat...</td>\n      <td>test/geometry/347.json</td>\n      <td>3</td>\n      <td>140</td>\n      <td>236</td>\n      <td>8</td>\n      <td>...</td>\n      <td>Трикутник $\\triangle ABC$ з $\\angle A = 14^\\ci...</td>\n      <td>Якщо $AB$ є діаметром, то це означає, що трику...</td>\n      <td>Геометрія</td>\n      <td>Олімпіада з математики для середнього рівня дл...</td>\n      <td>58</td>\n      <td>121</td>\n      <td>7</td>\n      <td>34</td>\n      <td>Олімпіада з математики для середнього рівня дл...</td>\n      <td>[0.0025655964855104685, -0.004616189282387495,...</td>\n    </tr>\n    <tr>\n      <th>67</th>\n      <td>The lengths of two opposite sides of a square ...</td>\n      <td>Let $A$ be the area of the square. The lengths...</td>\n      <td>10</td>\n      <td>Prealgebra</td>\n      <td>High-Level Math Competition Problems; Regional...</td>\n      <td>test/prealgebra/1233.json</td>\n      <td>4</td>\n      <td>204</td>\n      <td>269</td>\n      <td>10</td>\n      <td>...</td>\n      <td>Довжини двох протилежних сторін квадрата зменш...</td>\n      <td>Нехай $A$ - площа квадрата. Довжини однієї пар...</td>\n      <td>Преалгебра</td>\n      <td>Математичні олімпіадні задачі високого рівня; ...</td>\n      <td>104</td>\n      <td>142</td>\n      <td>6</td>\n      <td>50</td>\n      <td>Математичні олімпіадні задачі високого рівня; ...</td>\n      <td>[0.00012971088290214539, 0.011747276410460472,...</td>\n    </tr>\n    <tr>\n      <th>239</th>\n      <td>The parallelogram bounded by the lines $y=ax+c...</td>\n      <td>Two vertices of the first parallelogram are at...</td>\n      <td>16</td>\n      <td>Geometry</td>\n      <td>Advanced Math Competitions; International Olym...</td>\n      <td>test/geometry/229.json</td>\n      <td>5</td>\n      <td>296</td>\n      <td>1317</td>\n      <td>8</td>\n      <td>...</td>\n      <td>Паралелограм, обмежений прямими $y=ax+c$, $y=a...</td>\n      <td>Дві вершини першого паралелограма знаходяться ...</td>\n      <td>Геометрія</td>\n      <td>Поглиблені математичні змагання; міжнародна ол...</td>\n      <td>155</td>\n      <td>705</td>\n      <td>7</td>\n      <td>56</td>\n      <td>Поглиблені математичні змагання; міжнародна ол...</td>\n      <td>[-0.005379538983106613, -0.005849181208759546,...</td>\n    </tr>\n    <tr>\n      <th>368</th>\n      <td>Two sides of a triangle are each $8$ units lon...</td>\n      <td>The Triangle Inequality says that the sum of t...</td>\n      <td>31</td>\n      <td>Geometry</td>\n      <td>Foundational High-School Math</td>\n      <td>test/geometry/106.json</td>\n      <td>2</td>\n      <td>162</td>\n      <td>334</td>\n      <td>8</td>\n      <td>...</td>\n      <td>Дві сторони трикутника мають довжину по $8$ од...</td>\n      <td>Нерівність трикутника говорить, що сума довжин...</td>\n      <td>Геометрія</td>\n      <td>Фундаментальна математика для середньої школи</td>\n      <td>89</td>\n      <td>200</td>\n      <td>7</td>\n      <td>23</td>\n      <td>Фундаментальна математика для середньої школи\\...</td>\n      <td>[0.007907223887741566, 0.024386880919337273, -...</td>\n    </tr>\n    <tr>\n      <th>72</th>\n      <td>What is the length, in units, of the radius of...</td>\n      <td>The volume of a sphere is $\\frac{4}{3}\\pi r^3$...</td>\n      <td>3</td>\n      <td>Geometry</td>\n      <td>Foundational High-School Math</td>\n      <td>test/geometry/456.json</td>\n      <td>2</td>\n      <td>156</td>\n      <td>219</td>\n      <td>8</td>\n      <td>...</td>\n      <td>Яка довжина в одиницях радіуса сфери, об'єм і ...</td>\n      <td>Об'єм кулі дорівнює $\\frac{4}{3}\\pi r^3$, а пл...</td>\n      <td>Геометрія</td>\n      <td>Фундаментальна математика для середньої школи</td>\n      <td>81</td>\n      <td>136</td>\n      <td>7</td>\n      <td>23</td>\n      <td>Фундаментальна математика для середньої школи\\...</td>\n      <td>[0.04297228902578354, 0.017586568370461464, -0...</td>\n    </tr>\n  </tbody>\n</table>\n<p>25 rows × 21 columns</p>\n</div>"
     },
     "execution_count": 11,
     "metadata": {},
     "output_type": "execute_result"
    }
   ],
   "source": [
    "def similarity_search(query: str, top_k: int, similarity_threshold: float = 0.7) -> pd.DataFrame:\n",
    "    query_embedding = np.array(get_embedding(query, model=model)).astype('float32').reshape(1, -1)\n",
    "\n",
    "    # Normalize the query embedding\n",
    "    faiss.normalize_L2(query_embedding)\n",
    "\n",
    "    # Perform the search to retrieve top k similar embeddings\n",
    "    distances, indices = index.search(query_embedding, top_k)\n",
    "\n",
    "    # Convert distances to cosine similarities\n",
    "    # Since embeddings are normalized, the inner product is equivalent to cosine similarity\n",
    "    cosine_similarities = distances[0]\n",
    "\n",
    "\n",
    "    # Filter results based on the similarity threshold\n",
    "    filtered_indices = indices[0][cosine_similarities >= similarity_threshold]\n",
    "\n",
    "    # Retrieve corresponding texts\n",
    "    similar_texts = inference_df.iloc[filtered_indices]\n",
    "\n",
    "    return similar_texts\n",
    "\n",
    "similar_examples_df = similarity_search(\n",
    "    query=\"Задача по геометрії\",\n",
    "    top_k=25,\n",
    "    similarity_threshold=0.75\n",
    ")\n",
    "similar_examples_df"
   ],
   "metadata": {
    "collapsed": false,
    "ExecuteTime": {
     "end_time": "2025-01-08T18:46:01.195832Z",
     "start_time": "2025-01-08T18:46:00.816040Z"
    }
   }
  },
  {
   "cell_type": "code",
   "execution_count": 24,
   "outputs": [
    {
     "data": {
      "text/plain": "<IPython.core.display.Markdown object>",
      "text/markdown": "\nТематика:\nГеометрія\n\nПроблема:\nПлоща $\\трикутника ABC$ дорівнює 6 квадратних сантиметрів. $\\overline{AB}\\|\\overline{DE}$. $BD=4BC$. Скільки квадратних сантиметрів у площі $\\трикутника CDE$? \n\nВирішення:\nОскільки $AB \\паралельний DE,$ ми знаємо, що $\\кут A = \\кут E$ і $\\кут B = \\кут D.$ Це чудово працює, оскільки це означає, що $\\трикутник ABC \\sim EDC.$ Якщо $BD = 4BC,$ це означає, що $CD = BD - BC = 3BC.$ Отже, відношення сторін у $ABC$ до $EDC$ дорівнює $1:3,$ а це означає, що відношення їх площ дорівнює $1:9.\n\nОскільки площа $\\трикутника ABC$ дорівнює $6\\text{cm}^2,$ то площа $\\трикутника CDE$ дорівнює $\\boxed{54}\\text{cm}^2.$\n\nВідповідь:\n54\n\n"
     },
     "metadata": {},
     "output_type": "display_data"
    },
    {
     "data": {
      "text/plain": "<IPython.core.display.Markdown object>",
      "text/markdown": "\nТематика:\nГеометрія\n\nПроблема:\nНехай $ABCD$ - правильний тетраедр зі стороною 2. Площина, паралельна ребрам $AB$ і $CD$ і розташована на півдорозі між ними, розрізає $ABCD$ на дві частини. Знайдіть площу поверхні однієї з цих частин.\n\nВирішення:\nПлощина перетинає кожну грань тетраедра по середній лінії грані; з симетрії випливає, що у перетині площини з тетраедром утворюється квадрат зі стороною 1. Площа кожної фігури дорівнює половині загальної площі тетраедра плюс площа квадрата, тобто $\\frac{1}{2}\\cdot 4\\cdot \\frac{2^2 \\sqrt{3}}{4}+1=\\boxed{1+2\\sqrt{3}}$.\n\nВідповідь:\n1+2\\sqrt{3}\n\n"
     },
     "metadata": {},
     "output_type": "display_data"
    },
    {
     "data": {
      "text/plain": "<IPython.core.display.Markdown object>",
      "text/markdown": "\nТематика:\nГеометрія\n\nПроблема:\nРозглянемо прямокутник з вершинами $(5,4),$ $(5,-4),$ $(-5,4),$ $(-5,-4)$. Скільки цілочисельних координат буде знаходитись строго всередині прямокутної області?\n\nВирішення:\nТочки з цілочисельними координатами називаються точками решітки. Довжина прямокутника дорівнює $5 - (-5) = 10$ одиниць. Між двома вертикальними сторонами прямокутника буде 9 позицій решітки. Висота прямокутника дорівнює $4 - (-4) = 8$ одиниць. Між верхньою і нижньою сторонами прямокутника буде 7 позицій решітки. Всього буде $9 \\times 7 = \\boxed{63}$ точок решітки.\n\nВідповідь:\n63\n\n"
     },
     "metadata": {},
     "output_type": "display_data"
    },
    {
     "data": {
      "text/plain": "<IPython.core.display.Markdown object>",
      "text/markdown": "\nТематика:\nГеометрія\n\nПроблема:\nСкільки квадратних одиниць міститься у площі трикутника, сторони якого дорівнюють 5, 5 і 6 одиницям?\n\nВирішення:\nЦей трикутник рівнобедрений, тому висота, проведена до сторони з довжиною 6, повинна потрапити на цю сторону в її середині. Таким чином, наш трикутник розбивається на два прямокутних трикутника з гіпотенузою $5$ і однією стороною довжиною $3$. Таким чином, кожен з цих трикутників є трикутником $3-4-5$, і кожен з них має площу $\\frac{3 \\times 4}{2} = 6$, а загальна площа дорівнює $\\boxed{12}$.\n\nВідповідь:\n12\n\n"
     },
     "metadata": {},
     "output_type": "display_data"
    },
    {
     "data": {
      "text/plain": "<IPython.core.display.Markdown object>",
      "text/markdown": "\nТематика:\nГеометрія\n\nПроблема:\nНа рисунку $D$ і $E$ - середини відрізків $\\overline{AB}$ і $\\overline{BC}$ відповідно.  Знайдіть площу чотирикутника $DBEF$. \n\nВирішення:\nТрикутник $\\triangle DBC$ має основу $\\overline{BC}$ довжини 8 і висоту $\\overline{BD}$ довжини 3, тому його площа дорівнює $\\frac{1}{2}\\times8\\times 3=12$.\n\nПлоща чотирикутника $DBEF$ дорівнює площі $\\трикутника DBC$ мінус площа $\\трикутника FEC$.\n\nТрикутник $\\triangle FEC$ має основу $EC=BC-BE=8-4=4$. Висота $\\трикутника FEC$ дорівнює відстані по вертикалі від точки $F$ до осі $x$, яка дорівнює координаті $y$ точки $F$, або 2. Отже, площа $\\трикутника FEC$ дорівнює $\\frac{1}{2}\\times4\\times 2=4$.\n\nНарешті, площа чотирикутника $DBEF$ дорівнює $12-4=\\boxed{8}$.\n\nВідповідь:\n8\n\n"
     },
     "metadata": {},
     "output_type": "display_data"
    },
    {
     "data": {
      "text/plain": "<IPython.core.display.Markdown object>",
      "text/markdown": "\nТематика:\nГеометрія\n\nПроблема:\nМедіани $AD$, $BE$ і $CF$ трикутника $ABC$ перетинаються в точці центроїда $G$.  Пряма, що проходить через $G$ і паралельна $BC$, перетинає $AB$ і $AC$ в точках $M$ і $N$ відповідно.  Якщо площа трикутника $ABC$ дорівнює 144, то знайдіть площу трикутника $ENG$.\n\nВирішення:\nОскільки $E$ є серединою $AC$, то площа трикутника $BCE$ дорівнює половині площі трикутника $ABC$, або $144/2 = 72$.\n\n\n\nОскільки $GN$ паралельний $BC$, то трикутники $ENG$ і $ECB$ подібні.  Крім того, $G$ є центроїдом трикутника $ABC$, тому відношення подібності дорівнює $EG/EB = 1/3$.  Отже, площа трикутника $ENG$ дорівнює $72 \\cdot (1/3)^2 = \\boxed{8}$.\n\nВідповідь:\n8\n\n"
     },
     "metadata": {},
     "output_type": "display_data"
    },
    {
     "data": {
      "text/plain": "<IPython.core.display.Markdown object>",
      "text/markdown": "\nТематика:\nГеометрія\n\nПроблема:\nГекон знаходиться у кімнаті довжиною 12 футів, шириною 10 футів і висотою 8 футів. На даний момент гекон знаходиться на бічній стіні ($10^{\\prime}$ на $8^{\\prime}$), на відстані одного фута від стелі і одного фута від задньої стіни ($12^{\\prime}$ на $8^{\\prime}$). Гекон помітив муху на протилежній боковій стіні, на відстані одного фута від підлоги і одного фута від передньої стіни. Яку довжину найкоротшого шляху може пройти гекон, щоб дістатись до мухи, якщо припустити, що він не стрибає і може ходити лише по стелі та стінах? Сформулюйте відповідь у найпростішій радикальній формі.\n\nВирішення:\n На наведеній вище діаграмі зелена точка - це гекон, а фіолетова - муха. Ми можемо \"розгорнути\" стіни, вздовж яких рухався гекон, як показано нижче, щоб представити шлях гекона у двох вимірах. Це розгортання не змінює довжину шляху гекона, тому для того, щоб шлях гекона був мінімальним до розгортання, він повинен бути мінімальним після розгортання. Іншими словами, це має бути пряма лінія після розгортання. Тепер, окрім бічних стін, гекон може подорожувати по передній, задній та стелі. Припустимо, що з цих стін він ходить лише по передній. Стіни, по яких гекон ходив, розгортаються як такі:  Шлях гекона є гіпотенузою прямокутного трикутника з катетами 6 і 22, тому його довжина дорівнює $\\sqrt{6^2 + 22^2} = 2\\sqrt{3^2 + 11^2} = 2\\sqrt{130}$. За симетрією (гекон і муха знаходяться у кімнаті точно навпроти один одного), довжина шляху однакова, якщо гекон рухається лише вздовж задньої та бокових стін.\n\nТепер припустимо, що гекон рухається лише вздовж стелі та бічних стін. Ці стіни у розгорнутому вигляді стануть:  Шлях є гіпотенузою прямокутного трикутника з катетами 8 і 20, тому його довжина дорівнює $\\sqrt{8^2 + 20^2} = 2\\sqrt{4^2 + 10^2} = 2\\sqrt{116}$. (Ми збережемо цю форму, тому що так легше порівнювати з іншими випадками).\n\nНарешті, гекон може перетнути як стелю, так і передню стіну (або задню стіну; ці випадки дають однакові результати за симетрією). Тоді розгорнуті стіни виглядають так:  Шлях є гіпотенузою прямокутного трикутника з катетами 16 і 14, тому його довжина дорівнює $\\sqrt{16^2+14^2} = 2\\sqrt{8^2+7^2} = 2\\sqrt{113}$. З усіх трьох випадків це найменший, тому відповідь буде $\\boxed{2\\sqrt{113}}$.\n\nВідповідь:\n2\\sqrt{113}\n\n"
     },
     "metadata": {},
     "output_type": "display_data"
    },
    {
     "data": {
      "text/plain": "<IPython.core.display.Markdown object>",
      "text/markdown": "\nТематика:\nГеометрія\n\nПроблема:\nУ коло вписано шестикутник:  Яка міра $\\alpha$ у градусах?\n\nВирішення:\nПозначення наших вершин дуже допоможе, так само як і малювання декількох радіусів:  Перш за все, бачимо, що $\\кут ABC = 110^\\circ$ має бути половиною великої дуги ${AEC},$ тобто дуга ${AEC} = 2 \\cdot \\кут ABC.$ Тоді, мала дуга ${AC}$ має бути $360^\\circ - 2 \\cdot \\кут ABC = 360^\\circ - 2 \\cdot 110^\\circ = 140^\\circ.$\n\nАналогічно, мала дуга ${EA}$ повинна дорівнювати $360^\\circ - 2 \\cdot \\angle EFA = 360^\\circ - 2 \\cdot 105^\\circ = 150^\\circ,$ а мала дуга ${CE}$ дорівнює $360^\\circ - 2 \\alpha.$ Тепер, дуги ${AC},$ ${CE},$ і ${EA}$ повинні скласти в сумі $360^\\circ,$ що означає, що \\begin{align*}\n360^\\circ &= (360^\\circ - 2 \\alpha) + 140^\\circ + 150^\\circ\\\\\n360^\\circ &= 650^\\circ - 2\\alpha\\\\\n2\\alpha &= 290^\\circ\\\\\n\\alpha &= \\boxed{145^\\circ}.\n\\end{align*}\n\nВідповідь:\n145^\\circ\n\n"
     },
     "metadata": {},
     "output_type": "display_data"
    },
    {
     "data": {
      "text/plain": "<IPython.core.display.Markdown object>",
      "text/markdown": "\nТематика:\nГеометрія\n\nПроблема:\nУ трикутнику $ABC$, $AB = 17$, $AC = 8$ і $BC = 15$.  Нехай $D$ - основа висоти від $C$ до $AB$.  Знайдіть площу трикутника $ACD$.\n\nВирішення:\nЗа теоремою Піфагора, $\\кут C = 90^\\circ$.  Трикутники $ACD$ і $ABC$ подібні, тому \\[CD = BC \\cdot \\frac{AC}{AB} = 15 \\cdot \\frac{8}{17} = \\frac{120}{17},\\]і \\[AD = AC \\cdot \\frac{AC}{AB} = 8 \\cdot \\frac{8}{17} = \\frac{64}{17}.\\]\n\nОтже, площа трикутника $ACD$ дорівнює \\[\\frac{1}{2} \\cdot AD \\cdot CD = \\frac{1}{2} \\cdot \\frac{64}{17} \\cdot \\frac{120}{17} = \\boxed{\\frac{3840}{289}}.\\]\n\nВідповідь:\n\\frac{3840}{289}\n\n"
     },
     "metadata": {},
     "output_type": "display_data"
    },
    {
     "data": {
      "text/plain": "<IPython.core.display.Markdown object>",
      "text/markdown": "\nТематика:\nГеометрія\n\nПроблема:\nНа рисунку нижче чотирикутник $CDEG$ є квадратом з $CD = 3$, а чотирикутник $BEFH$ є прямокутником. Якщо $BE = 5$, то скільки одиниць містить $BH$? Виведіть відповідь у вигляді мішаного числа. \n\nВирішення:\nНехай $J$ є перетином $\\overline{BE}$ та $\\overline{GC}$. \n\nЗверніть увагу, що $BD=\\sqrt{BE^2-DE^2}=\\sqrt{5^2-3^2}=4$ одиниць.  За подібністю трикутників $BCJ$ і $BDE$ маємо \\[\n\\frac{CJ}{BC}=\\frac{DE}{BD},\n\\], яка після підстановки набуває вигляду \\[\n\\frac{CJ}{4-3}=\\frac{3}{4}.\n\\] Розв'язуємо, щоб знайти $CJ=\\frac{3}{4}$, з чого випливає, що $GJ=3-\\frac{3}{4}=\\frac{9}{4}$.  Застосовуючи теорему Піфагора до трикутника $GJE$, знаходимо $EJ=\\sqrt{3^2+\\left(\\frac{9}{4}\\right)^2}=\\frac{15}{4}$.  Позначимо $K$ як основу перпендикуляра, опущеного з $G$ на сторону $EJ$.  За подібністю трикутників $GKJ$ і $EGJ$ маємо \\[\n\\frac{GK}{GJ}=\\frac{EG}{EJ} \\що означає\n\\frac{GK}{\\frac{9}{4}}=\\frac{3}{\\frac{15}{4}},\n\\], яке ми розв'яжемо, щоб знайти $GK=\\frac{9}{5}$.  Оскільки $GKBH$ - прямокутник, то $BH=GK=\\frac{9}{5}=\\boxed{1\\frac{4}{5}}$ одиниць.\n\nВідповідь:\n1\\frac{4}{5}\n\n"
     },
     "metadata": {},
     "output_type": "display_data"
    },
    {
     "data": {
      "text/plain": "<IPython.core.display.Markdown object>",
      "text/markdown": "\nТематика:\nГеометрія\n\nПроблема:\nНехай $S$ - це об'єднання множини всіх точок всередині правильного правильного нонагона зі стороною $2$ одиниць і множини всіх точок, віддалених від будь-якої точки на периметрі нонагона на відстань менше $1$ одиниці.  Чому дорівнює периметр $S$ в одиницях?\n\nВирішення:\n$S$ виглядає як нонагон зі злегка заокругленими кутами.  Накреслимо сусідні сторони нонагона і подивимось на межу $S$:\n\n Ми можемо розбити частину $S$, що знаходиться за межами нонагона, на 9 прямокутників і 9 секторів кола, таким чином розбивши периметр $S$ на прямі лінії, що чергуються (синім кольором зверху), і криві дуги (червоним кольором зверху).  Периметр $S$ складається з дев'яти синіх ліній та дев'яти червоних дуг.\n\nКожен прямокутник має довжину сторони 1 і 2, тому кожна синя лінія має довжину 2 одиниці, а загальна довжина синьої частини периметра дорівнює $2\\cdot 9 = 18$ одиниць.\n\nНавколо кожної вершини нанокутника описано внутрішній кут, два прямих кути і кут кругового сектора, які складають 360 градусів.  Кути всередині нонагона дорівнюють $180(9-2)/9=140$ градусів.  Таким чином, кожен кут кругового сектора дорівнює $360-90-90-140=40$ градусів.  Кожен сектор має радіус 1 і довжину дуги $\\frac{40^\\circ}{360^\\circ}(2)(\\pi)(1)=\\frac{1}{9}(2\\pi)$, тому дев'ять таких секторів мають загальну довжину дуги $2\\pi$.  Таким чином, загальна довжина червоної частини периметра дорівнює $2\\pi$ одиниць.  (Зауважте, що це дорівнює периметру кола радіусом 1, який складають дев'ять секторів).\n\nНарешті, периметр $S$ дорівнює $\\boxed{18+2\\pi}$ одиниць.\n\nВідповідь:\n18+2\\pi\n\n"
     },
     "metadata": {},
     "output_type": "display_data"
    },
    {
     "data": {
      "text/plain": "<IPython.core.display.Markdown object>",
      "text/markdown": "\nТематика:\nГеометрія\n\nПроблема:\nКоординати паралелограма: (5, 3), (6, 8), (7, 4) і $(x, y)$ та $x > 7$. Чому дорівнює $x + y$?\n\nВирішення:\nНазвіть точки $A(5,3)$, $B(6,8)$, $C(7,4)$ та $D(x,y)$ і накресліть перші три.  Ми бачимо, що є три можливих місця для $D$ (див. рисунок).  Лише те, що праворуч, має координату $x$, більшу за 7. Оскільки $AC$ паралельна $BD$ і дорівнює їй по довжині, то $D$ знаходиться на дві одиниці правіше і на одну вище від $B$, так само як і $C$ знаходиться на дві одиниці правіше і на одну вище від $A$.  Отже, координати точки $D$ дорівнюють $(8,9)$, а $x+y=8+9=\\boxed{17}$.\n\n\n\nВідповідь:\n17\n\n"
     },
     "metadata": {},
     "output_type": "display_data"
    },
    {
     "data": {
      "text/plain": "<IPython.core.display.Markdown object>",
      "text/markdown": "\nТематика:\nПреалгебра\n\nПроблема:\nДжим і Марта стоять разом на розі прямокутного поля. Джим йде по діагоналі через поле. Марта потрапляє в ту саму точку, йдучи вздовж і впоперек поля. Ширина поля 300 футів, а довжина - 400 футів. На скільки футів менше, ніж Марта, пройшов Джим?\n\nВирішення:\nДіагональ поля дорівнює $\\sqrt{300^2+400^2}=500$ футів, тому Джим пройшов 500 футів. Дві сусідні сторони поля мають довжину $300+400=700$ футів, тому Марта проходить 700 футів. Джим проходить на $700-500=\\boxed{200}$ футів менше, ніж Марта.\n\nВідповідь:\n200\n\n"
     },
     "metadata": {},
     "output_type": "display_data"
    },
    {
     "data": {
      "text/plain": "<IPython.core.display.Markdown object>",
      "text/markdown": "\nТематика:\nПопереднє обчислення\n\nПроблема:\nЗнайти рівняння площини, яка містить точки $(0,-1,-1),$ $(-4,4,4),$ і $(4,5,1).$ Введіть відповідь у вигляді\n\\[Ax + By + Cz + D = 0,\\]де $A,$ $B,$ $C,$ $D$ - цілі числа, такі що $A > 0$ і $\\gcd(|A|,|B|,|C|,|D|) = 1.$\n\nВирішення:\nНехай $\\mathbf{a} = \\begin{pmatrix} 0 \\\\ -1 \\\\ -1 \\end{pmatrix},$ $\\mathbf{b} = \\begin{pmatrix} -4 \\\\ 4 \\\\ 4 \\end{pmatrix},$ і $\\mathbf{c} = \\begin{pmatrix} 4 \\\\ 5 \\\\ 1 \\end{pmatrix}.$ Тоді нормальний вектор площини ортогональний до обох\n\\[\\mathbf{b} - \\mathbf{a} = \\begin{pmatrix} -4 \\\\ 5 \\\\ 5 \\end{pmatrix}\\]і\n\\[\\mathbf{c} - \\mathbf{a} = \\begin{pmatrix} 4 \\\\ 6 \\\\ 2 \\end{pmatrix}:\n\\[\\begin{pmatrix} -4 \\\\ 5 \\\\ 5 \\end{pmatrix} \\times \\begin{pmatrix} 4 \\\\ 6 \\\\ 2 \\end{pmatrix} = \\begin{pmatrix} -20 \\\\ 28 \\\\ -44 \\end{pmatrix}.\\]Ми можемо масштабувати цей вектор і взяти $\\begin{pmatrix} 5 \\\\ -7 \\\\ 11 \\end{pmatrix}$ за нормальний вектор.  Тоді рівняння площини матиме вигляд\n\\[5x - 7y + 11z + D = 0.\\]Підставляючи координати будь-якої з точок, знаходимо, що рівняння площини має вигляд $\\boxed{5x - 7y + 11z + 4 = 0}.$\n\nВідповідь:\n5x - 7y + 11z + 4 = 0\n\n"
     },
     "metadata": {},
     "output_type": "display_data"
    },
    {
     "data": {
      "text/plain": "<IPython.core.display.Markdown object>",
      "text/markdown": "\nТематика:\nГеометрія\n\nПроблема:\nУ $\\triangle PQR$ маємо $PQ = QR = 34$ і $PR = 32$.  Знайдіть довжину медіани $\\overline{QM}$.\n\nВирішення:\nОскільки $\\трикутник PQR$ рівнобедрений з $PQ=QR$, медіана $\\overline{QM}$ також є висотою:\n\n\n\n\nМаємо $MP = PR/2 = 16$, тому прямокутний трикутник $PQM$ дає нам \\begin{align*}\nQM &= \\sqrt{PQ^2 - PM^2}\\\\\n&= \\sqrt{34^2 - 16^2}\\\\\n&= \\sqrt{(34-16)(34+16)}\\\\\n& = \\boxed{30}.\n\\end{align*} (Ми також могли помітити, що $PM/PQ = 8/17$, тому $QM/PQ = 15/17$).\n\nВідповідь:\n30\n\n"
     },
     "metadata": {},
     "output_type": "display_data"
    },
    {
     "data": {
      "text/plain": "<IPython.core.display.Markdown object>",
      "text/markdown": "\nТематика:\nГеометрія\n\nПроблема:\nТрикутник має сторони, довжини яких дорівнюють 1 одиниці та 3 одиницям. Довжина третьої сторони є цілим числом одиниць. Чому дорівнює довжина третьої сторони в одиницях?\n\nВирішення:\nНазвемо довжину третьої сторони $n$. За нерівністю трикутника, $1+3>n$ і $1+n>3$, або $2<n<4$. Єдиним цілим числом $n$, яке задовольняє цій нерівності, є $\\boxed{3}$.\n\nВідповідь:\n3\n\n"
     },
     "metadata": {},
     "output_type": "display_data"
    },
    {
     "data": {
      "text/plain": "<IPython.core.display.Markdown object>",
      "text/markdown": "\nТематика:\nГеометрія\n\nПроблема:\nУ колі $J$, $HO$ і $HN$ проведені дотичні до кола в точках $O$ і $N$. Знайдіть кількість градусів у сумі $m\\кута J$ і $m\\кута H$. \n\nВирішення:\nОскільки $\\overline{OH}$ і $\\overline{NH}$ є дотичними до радіусів кола в точках $O$ і $N$, маємо $\\кут O =\\кут N = 90^\\circ$.  Сума мір внутрішніх кутів чотирикутника $JOHN$ дорівнює $360^\\circ$, тому $\\кут J + \\кут H = 360^\\circ - \\кут O - \\кут N = \\boxed{180^\\circ}$.\n\nВідповідь:\n180^\\circ\n\n"
     },
     "metadata": {},
     "output_type": "display_data"
    },
    {
     "data": {
      "text/plain": "<IPython.core.display.Markdown object>",
      "text/markdown": "\nТематика:\nГеометрія\n\nПроблема:\nКвадрат і рівносторонній трикутник мають рівні периметри. Площа трикутника дорівнює $16\\sqrt{3}$ квадратних сантиметрів. Яку довжину в сантиметрах має діагональ квадрата? Запишіть відповідь у найпростішій радикальній формі.\n\n\n\nВирішення:\nЯкщо нехай $x = $ довжина сторони трикутника, то можна знайти площу трикутника через $x$, а потім покласти її рівною $16 \\sqrt{3}$, щоб знайти $x$. Основа трикутника має довжину $x$. Щоб знайти висоту, помітимо, що проведення висоти розбиває рівносторонній трикутник на два трикутники $30-60-90$ з найдовшою стороною довжиною $x$. Оскільки відношення довжин сторін трикутника $30-60-90$ дорівнює $1:\\sqrt{3}:2$, висота буде мати довжину $\\frac{x\\sqrt{3}}{2}$, а площа трикутника буде $\\frac{1}{2}x\\left(\\frac{x\\sqrt{3}}{2}\\right)=\\frac{x^2\\sqrt{3}}{4}$. Поставивши це значення рівним $16 \\sqrt{3}$, отримаємо $\\frac{x^2\\sqrt{3}}{4}=16\\sqrt{3}.$\n\nРозв'язуючи для $x$, отримуємо $x=8$. Оскільки довжина сторони трикутника дорівнює $8$, а периметри квадрата і трикутника рівні, то довжина сторони квадрата дорівнює $\\frac{8 \\cdot 3}{4}=6$. Якщо ми проведемо діагональ квадрата, то помітимо, що вона розбиває квадрат на два трикутники $45-45-90$ з катетами довжиною $6$. Трикутник $45-45-90$ має відношення довжин сторін $1:1:\\sqrt{2}$, тому діагональ квадрата має довжину $\\boxed{6\\sqrt{2}}$ см.\n\nВідповідь:\n6\\sqrt{2}\n\n"
     },
     "metadata": {},
     "output_type": "display_data"
    },
    {
     "data": {
      "text/plain": "<IPython.core.display.Markdown object>",
      "text/markdown": "\nТематика:\nПроміжна алгебра\n\nПроблема:\nПрямокутне поле оточене легкоатлетичною доріжкою, як показано нижче.  Доріжка складається з двох країв поля та двох півкіл.  Довжина доріжки 400 метрів.  Яка найбільша можлива площа поля в квадратних метрах?\n\n\n\nВирішення:\nНехай ширина прямокутника дорівнює $w,$, а радіус кожного півкола дорівнює $r.$.\n\n\n\nТоді довжина доріжки дорівнює $2w + 2 \\pi r = 400,$ тому $w + \\pi r = 200.$ За AM-GM,\n\\[200 = w + \\pi r \\ge 2 \\sqrt{w \\pi r},\\]so $\\sqrt{w \\pi r} \\le 100.$ Тоді $w \\pi r \\le 10000,$ так що\n\\[wr \\le \\frac{10000}{\\pi}.\\]Тоді площа поля, $2wr,$ повинна задовольняти\n\\[2wr \\le \\frac{20000}{\\pi}.\\]Рівність має місце при $w = 100$ і $r = \\frac{100}{\\pi},$ тому найбільша можлива площа дорівнює $\\boxed{\\frac{20000}{\\pi}}.$\n\nВідповідь:\n\\frac{20000}{\\pi}\n\n"
     },
     "metadata": {},
     "output_type": "display_data"
    },
    {
     "data": {
      "text/plain": "<IPython.core.display.Markdown object>",
      "text/markdown": "\nТематика:\nГеометрія\n\nПроблема:\nВизначте координати точки $P$ на прямій $y=-x+6$ так, щоб точка $P$ була рівновіддалена від точок $A(10,-10)$ і $O(0,0)$ (тобто так, щоб $PA=PO$).  Відповідь запишіть у вигляді впорядкованої пари $(a,b)$.\n\nВирішення:\nЯкщо точка $P$ рівновіддалена від точок $A$ і $O$, то вона повинна лежати на бісектрисі, перпендикулярній до $AO$. Оскільки $A$ має координати $(10,-10)$, а $O$ - координати $(0,0)$, то $AO$ має нахил $\\frac{-10-0}{10-0}=-1$.  Бісектриса перпендикуляра до $AO$ повинна мати нахил $-\\frac{1}{-1}=1$, а також проходити через середину $AO$, яка дорівнює $(5,-5)$. Отже, перпендикулярна бісектриса має рівняння $y-(-5)=x-5$ або $y=x-10$.\n\nТочка $P$ є точкою перетину прямої $y=x-10$ і прямої $y=-x+6$.  Прирівнявши ці рівняння і розв'язавши їх для $x$, отримаємо $-x+6=x-10 \\Права стрілка x=8$.  Звідси випливає, що $y=-8+6=-2$ і $P=(x,y)=\\boxed{(8,-2)}$.\n\nВідповідь:\n(8,-2)\n\n"
     },
     "metadata": {},
     "output_type": "display_data"
    },
    {
     "data": {
      "text/plain": "<IPython.core.display.Markdown object>",
      "text/markdown": "\nТематика:\nГеометрія\n\nПроблема:\nТрикутник $\\triangle ABC$ з $\\angle A = 14^\\circ$ вписано в коло, де $AB$ - діаметр. Скільки градусів у $\\куті B$?\n\nВирішення:\nЯкщо $AB$ є діаметром, то це означає, що трикутник повинен мати прямий кут при $C.$ Отже, маємо, що \\begin{align*}\n\\кут B &= 180^\\circ - (\\кут A + \\кут C) \\\\\n&= 180^\\circ - (14^\\circ + 90^\\circ) = \\boxed{76^\\circ}.\n\\end{align*}\n\nВідповідь:\n76^\\circ\n\n"
     },
     "metadata": {},
     "output_type": "display_data"
    },
    {
     "data": {
      "text/plain": "<IPython.core.display.Markdown object>",
      "text/markdown": "\nТематика:\nПреалгебра\n\nПроблема:\nДовжини двох протилежних сторін квадрата зменшили на $40\\%$, а довжини двох інших сторін збільшили на $50\\%$, утворивши прямокутник. На скільки відсотків зменшиться площа квадрата?\n\nВирішення:\nНехай $A$ - площа квадрата. Довжини однієї пари протилежних сторін зменшили на $40\\%$, так що площа стала $.6A$. Другу пару сторін збільшили на $50\\%$, так що площа стала $1.5\\cdot .6 A = .9A$. Таким чином, площа зменшилась на $\\boxed{10}$ відсотків.\n\nВідповідь:\n10\n\n"
     },
     "metadata": {},
     "output_type": "display_data"
    },
    {
     "data": {
      "text/plain": "<IPython.core.display.Markdown object>",
      "text/markdown": "\nТематика:\nГеометрія\n\nПроблема:\nПаралелограм, обмежений прямими $y=ax+c$, $y=ax+d$, $y=bx+c$ і $y=bx+d$, має площу 18. Паралелограм, обмежений прямими $y=ax+c$, $y=ax-d$, $y=bx+c$ і $y=bx-d$, має площу 72. Знаючи, що $a$, $b$, $c$ і $d$ - натуральні числа, знайдіть найменше можливе значення суми $a+b+c+d$.\n\nВирішення:\nДві вершини першого паралелограма знаходяться у точках $(0,c)$ та $(0,d)$.\n\n\n\nКоординати $x$ двох інших вершин паралелограма задовольняють рівняння $ax+c=bx+d$ і $ax+d=bx+c$, тому координати $x$ дорівнюють $\\pm(c-d)/(b-a)$. Таким чином, паралелограм складається з двох трикутників, кожен з яких має площу \\[\n9=\\frac{1}{2} \\cdot |c-d| \\cdot \\left|\\frac{c-d}{b-a}\\right|.\n\\Звідси випливає, що $(c-d)^2=18|b-a|$.\n\nЗа аналогічним міркуванням з використанням другого паралелограма, $(c+d)^2=72|b-a|$. Віднімання першого рівняння від другого дає $4cd=54|b-a|$, отже $2cd=27|b-a|$. Таким чином, $|b-a|$ парне, а $a+b$ мінімізується при $\\{a,b\\}=\\{1,3\\}$. Також $cd$ кратне 27, і $c+d$ мінімізується при $\\{c,d\\}=\\{3,9\\}$. Отже, найменше можливе значення $a+b+c+d$ дорівнює $1+3+3+9=\\boxed{16}$. Зауважимо, що необхідні умови виконуються, коли $(a,b,c,d)=(1,3,3,9)$.\n\nВідповідь:\n16\n\n"
     },
     "metadata": {},
     "output_type": "display_data"
    },
    {
     "data": {
      "text/plain": "<IPython.core.display.Markdown object>",
      "text/markdown": "\nТематика:\nГеометрія\n\nПроблема:\nДві сторони трикутника мають довжину по $8$ одиниць. Якщо третя сторона має довжину цілого числа, який найбільший можливий периметр трикутника в одиницях?\n\nВирішення:\nНерівність трикутника говорить, що сума довжин будь-яких двох сторін повинна бути більшою за довжину третьої сторони. Це означає, що $8+8=16$ має бути більшою за довжину третьої сторони. Третя сторона має довжину цілого числа, тому найбільша можлива довжина дорівнює 15 одиницям. Отже, периметр $8+8+15=\\boxed{31}$ одиниць.\n\nВідповідь:\n31\n\n"
     },
     "metadata": {},
     "output_type": "display_data"
    },
    {
     "data": {
      "text/plain": "<IPython.core.display.Markdown object>",
      "text/markdown": "\nТематика:\nГеометрія\n\nПроблема:\nЯка довжина в одиницях радіуса сфери, об'єм і площа поверхні якої в кубічних і квадратних одиницях, відповідно, чисельно рівні?\n\nВирішення:\nОб'єм кулі дорівнює $\\frac{4}{3}\\pi r^3$, а площа поверхні - $4\\pi r^2$, тому\n\\[\\frac{4}{3} \\pi r^3 = 4 \\pi r^2.\\]Ми можемо поділити обидві сторони на $4 \\pi r^2$, щоб отримати\n\\[\\frac{1}{3} r = 1.\\]Отже, $r = \\boxed{3}.$\n\nВідповідь:\n3\n\n"
     },
     "metadata": {},
     "output_type": "display_data"
    }
   ],
   "source": [
    "from ipywidgets import Image\n",
    "import re\n",
    "\n",
    "example_formatting = \"\"\"\n",
    "Тематика:\n",
    "{subject}\n",
    "\n",
    "Проблема:\n",
    "{problem}\n",
    "\n",
    "Вирішення:\n",
    "{solution}\n",
    "\n",
    "Відповідь:\n",
    "{answer}\n",
    "\n",
    "\"\"\"\n",
    "from IPython.display import display, Markdown\n",
    "similar_examples_df.loc[:, \"example_text\"] = similar_examples_df.apply(lambda row: example_formatting.format(\n",
    "    subject=row[\"subject_translated\"],\n",
    "    problem=row[\"problem_translated\"],\n",
    "    solution=row[\"solution_translated\"],\n",
    "    answer=row[\"answer\"]\n",
    "), axis=1)\n",
    "\n",
    "for example in similar_examples_df.loc[:, \"example_text\"]:\n",
    "\n",
    "    example_text = re.sub(r'\\[asy\\].*?\\[/asy\\]', '', example, flags=re.DOTALL)\n",
    "\n",
    "    display(Markdown(example_text))"
   ],
   "metadata": {
    "collapsed": false,
    "ExecuteTime": {
     "end_time": "2025-01-08T19:04:53.537861Z",
     "start_time": "2025-01-08T19:04:53.516275Z"
    }
   }
  },
  {
   "cell_type": "markdown",
   "source": [
    "We can see that DeepL over-translated some texts to uninterpretable LaTeX, so, we would prompt GPT to tackle this issue, and provide in its answer meaningful output.\\\n",
    "Moreover, we can do second-model verification approach, so the GPT would fix the examples translated with DeepL given translated and original text to preserve original context, I guess that would improve the dataset quality.\n",
    "However, as we would see in the results, if we would provide nice and complete instructions on how to handle \"unpurities\" of the similarity context, the answers the GPT-4o-mini provides are quite impressive, so, it's a point to check whether the second-model verification would help us. I guess it'd allow us to simplify the system prompt and result in similar results. So it might be just unnecessary with this model. Nonetheless, it might be useful for smaller OpenSource LLMs, as they are high-dependent and very sensitive to input data."
   ],
   "metadata": {
    "collapsed": false
   }
  },
  {
   "cell_type": "code",
   "execution_count": 33,
   "outputs": [
    {
     "name": "stderr",
     "output_type": "stream",
     "text": [
      "/var/folders/gg/1kd93k4x47q5_gj92ljtjf000000gq/T/ipykernel_93999/2800089990.py:32: SettingWithCopyWarning: \n",
      "A value is trying to be set on a copy of a slice from a DataFrame.\n",
      "Try using .loc[row_indexer,col_indexer] = value instead\n",
      "\n",
      "See the caveats in the documentation: https://pandas.pydata.org/pandas-docs/stable/user_guide/indexing.html#returning-a-view-versus-a-copy\n",
      "  similar_examples_df.loc[:, \"example_text\"] = similar_examples_df.apply(lambda row: example_formatting.format(\n"
     ]
    },
    {
     "data": {
      "text/plain": "<IPython.core.display.Markdown object>",
      "text/markdown": "Привіт! Ось 5 простих задач по шкільній геометрії, зокрема про рівнобедрені трикутники, з покроковими розв'язками.\n\n### Задача 1\n**Проблема:** У рівнобедреному трикутнику $ABC$ сторони $AB$ і $AC$ рівні, і їх довжина дорівнює 6 см. Довжина основи $BC$ дорівнює 8 см. Знайдіть площу трикутника $ABC$.\n\n**Вирішення:**\n1. Складемо половину основи: $BM = MC = \\frac{BC}{2} = \\frac{8}{2} = 4 \\text{ см}$.\n2. Знайдемо висоту $h$ трикутника, використовуючи теорему Піфагора: \n   $$ AM^2 + BM^2 = AB^2 $$\n   $$ h^2 + 4^2 = 6^2 $$\n   $$ h^2 + 16 = 36 $$\n   $$ h^2 = 20 $$\n   $$ h = \\sqrt{20} = 2\\sqrt{5} \\text{ см} $$\n3. Площа $S$ трикутника:\n   $$ S = \\frac{1}{2} \\cdot BC \\cdot h = \\frac{1}{2} \\cdot 8 \\cdot 2\\sqrt{5} = 8\\sqrt{5} \\text{ см}^2 $$\n\n**Відповідь:** $8\\sqrt{5} \\text{ см}^2$\n\n---\n\n### Задача 2\n**Проблема:** В рівнобедреному трикутнику $DEF$, де $DE = DF$, довжина сторони $DE = 10$ см, а основа $EF = 12$ см. Яка висота, проведена з точки $D$ до сторони $EF$?\n\n**Вирішення:**\n1. Знайдемо половину основи: $EG = GF = \\frac{EF}{2} = 6 \\text{ см}$.\n2. Визначимо висоту $h$:\n   $$ DG^2 + EG^2 = DE^2 $$\n   $$ h^2 + 6^2 = 10^2 $$\n   $$ h^2 + 36 = 100 $$\n   $$ h^2 = 64 $$\n   $$ h = 8 \\text{ см} $$\n\n**Відповідь:** $8 \\text{ см}$\n\n---\n\n### Задача 3\n**Проблема:** У рівнобедреному трикутнику $GHI$ сторони $GH = GI$. Довжина сторін дорівнює 7 см, а основа $HI$ дорівнює 6 см. Знайдіть площу трикутника $GHI$.\n\n**Вирішення:**\n1. Знайдемо половину основи: $HJ = JI = 3 \\text{ см}$.\n2. Застосуємо теорему Піфагора:\n   $$ GJ^2 + HJ^2 = GH^2 $$\n   $$ h^2 + 3^2 = 7^2 $$\n   $$ h^2 + 9 = 49 $$\n   $$ h^2 = 40 $$\n   $$ h = \\sqrt{40} = 2\\sqrt{10} \\text{ см} $$\n3. Площа:\n   $$ S = \\frac{1}{2} \\cdot HI \\cdot h = \\frac{1}{2} \\cdot 6 \\cdot 2\\sqrt{10} = 6\\sqrt{10} \\text{ см}^2 $$\n\n**Відповідь:** $6\\sqrt{10} \\text{ см}^2$\n\n---\n\n### Задача 4\n**Проблема:** У рівнобедреному трикутнику $JKL$ сторони $JK$ і $JL$ рівні та дорівнюють 5 см. Довжина основи $KL = 8$ см. Яка площа трикутника?\n\n**Вирішення:**\n1. Половина основи: $KM = ML = 4 \\text{ см}$.\n2. Знайдемо висоту:\n   $$ JM^2 + KM^2 = JK^2 $$\n   $$ h^2 + 4^2 = 5^2 $$\n   $$ h^2 + 16 = 25 $$\n   $$ h^2 = 9 $$\n   $$ h = 3 \\text{ см} $$\n3. Площа трикутника:\n   $$ S = \\frac{1}{2} \\cdot KL \\cdot h = \\frac{1}{2} \\cdot 8 \\cdot 3 = 12 \\text{ см}^2 $$\n\n**Відповідь:** $12 \\text{ см}^2$\n\n---\n\n### Задача 5\n**Проблема:** У рівнобедреному трикутнику $MNO$ сторони $MN = MO = 9$ см, а основа $NO = 10$ см. Знайдіть довжину висоти, проведеної з вершини до основи.\n\n**Вирішення:**\n1. Половина основи: $NP = PO = 5 \\text{ см}$.\n2. Визначаємо висоту:\n   $$ MP^2 + NP^2 = MN^2 $$\n   $$ h^2 + 5^2 = 9^2 $$\n   $$ h^2 + 25 = 81 $$\n   $$ h^2 = 56 $$\n   $$ h = \\sqrt{56} = 2\\sqrt{14} \\text{ см} $$\n\n**Відповідь:** $2\\sqrt{14} \\text{ см}$\n\nСподіваюся, ці задачі будуть корисними для вас! Якщо потрібно більше, звертайтеся!"
     },
     "metadata": {},
     "output_type": "display_data"
    },
    {
     "name": "stdout",
     "output_type": "stream",
     "text": [
      "\n"
     ]
    }
   ],
   "source": [
    "system_prompt = \"\"\"\n",
    "Ти корисний помічник для генерації задач з математики українською мовою.\n",
    "Маючи вхідний запит користувача (\"USER_INPUT\"), який включає тему, чи ключові слова, та знайдені схожі приклади задач (\"SIMILAR_EXAMPLES\") згенеруй 5 задач на тему, якщо користувач не попросить інакше.\n",
    "Візьми до уваги схожі теми задач, та тему з питання якщо така задана.\n",
    "Візьми до уваги потрібну складність задачі, якщо така задана. Якщо ж ні, спробуй згенерувати простіші завдання, вибираючи простіші приклади.\n",
    "Текст у прикладах (\"SIMILAR_EXAMPLES\") може мати помилки у LaTeX синтаксисі після перекладу, спробуй їх виправити у відповіді, щоб згенерувати валідну відповідь.\n",
    "Згенеруй 5 прикладів задач з покроковими розв’язками, уникаючи помилок.\n",
    "Використовуй увесь доступний контекст для більшої точності та різноманітності.\n",
    "Спробуй генерувати різноманітні задачі.\n",
    "Якщо ви генеруєте код LaTeX або рівняння, використовуйте формат $ замість W( і $$ замість \\\\I; замість багаторядкового LaTeX у форматі\n",
    "[\n",
    "довільне рівняння\n",
    "]\n",
    "генеруй $$\n",
    "довільне LaTeX рівняння для правильного трактування у Markdown форматі\n",
    "$$\n",
    "Також візьми до уваги, що при генерації коду чи рівняння LaTeX у однорядковому форматі, замість ( приклад LaTeX коду ) використовуй одинарний знак $ приклад LaTeX коду $\n",
    "\n",
    "SIMILAR_EXAMPLES:\n",
    "{examples}\n",
    "\"\"\"\n",
    "\n",
    "def generate_example(user_input: str):\n",
    "    model = \"gpt-4o-mini\"\n",
    "\n",
    "    similar_examples_df = similarity_search(\n",
    "        query=user_input,\n",
    "        top_k=15,\n",
    "        similarity_threshold=0.75\n",
    "    )\n",
    "\n",
    "    similar_examples_df.loc[:, \"example_text\"] = similar_examples_df.apply(lambda row: example_formatting.format(\n",
    "        subject=row[\"subject_translated\"],\n",
    "        problem=row[\"problem_translated\"],\n",
    "        solution=row[\"solution_translated\"],\n",
    "        answer=row[\"answer\"]\n",
    "    ), axis=1)\n",
    "    examples_text = \"\"\n",
    "\n",
    "    for example in similar_examples_df.loc[:, \"example_text\"]:\n",
    "        examples_text += re.sub(r'\\[asy\\].*?\\[/asy\\]', '', example, flags=re.DOTALL)\n",
    "\n",
    "    system_prompt_formatted = system_prompt.format(\n",
    "        examples=examples_text\n",
    "    )\n",
    "\n",
    "    completion = client.chat.completions.create(\n",
    "        model=model,\n",
    "        messages=[\n",
    "            {\"role\": \"developer\", \"content\": system_prompt_formatted},\n",
    "            {\n",
    "                \"role\": \"user\",\n",
    "                \"content\": user_input\n",
    "            }\n",
    "        ]\n",
    "    )\n",
    "    response = completion.choices[0].message.content\n",
    "\n",
    "    display(Markdown(response))\n",
    "\n",
    "generate_example(\"Привіт, згенеруй декілька простих задач по шкільній геометрії. Мені важко даються рівнобедрені трикутники.\")\n",
    "\n",
    "print()"
   ],
   "metadata": {
    "collapsed": false,
    "ExecuteTime": {
     "end_time": "2025-01-08T19:32:15.451966Z",
     "start_time": "2025-01-08T19:31:50.158976Z"
    }
   }
  },
  {
   "cell_type": "code",
   "execution_count": 34,
   "outputs": [
    {
     "name": "stderr",
     "output_type": "stream",
     "text": [
      "/var/folders/gg/1kd93k4x47q5_gj92ljtjf000000gq/T/ipykernel_93999/2800089990.py:32: SettingWithCopyWarning: \n",
      "A value is trying to be set on a copy of a slice from a DataFrame.\n",
      "Try using .loc[row_indexer,col_indexer] = value instead\n",
      "\n",
      "See the caveats in the documentation: https://pandas.pydata.org/pandas-docs/stable/user_guide/indexing.html#returning-a-view-versus-a-copy\n",
      "  similar_examples_df.loc[:, \"example_text\"] = similar_examples_df.apply(lambda row: example_formatting.format(\n"
     ]
    },
    {
     "data": {
      "text/plain": "<IPython.core.display.Markdown object>",
      "text/markdown": "Звичайно! Ось 5 задач по інтегралах та похідних різної складності з покроковими розв'язками:\n\n### Задача 1: Знайти похідну\nЗнайдіть похідну функції $$f(x) = 3x^4 - 5x^3 + 2x - 7.$$\n\n**Розв'язок:**\n1. Знайдемо похідну кожного члена функції:\n   - Похідна від $3x^4$ дорівнює $12x^3$.\n   - Похідна від $-5x^3$ дорівнює $-15x^2$.\n   - Похідна від $2x$ дорівнює $2$.\n   - Похідна від константи $-7$ дорівнює $0$.\n2. Об'єднуємо похідні:\n   $$f'(x) = 12x^3 - 15x^2 + 2.$$\n\n**Відповідь:**\n$$f'(x) = 12x^3 - 15x^2 + 2.$$\n\n---\n\n### Задача 2: Знайти інтеграл\nОбчисліть інтеграл $$I = \\int (4x^3 - 2x^2 + x - 5) \\, dx.$$\n\n**Розв'язок:**\n1. Інтегруємо кожен член:\n   - $\\int 4x^3 \\, dx = x^4$.\n   - $\\int -2x^2 \\, dx = -\\frac{2}{3}x^3$.\n   - $\\int x \\, dx = \\frac{1}{2}x^2$.\n   - $\\int -5 \\, dx = -5x$.\n2. Об'єднуємо результати та додаємо константу інтегрування $C$:\n   $$I = x^4 - \\frac{2}{3}x^3 + \\frac{1}{2}x^2 - 5x + C.$$\n\n**Відповідь:**\n$$I = x^4 - \\frac{2}{3}x^3 + \\frac{1}{2}x^2 - 5x + C.$$\n\n---\n\n### Задача 3: Похідна складеної функції\nЗнайдіть похідну функції $$g(x) = \\sin(2x^2 + 3).$$\n\n**Розв'язок:**\n1. Використовуємо правило ланцюга:\n   - Нехай $u = 2x^2 + 3$, тоді $g(x) = \\sin(u)$.\n2. Знайдемо похідні:\n   - $g'(x) = \\cos(u) \\cdot u'$.\n   - $u' = 4x$.\n3. Підставимо:\n   $$g'(x) = \\cos(2x^2 + 3) \\cdot 4x = 4x \\cos(2x^2 + 3).$$\n\n**Відповідь:**\n$$g'(x) = 4x \\cos(2x^2 + 3).$$\n\n---\n\n### Задача 4: Інтеграл з тригонометричними функціями\nОбчисліть інтеграл $$J = \\int \\cos^2(x) \\, dx.$$\n\n**Розв'язок:**\n1. Застосуємо формулу зменшення:\n   $$\\cos^2(x) = \\frac{1 + \\cos(2x)}{2}.$$\n2. Інтегруємо:\n   $$J = \\int \\frac{1 + \\cos(2x)}{2} \\, dx = \\frac{1}{2} \\int 1 \\, dx + \\frac{1}{2} \\int \\cos(2x) \\, dx.$$\n3. Обчислимо:\n   $$J = \\frac{x}{2} + \\frac{1}{2} \\cdot \\frac{1}{2} \\sin(2x) + C = \\frac{x}{2} + \\frac{1}{4} \\sin(2x) + C.$$\n\n**Відповідь:**\n$$J = \\frac{x}{2} + \\frac{1}{4} \\sin(2x) + C.$$\n\n---\n\n### Задача 5: Похідна параметричної функції\nНехай $$x(t) = t^2 + 1, \\quad y(t) = 2t^3 - 3t.$$ Знайдіть $\\frac{dy}{dx}$.\n\n**Розв'язок:**\n1. Знайдемо похідні $x'(t)$ і $y'(t)$:\n   - $x'(t) = 2t$.\n   - $y'(t) = 6t^2 - 3$.\n2. Знайдемо $\\frac{dy}{dx}$ за формулою:\n   $$\\frac{dy}{dx} = \\frac{y'(t)}{x'(t)} = \\frac{6t^2 - 3}{2t}.$$\n3. Спрощуємо:\n   $$\\frac{dy}{dx} = \\frac{3t^2 - \\frac{3}{2}}{t} = 3t - \\frac{3}{2t}.$$\n\n**Відповідь:**\n$$\\frac{dy}{dx} = 3t - \\frac{3}{2t}.$$\n\n---\n\nСподіваюсь, ці задачі виявляться корисними для вашої підготовки до олімпіади! Якщо потрібні додаткові задачі чи пояснення, будь ласка, дайте знати."
     },
     "metadata": {},
     "output_type": "display_data"
    },
    {
     "name": "stdout",
     "output_type": "stream",
     "text": [
      "\n"
     ]
    }
   ],
   "source": [
    "generate_example(\"Привіт, згенеруй декілька задач по інтегралах та похідних. Не бійся згенерувати важчі задачі, я хочу підготуватись до олімпіади.\")\n",
    "\n",
    "print()"
   ],
   "metadata": {
    "collapsed": false,
    "ExecuteTime": {
     "end_time": "2025-01-08T19:33:21.801118Z",
     "start_time": "2025-01-08T19:32:41.218369Z"
    }
   }
  },
  {
   "cell_type": "markdown",
   "source": [
    "As we see, the answers look good and factual, the model does not struggle with the intense number of unclean data we gave (a point to improve).\n",
    "For instance, if you look more thoroughly in our dataset, you'd be able to see that the data includes [ase] blocks in order to render visualizations from the asymptote package: https://artofproblemsolving.com/wiki/index.php/Asymptote:_Drawing\n",
    "However, it's rather difficult to use this project in our rag-agent, as it's a burden to install, therefore, we just delete those blocks present in the original dataset, in order to minimally clean-up the retrieved similarity data to our prompt.\n",
    "Also the instructions we've added on how to do proper markdown gave a huge boost, as DeepL sometimes over-translates as mentioned, and changes some commands like: \\triangle to \\трикутник which is not recognized by the LaTeX compiler, making our results look uglier.\n",
    "Nonetheless, gpt-4o-mini is quite a powerful model, both in terms of following a large set of instructions we gave, a wast amount of examples with a lot of \"garbage\" (we did a minimal cleanup, and we can definitely improve and look into that more) and most importantly UKRAINIAN, this model is quite fluent in it, which is a huge plus in my opinion, whilst being reasonably cheap."
   ],
   "metadata": {
    "collapsed": false
   }
  }
 ],
 "metadata": {
  "kernelspec": {
   "display_name": "Python 3",
   "language": "python",
   "name": "python3"
  },
  "language_info": {
   "codemirror_mode": {
    "name": "ipython",
    "version": 2
   },
   "file_extension": ".py",
   "mimetype": "text/x-python",
   "name": "python",
   "nbconvert_exporter": "python",
   "pygments_lexer": "ipython2",
   "version": "2.7.6"
  }
 },
 "nbformat": 4,
 "nbformat_minor": 0
}
