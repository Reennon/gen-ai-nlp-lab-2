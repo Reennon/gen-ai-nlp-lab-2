{
 "cells": [
  {
   "cell_type": "code",
   "execution_count": 1,
   "metadata": {
    "collapsed": true,
    "ExecuteTime": {
     "end_time": "2025-01-08T20:46:19.640727Z",
     "start_time": "2025-01-08T20:46:19.226869Z"
    }
   },
   "outputs": [],
   "source": [
    "import pandas as pd"
   ]
  },
  {
   "cell_type": "code",
   "execution_count": 5,
   "outputs": [],
   "source": [
    "df = pd.read_csv(\"../datasets/math-500-uk.csv\")\n",
    "df_result = df.loc[:, [\n",
    "    \"problem_translated\",\n",
    "    \"solution_translated\",\n",
    "    \"subject_translated\",\n",
    "    \"level_translated\",\n",
    "    \"answer\"\n",
    "          ]]\n",
    "\n",
    "output_path = \"../datasets/math-500-uk.jsonl\"\n",
    "\n",
    "with open(output_path, \"w\") as f:\n",
    "    f.write(df_result.to_json(orient='records', lines=True, force_ascii=False))"
   ],
   "metadata": {
    "collapsed": false,
    "ExecuteTime": {
     "end_time": "2025-01-08T20:49:08.152277Z",
     "start_time": "2025-01-08T20:49:08.119735Z"
    }
   }
  }
 ],
 "metadata": {
  "kernelspec": {
   "display_name": "Python 3",
   "language": "python",
   "name": "python3"
  },
  "language_info": {
   "codemirror_mode": {
    "name": "ipython",
    "version": 2
   },
   "file_extension": ".py",
   "mimetype": "text/x-python",
   "name": "python",
   "nbconvert_exporter": "python",
   "pygments_lexer": "ipython2",
   "version": "2.7.6"
  }
 },
 "nbformat": 4,
 "nbformat_minor": 0
}
