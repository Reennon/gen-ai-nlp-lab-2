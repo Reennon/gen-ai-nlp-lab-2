{
 "cells": [
  {
   "cell_type": "code",
   "execution_count": 55,
   "outputs": [],
   "source": [
    "import os\n",
    "\n",
    "import deepl\n",
    "import pandas as pd\n",
    "from dotenv import load_dotenv\n",
    "from tqdm import tqdm\n",
    "import tiktoken\n",
    "from openai import OpenAI\n",
    "import faiss\n",
    "import numpy as np\n",
    "\n",
    "\n",
    "# Enable tqdm for pandas\n",
    "tqdm.pandas()"
   ],
   "metadata": {
    "collapsed": false,
    "ExecuteTime": {
     "end_time": "2025-01-08T16:11:17.117012Z",
     "start_time": "2025-01-08T16:11:17.032875Z"
    }
   }
  },
  {
   "cell_type": "code",
   "execution_count": 2,
   "metadata": {
    "collapsed": true,
    "ExecuteTime": {
     "end_time": "2025-01-08T13:58:49.893518Z",
     "start_time": "2025-01-08T13:58:48.899587Z"
    }
   },
   "outputs": [
    {
     "data": {
      "text/plain": "                                               problem  \\\n0    Convert the point $(0,3)$ in rectangular coord...   \n1    Define\\n\\[p = \\sum_{k = 1}^\\infty \\frac{1}{k^2...   \n2    If $f(x) = \\frac{3x-2}{x-2}$, what is the valu...   \n3    How many positive whole-number divisors does 1...   \n4    The results of a cross-country team's training...   \n..                                                 ...   \n495  What is the domain of the function $f(x) = \\fr...   \n496  Let $z = 1+i$ and $w = \\dfrac{3z+1}{5z+7}$. Fi...   \n497  An equiangular octagon has four sides of lengt...   \n498  A sequence $(a_n)$ is defined as follows:\\n\\[a...   \n499  Altitudes $\\overline{AD}$ and $\\overline{BE}$ ...   \n\n                                              solution  \\\n0    We have that $r = \\sqrt{0^2 + 3^2} = 3.$  Also...   \n1    We count the number of times $\\frac{1}{n^3}$ a...   \n2    $f(-2)+f(-1)+f(0)=\\frac{3(-2)-2}{-2-2}+\\frac{3...   \n3    First prime factorize $196=2^2\\cdot7^2$.  The ...   \n4    Evelyn covered more distance in less time than...   \n..                                                 ...   \n495  The inner logarithm is only defined if $x - 2 ...   \n496  Plugging in, we have $w = \\dfrac{3(1+i)+1}{5(1...   \n497  The octagon can be partitioned into five squar...   \n498  First, if $a_3 = a_1,$ then\\n\\[a_1 = a_3 = a_5...   \n499  First, we build a diagram:\\n\\n[asy]\\n\\nsize(15...   \n\n                              answer               subject  level  \\\n0    \\left( 3, \\frac{\\pi}{2} \\right)           Precalculus      2   \n1                              p - q  Intermediate Algebra      5   \n2                       \\frac{14}{3}               Algebra      3   \n3                                  9         Number Theory      3   \n4                      \\text{Evelyn}               Algebra      2   \n..                               ...                   ...    ...   \n495             (2,12) \\cup (12,102)  Intermediate Algebra      4   \n496                     \\frac{5}{13}  Intermediate Algebra      3   \n497                      \\frac{7}{2}              Geometry      5   \n498                               -1  Intermediate Algebra      5   \n499                        106^\\circ              Geometry      4   \n\n                               unique_id  \n0              test/precalculus/807.json  \n1    test/intermediate_algebra/1994.json  \n2                 test/algebra/2584.json  \n3            test/number_theory/572.json  \n4                 test/algebra/1349.json  \n..                                   ...  \n495  test/intermediate_algebra/1981.json  \n496  test/intermediate_algebra/1232.json  \n497               test/geometry/561.json  \n498  test/intermediate_algebra/1508.json  \n499               test/geometry/615.json  \n\n[500 rows x 6 columns]",
      "text/html": "<div>\n<style scoped>\n    .dataframe tbody tr th:only-of-type {\n        vertical-align: middle;\n    }\n\n    .dataframe tbody tr th {\n        vertical-align: top;\n    }\n\n    .dataframe thead th {\n        text-align: right;\n    }\n</style>\n<table border=\"1\" class=\"dataframe\">\n  <thead>\n    <tr style=\"text-align: right;\">\n      <th></th>\n      <th>problem</th>\n      <th>solution</th>\n      <th>answer</th>\n      <th>subject</th>\n      <th>level</th>\n      <th>unique_id</th>\n    </tr>\n  </thead>\n  <tbody>\n    <tr>\n      <th>0</th>\n      <td>Convert the point $(0,3)$ in rectangular coord...</td>\n      <td>We have that $r = \\sqrt{0^2 + 3^2} = 3.$  Also...</td>\n      <td>\\left( 3, \\frac{\\pi}{2} \\right)</td>\n      <td>Precalculus</td>\n      <td>2</td>\n      <td>test/precalculus/807.json</td>\n    </tr>\n    <tr>\n      <th>1</th>\n      <td>Define\\n\\[p = \\sum_{k = 1}^\\infty \\frac{1}{k^2...</td>\n      <td>We count the number of times $\\frac{1}{n^3}$ a...</td>\n      <td>p - q</td>\n      <td>Intermediate Algebra</td>\n      <td>5</td>\n      <td>test/intermediate_algebra/1994.json</td>\n    </tr>\n    <tr>\n      <th>2</th>\n      <td>If $f(x) = \\frac{3x-2}{x-2}$, what is the valu...</td>\n      <td>$f(-2)+f(-1)+f(0)=\\frac{3(-2)-2}{-2-2}+\\frac{3...</td>\n      <td>\\frac{14}{3}</td>\n      <td>Algebra</td>\n      <td>3</td>\n      <td>test/algebra/2584.json</td>\n    </tr>\n    <tr>\n      <th>3</th>\n      <td>How many positive whole-number divisors does 1...</td>\n      <td>First prime factorize $196=2^2\\cdot7^2$.  The ...</td>\n      <td>9</td>\n      <td>Number Theory</td>\n      <td>3</td>\n      <td>test/number_theory/572.json</td>\n    </tr>\n    <tr>\n      <th>4</th>\n      <td>The results of a cross-country team's training...</td>\n      <td>Evelyn covered more distance in less time than...</td>\n      <td>\\text{Evelyn}</td>\n      <td>Algebra</td>\n      <td>2</td>\n      <td>test/algebra/1349.json</td>\n    </tr>\n    <tr>\n      <th>...</th>\n      <td>...</td>\n      <td>...</td>\n      <td>...</td>\n      <td>...</td>\n      <td>...</td>\n      <td>...</td>\n    </tr>\n    <tr>\n      <th>495</th>\n      <td>What is the domain of the function $f(x) = \\fr...</td>\n      <td>The inner logarithm is only defined if $x - 2 ...</td>\n      <td>(2,12) \\cup (12,102)</td>\n      <td>Intermediate Algebra</td>\n      <td>4</td>\n      <td>test/intermediate_algebra/1981.json</td>\n    </tr>\n    <tr>\n      <th>496</th>\n      <td>Let $z = 1+i$ and $w = \\dfrac{3z+1}{5z+7}$. Fi...</td>\n      <td>Plugging in, we have $w = \\dfrac{3(1+i)+1}{5(1...</td>\n      <td>\\frac{5}{13}</td>\n      <td>Intermediate Algebra</td>\n      <td>3</td>\n      <td>test/intermediate_algebra/1232.json</td>\n    </tr>\n    <tr>\n      <th>497</th>\n      <td>An equiangular octagon has four sides of lengt...</td>\n      <td>The octagon can be partitioned into five squar...</td>\n      <td>\\frac{7}{2}</td>\n      <td>Geometry</td>\n      <td>5</td>\n      <td>test/geometry/561.json</td>\n    </tr>\n    <tr>\n      <th>498</th>\n      <td>A sequence $(a_n)$ is defined as follows:\\n\\[a...</td>\n      <td>First, if $a_3 = a_1,$ then\\n\\[a_1 = a_3 = a_5...</td>\n      <td>-1</td>\n      <td>Intermediate Algebra</td>\n      <td>5</td>\n      <td>test/intermediate_algebra/1508.json</td>\n    </tr>\n    <tr>\n      <th>499</th>\n      <td>Altitudes $\\overline{AD}$ and $\\overline{BE}$ ...</td>\n      <td>First, we build a diagram:\\n\\n[asy]\\n\\nsize(15...</td>\n      <td>106^\\circ</td>\n      <td>Geometry</td>\n      <td>4</td>\n      <td>test/geometry/615.json</td>\n    </tr>\n  </tbody>\n</table>\n<p>500 rows × 6 columns</p>\n</div>"
     },
     "execution_count": 2,
     "metadata": {},
     "output_type": "execute_result"
    }
   ],
   "source": [
    "df = pd.read_json(\"hf://datasets/HuggingFaceH4/MATH-500/test.jsonl\", lines=True)\n",
    "df"
   ]
  },
  {
   "cell_type": "code",
   "execution_count": 3,
   "outputs": [
    {
     "name": "stderr",
     "output_type": "stream",
     "text": [
      "/var/folders/gg/1kd93k4x47q5_gj92ljtjf000000gq/T/ipykernel_89857/212375986.py:2: FutureWarning: Setting an item of incompatible dtype is deprecated and will raise in a future error of pandas. Value '['Foundational High-School Math'\n",
      " 'Advanced Math Competitions; International Olympiad or University Courses Level.'\n",
      " 'High-School Intermediate Level Competition Math Problems'\n",
      " 'High-School Intermediate Level Competition Math Problems'\n",
      " 'Foundational High-School Math' 'Foundational High-School Math'\n",
      " 'High-School Intermediate Level Competition Math Problems'\n",
      " 'High-Level Math Competition Problems; Regional Math Competitions.'\n",
      " 'High-School Intermediate Level Competition Math Problems'\n",
      " 'Advanced Math Competitions; International Olympiad or University Courses Level.'\n",
      " 'High-School Intermediate Level Competition Math Problems'\n",
      " 'Advanced Math Competitions; International Olympiad or University Courses Level.'\n",
      " 'Advanced Math Competitions; International Olympiad or University Courses Level.'\n",
      " 'Foundational High-School Math' 'Basic Math Concepts'\n",
      " 'Advanced Math Competitions; International Olympiad or University Courses Level.'\n",
      " 'Basic Math Concepts'\n",
      " 'High-Level Math Competition Problems; Regional Math Competitions.'\n",
      " 'Basic Math Concepts'\n",
      " 'High-School Intermediate Level Competition Math Problems'\n",
      " 'High-School Intermediate Level Competition Math Problems'\n",
      " 'High-School Intermediate Level Competition Math Problems'\n",
      " 'Advanced Math Competitions; International Olympiad or University Courses Level.'\n",
      " 'Advanced Math Competitions; International Olympiad or University Courses Level.'\n",
      " 'Advanced Math Competitions; International Olympiad or University Courses Level.'\n",
      " 'Advanced Math Competitions; International Olympiad or University Courses Level.'\n",
      " 'Advanced Math Competitions; International Olympiad or University Courses Level.'\n",
      " 'Foundational High-School Math' 'Foundational High-School Math'\n",
      " 'Foundational High-School Math'\n",
      " 'High-School Intermediate Level Competition Math Problems'\n",
      " 'High-Level Math Competition Problems; Regional Math Competitions.'\n",
      " 'High-Level Math Competition Problems; Regional Math Competitions.'\n",
      " 'High-Level Math Competition Problems; Regional Math Competitions.'\n",
      " 'High-Level Math Competition Problems; Regional Math Competitions.'\n",
      " 'Foundational High-School Math' 'Foundational High-School Math'\n",
      " 'High-School Intermediate Level Competition Math Problems'\n",
      " 'Basic Math Concepts'\n",
      " 'High-School Intermediate Level Competition Math Problems'\n",
      " 'Foundational High-School Math'\n",
      " 'High-Level Math Competition Problems; Regional Math Competitions.'\n",
      " 'Foundational High-School Math'\n",
      " 'Advanced Math Competitions; International Olympiad or University Courses Level.'\n",
      " 'Advanced Math Competitions; International Olympiad or University Courses Level.'\n",
      " 'High-School Intermediate Level Competition Math Problems'\n",
      " 'Foundational High-School Math'\n",
      " 'Advanced Math Competitions; International Olympiad or University Courses Level.'\n",
      " 'Foundational High-School Math'\n",
      " 'High-Level Math Competition Problems; Regional Math Competitions.'\n",
      " 'Advanced Math Competitions; International Olympiad or University Courses Level.'\n",
      " 'Foundational High-School Math'\n",
      " 'Advanced Math Competitions; International Olympiad or University Courses Level.'\n",
      " 'Foundational High-School Math' 'Foundational High-School Math'\n",
      " 'High-Level Math Competition Problems; Regional Math Competitions.'\n",
      " 'High-School Intermediate Level Competition Math Problems'\n",
      " 'Foundational High-School Math' 'Basic Math Concepts'\n",
      " 'Foundational High-School Math'\n",
      " 'Advanced Math Competitions; International Olympiad or University Courses Level.'\n",
      " 'High-School Intermediate Level Competition Math Problems'\n",
      " 'Advanced Math Competitions; International Olympiad or University Courses Level.'\n",
      " 'Advanced Math Competitions; International Olympiad or University Courses Level.'\n",
      " 'High-Level Math Competition Problems; Regional Math Competitions.'\n",
      " 'Basic Math Concepts'\n",
      " 'High-School Intermediate Level Competition Math Problems'\n",
      " 'High-Level Math Competition Problems; Regional Math Competitions.'\n",
      " 'High-Level Math Competition Problems; Regional Math Competitions.'\n",
      " 'High-Level Math Competition Problems; Regional Math Competitions.'\n",
      " 'Foundational High-School Math'\n",
      " 'High-Level Math Competition Problems; Regional Math Competitions.'\n",
      " 'Foundational High-School Math'\n",
      " 'High-Level Math Competition Problems; Regional Math Competitions.'\n",
      " 'Foundational High-School Math'\n",
      " 'High-Level Math Competition Problems; Regional Math Competitions.'\n",
      " 'Foundational High-School Math' 'Basic Math Concepts'\n",
      " 'High-Level Math Competition Problems; Regional Math Competitions.'\n",
      " 'Basic Math Concepts'\n",
      " 'Advanced Math Competitions; International Olympiad or University Courses Level.'\n",
      " 'High-School Intermediate Level Competition Math Problems'\n",
      " 'Advanced Math Competitions; International Olympiad or University Courses Level.'\n",
      " 'Foundational High-School Math'\n",
      " 'High-Level Math Competition Problems; Regional Math Competitions.'\n",
      " 'High-Level Math Competition Problems; Regional Math Competitions.'\n",
      " 'Basic Math Concepts' 'Basic Math Concepts'\n",
      " 'Advanced Math Competitions; International Olympiad or University Courses Level.'\n",
      " 'High-Level Math Competition Problems; Regional Math Competitions.'\n",
      " 'High-School Intermediate Level Competition Math Problems'\n",
      " 'High-School Intermediate Level Competition Math Problems'\n",
      " 'High-Level Math Competition Problems; Regional Math Competitions.'\n",
      " 'High-Level Math Competition Problems; Regional Math Competitions.'\n",
      " 'Advanced Math Competitions; International Olympiad or University Courses Level.'\n",
      " 'Foundational High-School Math'\n",
      " 'Advanced Math Competitions; International Olympiad or University Courses Level.'\n",
      " 'Basic Math Concepts' 'Foundational High-School Math'\n",
      " 'High-School Intermediate Level Competition Math Problems'\n",
      " 'Advanced Math Competitions; International Olympiad or University Courses Level.'\n",
      " 'Advanced Math Competitions; International Olympiad or University Courses Level.'\n",
      " 'Basic Math Concepts'\n",
      " 'Advanced Math Competitions; International Olympiad or University Courses Level.'\n",
      " 'High-Level Math Competition Problems; Regional Math Competitions.'\n",
      " 'High-School Intermediate Level Competition Math Problems'\n",
      " 'Foundational High-School Math' 'Foundational High-School Math'\n",
      " 'High-School Intermediate Level Competition Math Problems'\n",
      " 'Advanced Math Competitions; International Olympiad or University Courses Level.'\n",
      " 'High-Level Math Competition Problems; Regional Math Competitions.'\n",
      " 'High-School Intermediate Level Competition Math Problems'\n",
      " 'High-Level Math Competition Problems; Regional Math Competitions.'\n",
      " 'Foundational High-School Math'\n",
      " 'High-School Intermediate Level Competition Math Problems'\n",
      " 'Foundational High-School Math' 'Foundational High-School Math'\n",
      " 'Foundational High-School Math'\n",
      " 'Advanced Math Competitions; International Olympiad or University Courses Level.'\n",
      " 'High-School Intermediate Level Competition Math Problems'\n",
      " 'Foundational High-School Math' 'Foundational High-School Math'\n",
      " 'High-School Intermediate Level Competition Math Problems'\n",
      " 'High-Level Math Competition Problems; Regional Math Competitions.'\n",
      " 'High-Level Math Competition Problems; Regional Math Competitions.'\n",
      " 'High-Level Math Competition Problems; Regional Math Competitions.'\n",
      " 'High-Level Math Competition Problems; Regional Math Competitions.'\n",
      " 'High-School Intermediate Level Competition Math Problems'\n",
      " 'High-School Intermediate Level Competition Math Problems'\n",
      " 'Advanced Math Competitions; International Olympiad or University Courses Level.'\n",
      " 'High-Level Math Competition Problems; Regional Math Competitions.'\n",
      " 'High-Level Math Competition Problems; Regional Math Competitions.'\n",
      " 'High-School Intermediate Level Competition Math Problems'\n",
      " 'High-School Intermediate Level Competition Math Problems'\n",
      " 'High-Level Math Competition Problems; Regional Math Competitions.'\n",
      " 'Advanced Math Competitions; International Olympiad or University Courses Level.'\n",
      " 'Advanced Math Competitions; International Olympiad or University Courses Level.'\n",
      " 'High-Level Math Competition Problems; Regional Math Competitions.'\n",
      " 'High-Level Math Competition Problems; Regional Math Competitions.'\n",
      " 'High-School Intermediate Level Competition Math Problems'\n",
      " 'High-Level Math Competition Problems; Regional Math Competitions.'\n",
      " 'Basic Math Concepts'\n",
      " 'Advanced Math Competitions; International Olympiad or University Courses Level.'\n",
      " 'High-School Intermediate Level Competition Math Problems'\n",
      " 'Basic Math Concepts'\n",
      " 'Advanced Math Competitions; International Olympiad or University Courses Level.'\n",
      " 'High-School Intermediate Level Competition Math Problems'\n",
      " 'Advanced Math Competitions; International Olympiad or University Courses Level.'\n",
      " 'Basic Math Concepts' 'Foundational High-School Math'\n",
      " 'Advanced Math Competitions; International Olympiad or University Courses Level.'\n",
      " 'Advanced Math Competitions; International Olympiad or University Courses Level.'\n",
      " 'Advanced Math Competitions; International Olympiad or University Courses Level.'\n",
      " 'High-Level Math Competition Problems; Regional Math Competitions.'\n",
      " 'Advanced Math Competitions; International Olympiad or University Courses Level.'\n",
      " 'High-Level Math Competition Problems; Regional Math Competitions.'\n",
      " 'High-School Intermediate Level Competition Math Problems'\n",
      " 'Foundational High-School Math'\n",
      " 'High-Level Math Competition Problems; Regional Math Competitions.'\n",
      " 'High-Level Math Competition Problems; Regional Math Competitions.'\n",
      " 'Foundational High-School Math' 'Foundational High-School Math'\n",
      " 'Advanced Math Competitions; International Olympiad or University Courses Level.'\n",
      " 'Advanced Math Competitions; International Olympiad or University Courses Level.'\n",
      " 'Foundational High-School Math'\n",
      " 'High-Level Math Competition Problems; Regional Math Competitions.'\n",
      " 'Advanced Math Competitions; International Olympiad or University Courses Level.'\n",
      " 'Basic Math Concepts'\n",
      " 'Advanced Math Competitions; International Olympiad or University Courses Level.'\n",
      " 'Foundational High-School Math'\n",
      " 'Advanced Math Competitions; International Olympiad or University Courses Level.'\n",
      " 'Basic Math Concepts' 'Basic Math Concepts'\n",
      " 'Advanced Math Competitions; International Olympiad or University Courses Level.'\n",
      " 'High-School Intermediate Level Competition Math Problems'\n",
      " 'Foundational High-School Math'\n",
      " 'High-School Intermediate Level Competition Math Problems'\n",
      " 'High-School Intermediate Level Competition Math Problems'\n",
      " 'Foundational High-School Math'\n",
      " 'High-Level Math Competition Problems; Regional Math Competitions.'\n",
      " 'High-School Intermediate Level Competition Math Problems'\n",
      " 'High-School Intermediate Level Competition Math Problems'\n",
      " 'Foundational High-School Math'\n",
      " 'High-Level Math Competition Problems; Regional Math Competitions.'\n",
      " 'Advanced Math Competitions; International Olympiad or University Courses Level.'\n",
      " 'Basic Math Concepts'\n",
      " 'High-Level Math Competition Problems; Regional Math Competitions.'\n",
      " 'Basic Math Concepts'\n",
      " 'Advanced Math Competitions; International Olympiad or University Courses Level.'\n",
      " 'Advanced Math Competitions; International Olympiad or University Courses Level.'\n",
      " 'Advanced Math Competitions; International Olympiad or University Courses Level.'\n",
      " 'Foundational High-School Math'\n",
      " 'High-School Intermediate Level Competition Math Problems'\n",
      " 'High-School Intermediate Level Competition Math Problems'\n",
      " 'Advanced Math Competitions; International Olympiad or University Courses Level.'\n",
      " 'High-Level Math Competition Problems; Regional Math Competitions.'\n",
      " 'Basic Math Concepts'\n",
      " 'Advanced Math Competitions; International Olympiad or University Courses Level.'\n",
      " 'High-School Intermediate Level Competition Math Problems'\n",
      " 'Foundational High-School Math'\n",
      " 'High-Level Math Competition Problems; Regional Math Competitions.'\n",
      " 'High-Level Math Competition Problems; Regional Math Competitions.'\n",
      " 'Advanced Math Competitions; International Olympiad or University Courses Level.'\n",
      " 'High-School Intermediate Level Competition Math Problems'\n",
      " 'Advanced Math Competitions; International Olympiad or University Courses Level.'\n",
      " 'High-School Intermediate Level Competition Math Problems'\n",
      " 'Foundational High-School Math' 'Foundational High-School Math'\n",
      " 'High-School Intermediate Level Competition Math Problems'\n",
      " 'Foundational High-School Math'\n",
      " 'High-Level Math Competition Problems; Regional Math Competitions.'\n",
      " 'Foundational High-School Math'\n",
      " 'High-School Intermediate Level Competition Math Problems'\n",
      " 'High-Level Math Competition Problems; Regional Math Competitions.'\n",
      " 'Advanced Math Competitions; International Olympiad or University Courses Level.'\n",
      " 'High-Level Math Competition Problems; Regional Math Competitions.'\n",
      " 'High-Level Math Competition Problems; Regional Math Competitions.'\n",
      " 'High-Level Math Competition Problems; Regional Math Competitions.'\n",
      " 'Foundational High-School Math'\n",
      " 'High-Level Math Competition Problems; Regional Math Competitions.'\n",
      " 'Advanced Math Competitions; International Olympiad or University Courses Level.'\n",
      " 'High-School Intermediate Level Competition Math Problems'\n",
      " 'High-Level Math Competition Problems; Regional Math Competitions.'\n",
      " 'High-School Intermediate Level Competition Math Problems'\n",
      " 'High-Level Math Competition Problems; Regional Math Competitions.'\n",
      " 'High-School Intermediate Level Competition Math Problems'\n",
      " 'High-School Intermediate Level Competition Math Problems'\n",
      " 'High-School Intermediate Level Competition Math Problems'\n",
      " 'High-Level Math Competition Problems; Regional Math Competitions.'\n",
      " 'High-Level Math Competition Problems; Regional Math Competitions.'\n",
      " 'High-Level Math Competition Problems; Regional Math Competitions.'\n",
      " 'High-Level Math Competition Problems; Regional Math Competitions.'\n",
      " 'Advanced Math Competitions; International Olympiad or University Courses Level.'\n",
      " 'Foundational High-School Math'\n",
      " 'High-School Intermediate Level Competition Math Problems'\n",
      " 'High-Level Math Competition Problems; Regional Math Competitions.'\n",
      " 'High-Level Math Competition Problems; Regional Math Competitions.'\n",
      " 'Basic Math Concepts'\n",
      " 'Advanced Math Competitions; International Olympiad or University Courses Level.'\n",
      " 'Advanced Math Competitions; International Olympiad or University Courses Level.'\n",
      " 'High-Level Math Competition Problems; Regional Math Competitions.'\n",
      " 'Advanced Math Competitions; International Olympiad or University Courses Level.'\n",
      " 'Advanced Math Competitions; International Olympiad or University Courses Level.'\n",
      " 'Foundational High-School Math'\n",
      " 'Advanced Math Competitions; International Olympiad or University Courses Level.'\n",
      " 'High-Level Math Competition Problems; Regional Math Competitions.'\n",
      " 'Foundational High-School Math'\n",
      " 'High-School Intermediate Level Competition Math Problems'\n",
      " 'High-Level Math Competition Problems; Regional Math Competitions.'\n",
      " 'High-Level Math Competition Problems; Regional Math Competitions.'\n",
      " 'High-Level Math Competition Problems; Regional Math Competitions.'\n",
      " 'Advanced Math Competitions; International Olympiad or University Courses Level.'\n",
      " 'Advanced Math Competitions; International Olympiad or University Courses Level.'\n",
      " 'High-School Intermediate Level Competition Math Problems'\n",
      " 'Advanced Math Competitions; International Olympiad or University Courses Level.'\n",
      " 'Foundational High-School Math'\n",
      " 'High-School Intermediate Level Competition Math Problems'\n",
      " 'High-Level Math Competition Problems; Regional Math Competitions.'\n",
      " 'High-School Intermediate Level Competition Math Problems'\n",
      " 'Basic Math Concepts'\n",
      " 'High-School Intermediate Level Competition Math Problems'\n",
      " 'High-School Intermediate Level Competition Math Problems'\n",
      " 'Basic Math Concepts'\n",
      " 'High-Level Math Competition Problems; Regional Math Competitions.'\n",
      " 'Advanced Math Competitions; International Olympiad or University Courses Level.'\n",
      " 'Foundational High-School Math'\n",
      " 'High-School Intermediate Level Competition Math Problems'\n",
      " 'Basic Math Concepts' 'Basic Math Concepts'\n",
      " 'High-School Intermediate Level Competition Math Problems'\n",
      " 'Basic Math Concepts'\n",
      " 'High-Level Math Competition Problems; Regional Math Competitions.'\n",
      " 'High-Level Math Competition Problems; Regional Math Competitions.'\n",
      " 'High-Level Math Competition Problems; Regional Math Competitions.'\n",
      " 'Advanced Math Competitions; International Olympiad or University Courses Level.'\n",
      " 'Foundational High-School Math'\n",
      " 'Advanced Math Competitions; International Olympiad or University Courses Level.'\n",
      " 'High-Level Math Competition Problems; Regional Math Competitions.'\n",
      " 'High-School Intermediate Level Competition Math Problems'\n",
      " 'Advanced Math Competitions; International Olympiad or University Courses Level.'\n",
      " 'High-Level Math Competition Problems; Regional Math Competitions.'\n",
      " 'High-Level Math Competition Problems; Regional Math Competitions.'\n",
      " 'High-Level Math Competition Problems; Regional Math Competitions.'\n",
      " 'High-School Intermediate Level Competition Math Problems'\n",
      " 'Advanced Math Competitions; International Olympiad or University Courses Level.'\n",
      " 'High-Level Math Competition Problems; Regional Math Competitions.'\n",
      " 'Advanced Math Competitions; International Olympiad or University Courses Level.'\n",
      " 'Advanced Math Competitions; International Olympiad or University Courses Level.'\n",
      " 'Advanced Math Competitions; International Olympiad or University Courses Level.'\n",
      " 'High-School Intermediate Level Competition Math Problems'\n",
      " 'High-School Intermediate Level Competition Math Problems'\n",
      " 'High-Level Math Competition Problems; Regional Math Competitions.'\n",
      " 'High-Level Math Competition Problems; Regional Math Competitions.'\n",
      " 'Advanced Math Competitions; International Olympiad or University Courses Level.'\n",
      " 'High-Level Math Competition Problems; Regional Math Competitions.'\n",
      " 'High-School Intermediate Level Competition Math Problems'\n",
      " 'Foundational High-School Math'\n",
      " 'High-Level Math Competition Problems; Regional Math Competitions.'\n",
      " 'High-Level Math Competition Problems; Regional Math Competitions.'\n",
      " 'High-Level Math Competition Problems; Regional Math Competitions.'\n",
      " 'High-Level Math Competition Problems; Regional Math Competitions.'\n",
      " 'Advanced Math Competitions; International Olympiad or University Courses Level.'\n",
      " 'High-Level Math Competition Problems; Regional Math Competitions.'\n",
      " 'Advanced Math Competitions; International Olympiad or University Courses Level.'\n",
      " 'High-School Intermediate Level Competition Math Problems'\n",
      " 'High-Level Math Competition Problems; Regional Math Competitions.'\n",
      " 'Advanced Math Competitions; International Olympiad or University Courses Level.'\n",
      " 'Foundational High-School Math'\n",
      " 'Advanced Math Competitions; International Olympiad or University Courses Level.'\n",
      " 'High-School Intermediate Level Competition Math Problems'\n",
      " 'Foundational High-School Math'\n",
      " 'High-Level Math Competition Problems; Regional Math Competitions.'\n",
      " 'Basic Math Concepts'\n",
      " 'Advanced Math Competitions; International Olympiad or University Courses Level.'\n",
      " 'Foundational High-School Math'\n",
      " 'High-Level Math Competition Problems; Regional Math Competitions.'\n",
      " 'Foundational High-School Math'\n",
      " 'Advanced Math Competitions; International Olympiad or University Courses Level.'\n",
      " 'Foundational High-School Math'\n",
      " 'High-School Intermediate Level Competition Math Problems'\n",
      " 'Advanced Math Competitions; International Olympiad or University Courses Level.'\n",
      " 'Advanced Math Competitions; International Olympiad or University Courses Level.'\n",
      " 'High-School Intermediate Level Competition Math Problems'\n",
      " 'Advanced Math Competitions; International Olympiad or University Courses Level.'\n",
      " 'High-Level Math Competition Problems; Regional Math Competitions.'\n",
      " 'Foundational High-School Math' 'Foundational High-School Math'\n",
      " 'Advanced Math Competitions; International Olympiad or University Courses Level.'\n",
      " 'Advanced Math Competitions; International Olympiad or University Courses Level.'\n",
      " 'High-Level Math Competition Problems; Regional Math Competitions.'\n",
      " 'Advanced Math Competitions; International Olympiad or University Courses Level.'\n",
      " 'Advanced Math Competitions; International Olympiad or University Courses Level.'\n",
      " 'High-Level Math Competition Problems; Regional Math Competitions.'\n",
      " 'High-Level Math Competition Problems; Regional Math Competitions.'\n",
      " 'High-School Intermediate Level Competition Math Problems'\n",
      " 'High-Level Math Competition Problems; Regional Math Competitions.'\n",
      " 'Basic Math Concepts'\n",
      " 'High-School Intermediate Level Competition Math Problems'\n",
      " 'High-School Intermediate Level Competition Math Problems'\n",
      " 'High-School Intermediate Level Competition Math Problems'\n",
      " 'High-School Intermediate Level Competition Math Problems'\n",
      " 'High-Level Math Competition Problems; Regional Math Competitions.'\n",
      " 'High-School Intermediate Level Competition Math Problems'\n",
      " 'Foundational High-School Math' 'Foundational High-School Math'\n",
      " 'High-School Intermediate Level Competition Math Problems'\n",
      " 'High-Level Math Competition Problems; Regional Math Competitions.'\n",
      " 'High-School Intermediate Level Competition Math Problems'\n",
      " 'Foundational High-School Math'\n",
      " 'High-Level Math Competition Problems; Regional Math Competitions.'\n",
      " 'Foundational High-School Math'\n",
      " 'High-School Intermediate Level Competition Math Problems'\n",
      " 'High-Level Math Competition Problems; Regional Math Competitions.'\n",
      " 'High-Level Math Competition Problems; Regional Math Competitions.'\n",
      " 'High-Level Math Competition Problems; Regional Math Competitions.'\n",
      " 'Advanced Math Competitions; International Olympiad or University Courses Level.'\n",
      " 'Advanced Math Competitions; International Olympiad or University Courses Level.'\n",
      " 'Advanced Math Competitions; International Olympiad or University Courses Level.'\n",
      " 'Foundational High-School Math'\n",
      " 'High-Level Math Competition Problems; Regional Math Competitions.'\n",
      " 'High-School Intermediate Level Competition Math Problems'\n",
      " 'High-Level Math Competition Problems; Regional Math Competitions.'\n",
      " 'Basic Math Concepts' 'Foundational High-School Math'\n",
      " 'High-Level Math Competition Problems; Regional Math Competitions.'\n",
      " 'Advanced Math Competitions; International Olympiad or University Courses Level.'\n",
      " 'High-Level Math Competition Problems; Regional Math Competitions.'\n",
      " 'High-Level Math Competition Problems; Regional Math Competitions.'\n",
      " 'Foundational High-School Math' 'Foundational High-School Math'\n",
      " 'Basic Math Concepts'\n",
      " 'Advanced Math Competitions; International Olympiad or University Courses Level.'\n",
      " 'Foundational High-School Math'\n",
      " 'Advanced Math Competitions; International Olympiad or University Courses Level.'\n",
      " 'Basic Math Concepts'\n",
      " 'Advanced Math Competitions; International Olympiad or University Courses Level.'\n",
      " 'High-Level Math Competition Problems; Regional Math Competitions.'\n",
      " 'High-School Intermediate Level Competition Math Problems'\n",
      " 'High-School Intermediate Level Competition Math Problems'\n",
      " 'High-Level Math Competition Problems; Regional Math Competitions.'\n",
      " 'High-Level Math Competition Problems; Regional Math Competitions.'\n",
      " 'Advanced Math Competitions; International Olympiad or University Courses Level.'\n",
      " 'Advanced Math Competitions; International Olympiad or University Courses Level.'\n",
      " 'High-Level Math Competition Problems; Regional Math Competitions.'\n",
      " 'Foundational High-School Math'\n",
      " 'Advanced Math Competitions; International Olympiad or University Courses Level.'\n",
      " 'High-School Intermediate Level Competition Math Problems'\n",
      " 'Basic Math Concepts'\n",
      " 'Advanced Math Competitions; International Olympiad or University Courses Level.'\n",
      " 'High-School Intermediate Level Competition Math Problems'\n",
      " 'Advanced Math Competitions; International Olympiad or University Courses Level.'\n",
      " 'Advanced Math Competitions; International Olympiad or University Courses Level.'\n",
      " 'Advanced Math Competitions; International Olympiad or University Courses Level.'\n",
      " 'High-School Intermediate Level Competition Math Problems'\n",
      " 'Advanced Math Competitions; International Olympiad or University Courses Level.'\n",
      " 'Basic Math Concepts'\n",
      " 'High-School Intermediate Level Competition Math Problems'\n",
      " 'Foundational High-School Math'\n",
      " 'High-Level Math Competition Problems; Regional Math Competitions.'\n",
      " 'Foundational High-School Math'\n",
      " 'Advanced Math Competitions; International Olympiad or University Courses Level.'\n",
      " 'Advanced Math Competitions; International Olympiad or University Courses Level.'\n",
      " 'High-School Intermediate Level Competition Math Problems'\n",
      " 'High-Level Math Competition Problems; Regional Math Competitions.'\n",
      " 'Basic Math Concepts'\n",
      " 'High-Level Math Competition Problems; Regional Math Competitions.'\n",
      " 'Basic Math Concepts'\n",
      " 'High-Level Math Competition Problems; Regional Math Competitions.'\n",
      " 'Advanced Math Competitions; International Olympiad or University Courses Level.'\n",
      " 'High-Level Math Competition Problems; Regional Math Competitions.'\n",
      " 'Foundational High-School Math'\n",
      " 'High-School Intermediate Level Competition Math Problems'\n",
      " 'High-Level Math Competition Problems; Regional Math Competitions.'\n",
      " 'Foundational High-School Math'\n",
      " 'High-Level Math Competition Problems; Regional Math Competitions.'\n",
      " 'Advanced Math Competitions; International Olympiad or University Courses Level.'\n",
      " 'High-School Intermediate Level Competition Math Problems'\n",
      " 'Advanced Math Competitions; International Olympiad or University Courses Level.'\n",
      " 'Advanced Math Competitions; International Olympiad or University Courses Level.'\n",
      " 'High-Level Math Competition Problems; Regional Math Competitions.'\n",
      " 'High-School Intermediate Level Competition Math Problems'\n",
      " 'Advanced Math Competitions; International Olympiad or University Courses Level.'\n",
      " 'Advanced Math Competitions; International Olympiad or University Courses Level.'\n",
      " 'Advanced Math Competitions; International Olympiad or University Courses Level.'\n",
      " 'Advanced Math Competitions; International Olympiad or University Courses Level.'\n",
      " 'Advanced Math Competitions; International Olympiad or University Courses Level.'\n",
      " 'High-School Intermediate Level Competition Math Problems'\n",
      " 'Foundational High-School Math'\n",
      " 'High-Level Math Competition Problems; Regional Math Competitions.'\n",
      " 'High-School Intermediate Level Competition Math Problems'\n",
      " 'Foundational High-School Math'\n",
      " 'High-Level Math Competition Problems; Regional Math Competitions.'\n",
      " 'Advanced Math Competitions; International Olympiad or University Courses Level.'\n",
      " 'Foundational High-School Math'\n",
      " 'Advanced Math Competitions; International Olympiad or University Courses Level.'\n",
      " 'Advanced Math Competitions; International Olympiad or University Courses Level.'\n",
      " 'High-Level Math Competition Problems; Regional Math Competitions.'\n",
      " 'High-School Intermediate Level Competition Math Problems'\n",
      " 'Foundational High-School Math'\n",
      " 'High-School Intermediate Level Competition Math Problems'\n",
      " 'High-School Intermediate Level Competition Math Problems'\n",
      " 'High-Level Math Competition Problems; Regional Math Competitions.'\n",
      " 'High-Level Math Competition Problems; Regional Math Competitions.'\n",
      " 'High-Level Math Competition Problems; Regional Math Competitions.'\n",
      " 'Advanced Math Competitions; International Olympiad or University Courses Level.'\n",
      " 'High-Level Math Competition Problems; Regional Math Competitions.'\n",
      " 'High-Level Math Competition Problems; Regional Math Competitions.'\n",
      " 'Basic Math Concepts'\n",
      " 'Advanced Math Competitions; International Olympiad or University Courses Level.'\n",
      " 'Basic Math Concepts'\n",
      " 'Advanced Math Competitions; International Olympiad or University Courses Level.'\n",
      " 'High-School Intermediate Level Competition Math Problems'\n",
      " 'Foundational High-School Math' 'Foundational High-School Math'\n",
      " 'Advanced Math Competitions; International Olympiad or University Courses Level.'\n",
      " 'Foundational High-School Math' 'Basic Math Concepts'\n",
      " 'Basic Math Concepts'\n",
      " 'High-School Intermediate Level Competition Math Problems'\n",
      " 'Advanced Math Competitions; International Olympiad or University Courses Level.'\n",
      " 'High-Level Math Competition Problems; Regional Math Competitions.'\n",
      " 'High-Level Math Competition Problems; Regional Math Competitions.'\n",
      " 'Foundational High-School Math' 'Foundational High-School Math'\n",
      " 'High-School Intermediate Level Competition Math Problems'\n",
      " 'High-Level Math Competition Problems; Regional Math Competitions.'\n",
      " 'Advanced Math Competitions; International Olympiad or University Courses Level.'\n",
      " 'Foundational High-School Math'\n",
      " 'High-Level Math Competition Problems; Regional Math Competitions.'\n",
      " 'High-School Intermediate Level Competition Math Problems'\n",
      " 'Advanced Math Competitions; International Olympiad or University Courses Level.'\n",
      " 'High-School Intermediate Level Competition Math Problems'\n",
      " 'Basic Math Concepts'\n",
      " 'Advanced Math Competitions; International Olympiad or University Courses Level.'\n",
      " 'Basic Math Concepts'\n",
      " 'Advanced Math Competitions; International Olympiad or University Courses Level.'\n",
      " 'Foundational High-School Math'\n",
      " 'High-School Intermediate Level Competition Math Problems'\n",
      " 'Advanced Math Competitions; International Olympiad or University Courses Level.'\n",
      " 'Advanced Math Competitions; International Olympiad or University Courses Level.'\n",
      " 'Foundational High-School Math'\n",
      " 'Advanced Math Competitions; International Olympiad or University Courses Level.'\n",
      " 'Advanced Math Competitions; International Olympiad or University Courses Level.'\n",
      " 'High-School Intermediate Level Competition Math Problems'\n",
      " 'High-School Intermediate Level Competition Math Problems'\n",
      " 'Foundational High-School Math'\n",
      " 'High-School Intermediate Level Competition Math Problems'\n",
      " 'Basic Math Concepts'\n",
      " 'Advanced Math Competitions; International Olympiad or University Courses Level.'\n",
      " 'High-School Intermediate Level Competition Math Problems'\n",
      " 'Advanced Math Competitions; International Olympiad or University Courses Level.'\n",
      " 'Advanced Math Competitions; International Olympiad or University Courses Level.'\n",
      " 'High-School Intermediate Level Competition Math Problems'\n",
      " 'Advanced Math Competitions; International Olympiad or University Courses Level.'\n",
      " 'Advanced Math Competitions; International Olympiad or University Courses Level.'\n",
      " 'High-Level Math Competition Problems; Regional Math Competitions.'\n",
      " 'High-School Intermediate Level Competition Math Problems'\n",
      " 'Advanced Math Competitions; International Olympiad or University Courses Level.'\n",
      " 'Advanced Math Competitions; International Olympiad or University Courses Level.'\n",
      " 'High-Level Math Competition Problems; Regional Math Competitions.']' has dtype incompatible with int64, please explicitly cast to a compatible dtype first.\n",
      "  df.loc[:, \"level\"] = df.loc[:, \"level\"].replace({\n"
     ]
    },
    {
     "data": {
      "text/plain": "                                               problem  \\\n0    Convert the point $(0,3)$ in rectangular coord...   \n1    Define\\n\\[p = \\sum_{k = 1}^\\infty \\frac{1}{k^2...   \n2    If $f(x) = \\frac{3x-2}{x-2}$, what is the valu...   \n3    How many positive whole-number divisors does 1...   \n4    The results of a cross-country team's training...   \n..                                                 ...   \n495  What is the domain of the function $f(x) = \\fr...   \n496  Let $z = 1+i$ and $w = \\dfrac{3z+1}{5z+7}$. Fi...   \n497  An equiangular octagon has four sides of lengt...   \n498  A sequence $(a_n)$ is defined as follows:\\n\\[a...   \n499  Altitudes $\\overline{AD}$ and $\\overline{BE}$ ...   \n\n                                              solution  \\\n0    We have that $r = \\sqrt{0^2 + 3^2} = 3.$  Also...   \n1    We count the number of times $\\frac{1}{n^3}$ a...   \n2    $f(-2)+f(-1)+f(0)=\\frac{3(-2)-2}{-2-2}+\\frac{3...   \n3    First prime factorize $196=2^2\\cdot7^2$.  The ...   \n4    Evelyn covered more distance in less time than...   \n..                                                 ...   \n495  The inner logarithm is only defined if $x - 2 ...   \n496  Plugging in, we have $w = \\dfrac{3(1+i)+1}{5(1...   \n497  The octagon can be partitioned into five squar...   \n498  First, if $a_3 = a_1,$ then\\n\\[a_1 = a_3 = a_5...   \n499  First, we build a diagram:\\n\\n[asy]\\n\\nsize(15...   \n\n                              answer               subject  \\\n0    \\left( 3, \\frac{\\pi}{2} \\right)           Precalculus   \n1                              p - q  Intermediate Algebra   \n2                       \\frac{14}{3}               Algebra   \n3                                  9         Number Theory   \n4                      \\text{Evelyn}               Algebra   \n..                               ...                   ...   \n495             (2,12) \\cup (12,102)  Intermediate Algebra   \n496                     \\frac{5}{13}  Intermediate Algebra   \n497                      \\frac{7}{2}              Geometry   \n498                               -1  Intermediate Algebra   \n499                        106^\\circ              Geometry   \n\n                                                 level  \\\n0                        Foundational High-School Math   \n1    Advanced Math Competitions; International Olym...   \n2    High-School Intermediate Level Competition Mat...   \n3    High-School Intermediate Level Competition Mat...   \n4                        Foundational High-School Math   \n..                                                 ...   \n495  High-Level Math Competition Problems; Regional...   \n496  High-School Intermediate Level Competition Mat...   \n497  Advanced Math Competitions; International Olym...   \n498  Advanced Math Competitions; International Olym...   \n499  High-Level Math Competition Problems; Regional...   \n\n                               unique_id  original_level  \n0              test/precalculus/807.json               2  \n1    test/intermediate_algebra/1994.json               5  \n2                 test/algebra/2584.json               3  \n3            test/number_theory/572.json               3  \n4                 test/algebra/1349.json               2  \n..                                   ...             ...  \n495  test/intermediate_algebra/1981.json               4  \n496  test/intermediate_algebra/1232.json               3  \n497               test/geometry/561.json               5  \n498  test/intermediate_algebra/1508.json               5  \n499               test/geometry/615.json               4  \n\n[500 rows x 7 columns]",
      "text/html": "<div>\n<style scoped>\n    .dataframe tbody tr th:only-of-type {\n        vertical-align: middle;\n    }\n\n    .dataframe tbody tr th {\n        vertical-align: top;\n    }\n\n    .dataframe thead th {\n        text-align: right;\n    }\n</style>\n<table border=\"1\" class=\"dataframe\">\n  <thead>\n    <tr style=\"text-align: right;\">\n      <th></th>\n      <th>problem</th>\n      <th>solution</th>\n      <th>answer</th>\n      <th>subject</th>\n      <th>level</th>\n      <th>unique_id</th>\n      <th>original_level</th>\n    </tr>\n  </thead>\n  <tbody>\n    <tr>\n      <th>0</th>\n      <td>Convert the point $(0,3)$ in rectangular coord...</td>\n      <td>We have that $r = \\sqrt{0^2 + 3^2} = 3.$  Also...</td>\n      <td>\\left( 3, \\frac{\\pi}{2} \\right)</td>\n      <td>Precalculus</td>\n      <td>Foundational High-School Math</td>\n      <td>test/precalculus/807.json</td>\n      <td>2</td>\n    </tr>\n    <tr>\n      <th>1</th>\n      <td>Define\\n\\[p = \\sum_{k = 1}^\\infty \\frac{1}{k^2...</td>\n      <td>We count the number of times $\\frac{1}{n^3}$ a...</td>\n      <td>p - q</td>\n      <td>Intermediate Algebra</td>\n      <td>Advanced Math Competitions; International Olym...</td>\n      <td>test/intermediate_algebra/1994.json</td>\n      <td>5</td>\n    </tr>\n    <tr>\n      <th>2</th>\n      <td>If $f(x) = \\frac{3x-2}{x-2}$, what is the valu...</td>\n      <td>$f(-2)+f(-1)+f(0)=\\frac{3(-2)-2}{-2-2}+\\frac{3...</td>\n      <td>\\frac{14}{3}</td>\n      <td>Algebra</td>\n      <td>High-School Intermediate Level Competition Mat...</td>\n      <td>test/algebra/2584.json</td>\n      <td>3</td>\n    </tr>\n    <tr>\n      <th>3</th>\n      <td>How many positive whole-number divisors does 1...</td>\n      <td>First prime factorize $196=2^2\\cdot7^2$.  The ...</td>\n      <td>9</td>\n      <td>Number Theory</td>\n      <td>High-School Intermediate Level Competition Mat...</td>\n      <td>test/number_theory/572.json</td>\n      <td>3</td>\n    </tr>\n    <tr>\n      <th>4</th>\n      <td>The results of a cross-country team's training...</td>\n      <td>Evelyn covered more distance in less time than...</td>\n      <td>\\text{Evelyn}</td>\n      <td>Algebra</td>\n      <td>Foundational High-School Math</td>\n      <td>test/algebra/1349.json</td>\n      <td>2</td>\n    </tr>\n    <tr>\n      <th>...</th>\n      <td>...</td>\n      <td>...</td>\n      <td>...</td>\n      <td>...</td>\n      <td>...</td>\n      <td>...</td>\n      <td>...</td>\n    </tr>\n    <tr>\n      <th>495</th>\n      <td>What is the domain of the function $f(x) = \\fr...</td>\n      <td>The inner logarithm is only defined if $x - 2 ...</td>\n      <td>(2,12) \\cup (12,102)</td>\n      <td>Intermediate Algebra</td>\n      <td>High-Level Math Competition Problems; Regional...</td>\n      <td>test/intermediate_algebra/1981.json</td>\n      <td>4</td>\n    </tr>\n    <tr>\n      <th>496</th>\n      <td>Let $z = 1+i$ and $w = \\dfrac{3z+1}{5z+7}$. Fi...</td>\n      <td>Plugging in, we have $w = \\dfrac{3(1+i)+1}{5(1...</td>\n      <td>\\frac{5}{13}</td>\n      <td>Intermediate Algebra</td>\n      <td>High-School Intermediate Level Competition Mat...</td>\n      <td>test/intermediate_algebra/1232.json</td>\n      <td>3</td>\n    </tr>\n    <tr>\n      <th>497</th>\n      <td>An equiangular octagon has four sides of lengt...</td>\n      <td>The octagon can be partitioned into five squar...</td>\n      <td>\\frac{7}{2}</td>\n      <td>Geometry</td>\n      <td>Advanced Math Competitions; International Olym...</td>\n      <td>test/geometry/561.json</td>\n      <td>5</td>\n    </tr>\n    <tr>\n      <th>498</th>\n      <td>A sequence $(a_n)$ is defined as follows:\\n\\[a...</td>\n      <td>First, if $a_3 = a_1,$ then\\n\\[a_1 = a_3 = a_5...</td>\n      <td>-1</td>\n      <td>Intermediate Algebra</td>\n      <td>Advanced Math Competitions; International Olym...</td>\n      <td>test/intermediate_algebra/1508.json</td>\n      <td>5</td>\n    </tr>\n    <tr>\n      <th>499</th>\n      <td>Altitudes $\\overline{AD}$ and $\\overline{BE}$ ...</td>\n      <td>First, we build a diagram:\\n\\n[asy]\\n\\nsize(15...</td>\n      <td>106^\\circ</td>\n      <td>Geometry</td>\n      <td>High-Level Math Competition Problems; Regional...</td>\n      <td>test/geometry/615.json</td>\n      <td>4</td>\n    </tr>\n  </tbody>\n</table>\n<p>500 rows × 7 columns</p>\n</div>"
     },
     "execution_count": 3,
     "metadata": {},
     "output_type": "execute_result"
    }
   ],
   "source": [
    "df.loc[:, \"original_level\"] = df.loc[:, \"level\"]\n",
    "df.loc[:, \"level\"] = df.loc[:, \"level\"].replace({\n",
    "    1: \"Basic Math Concepts\",\n",
    "    2: \"Foundational High-School Math\",\n",
    "    3: \"High-School Intermediate Level Competition Math Problems\",\n",
    "    4: \"High-Level Math Competition Problems; Regional Math Competitions.\",\n",
    "    5: \"Advanced Math Competitions; International Olympiad or University Courses Level.\"\n",
    "})\n",
    "df"
   ],
   "metadata": {
    "collapsed": false,
    "ExecuteTime": {
     "end_time": "2025-01-08T13:58:49.904716Z",
     "start_time": "2025-01-08T13:58:49.901237Z"
    }
   }
  },
  {
   "cell_type": "code",
   "execution_count": 4,
   "outputs": [
    {
     "data": {
      "text/plain": "True"
     },
     "execution_count": 4,
     "metadata": {},
     "output_type": "execute_result"
    }
   ],
   "source": [
    "load_dotenv(\"./../.env\")"
   ],
   "metadata": {
    "collapsed": false,
    "ExecuteTime": {
     "end_time": "2025-01-08T13:58:49.908045Z",
     "start_time": "2025-01-08T13:58:49.904962Z"
    }
   }
  },
  {
   "cell_type": "code",
   "execution_count": 5,
   "outputs": [
    {
     "name": "stdout",
     "output_type": "stream",
     "text": [
      "Bonjour à tous !\n"
     ]
    }
   ],
   "source": [
    "auth_key = os.environ[\"DEEPL_AUTH_KEY\"]\n",
    "translator = deepl.Translator(auth_key)\n",
    "\n",
    "result = translator.translate_text(\"Hello, world!\", target_lang=\"FR\")\n",
    "print(result.text)"
   ],
   "metadata": {
    "collapsed": false,
    "ExecuteTime": {
     "end_time": "2025-01-08T13:58:50.444016Z",
     "start_time": "2025-01-08T13:58:49.910202Z"
    }
   }
  },
  {
   "cell_type": "code",
   "execution_count": 8,
   "outputs": [
    {
     "name": "stderr",
     "output_type": "stream",
     "text": [
      "/var/folders/gg/1kd93k4x47q5_gj92ljtjf000000gq/T/ipykernel_89857/984970557.py:9: FutureWarning: DataFrame.applymap has been deprecated. Use DataFrame.map instead.\n",
      "  df_char_count = df[columns_to_count].applymap(len)\n"
     ]
    },
    {
     "data": {
      "text/plain": "                                               problem  \\\n0    Convert the point $(0,3)$ in rectangular coord...   \n1    Define\\n\\[p = \\sum_{k = 1}^\\infty \\frac{1}{k^2...   \n2    If $f(x) = \\frac{3x-2}{x-2}$, what is the valu...   \n3    How many positive whole-number divisors does 1...   \n4    The results of a cross-country team's training...   \n..                                                 ...   \n495  What is the domain of the function $f(x) = \\fr...   \n496  Let $z = 1+i$ and $w = \\dfrac{3z+1}{5z+7}$. Fi...   \n497  An equiangular octagon has four sides of lengt...   \n498  A sequence $(a_n)$ is defined as follows:\\n\\[a...   \n499  Altitudes $\\overline{AD}$ and $\\overline{BE}$ ...   \n\n                                              solution  \\\n0    We have that $r = \\sqrt{0^2 + 3^2} = 3.$  Also...   \n1    We count the number of times $\\frac{1}{n^3}$ a...   \n2    $f(-2)+f(-1)+f(0)=\\frac{3(-2)-2}{-2-2}+\\frac{3...   \n3    First prime factorize $196=2^2\\cdot7^2$.  The ...   \n4    Evelyn covered more distance in less time than...   \n..                                                 ...   \n495  The inner logarithm is only defined if $x - 2 ...   \n496  Plugging in, we have $w = \\dfrac{3(1+i)+1}{5(1...   \n497  The octagon can be partitioned into five squar...   \n498  First, if $a_3 = a_1,$ then\\n\\[a_1 = a_3 = a_5...   \n499  First, we build a diagram:\\n\\n[asy]\\n\\nsize(15...   \n\n                              answer               subject  \\\n0    \\left( 3, \\frac{\\pi}{2} \\right)           Precalculus   \n1                              p - q  Intermediate Algebra   \n2                       \\frac{14}{3}               Algebra   \n3                                  9         Number Theory   \n4                      \\text{Evelyn}               Algebra   \n..                               ...                   ...   \n495             (2,12) \\cup (12,102)  Intermediate Algebra   \n496                     \\frac{5}{13}  Intermediate Algebra   \n497                      \\frac{7}{2}              Geometry   \n498                               -1  Intermediate Algebra   \n499                        106^\\circ              Geometry   \n\n                                                 level  \\\n0                        Foundational High-School Math   \n1    Advanced Math Competitions; International Olym...   \n2    High-School Intermediate Level Competition Mat...   \n3    High-School Intermediate Level Competition Mat...   \n4                        Foundational High-School Math   \n..                                                 ...   \n495  High-Level Math Competition Problems; Regional...   \n496  High-School Intermediate Level Competition Mat...   \n497  Advanced Math Competitions; International Olym...   \n498  Advanced Math Competitions; International Olym...   \n499  High-Level Math Competition Problems; Regional...   \n\n                               unique_id  original_level  problem_char_count  \\\n0              test/precalculus/807.json               2                 161   \n1    test/intermediate_algebra/1994.json               5                 217   \n2                 test/algebra/2584.json               3                 113   \n3            test/number_theory/572.json               3                  54   \n4                 test/algebra/1349.json               2                 731   \n..                                   ...             ...                 ...   \n495  test/intermediate_algebra/1981.json               4                 166   \n496  test/intermediate_algebra/1232.json               3                  55   \n497               test/geometry/561.json               5                 195   \n498  test/intermediate_algebra/1508.json               5                 125   \n499               test/geometry/615.json               4                 166   \n\n     solution_char_count  subject_char_count  level_char_count  \n0                    439                  11                29  \n1                    773                  20                79  \n2                    158                   7                56  \n3                    506                  13                56  \n4                    326                   7                29  \n..                   ...                 ...               ...  \n495                  412                  20                65  \n496                  442                  20                56  \n497                  630                   8                79  \n498                  509                  20                79  \n499                  778                   8                65  \n\n[500 rows x 11 columns]",
      "text/html": "<div>\n<style scoped>\n    .dataframe tbody tr th:only-of-type {\n        vertical-align: middle;\n    }\n\n    .dataframe tbody tr th {\n        vertical-align: top;\n    }\n\n    .dataframe thead th {\n        text-align: right;\n    }\n</style>\n<table border=\"1\" class=\"dataframe\">\n  <thead>\n    <tr style=\"text-align: right;\">\n      <th></th>\n      <th>problem</th>\n      <th>solution</th>\n      <th>answer</th>\n      <th>subject</th>\n      <th>level</th>\n      <th>unique_id</th>\n      <th>original_level</th>\n      <th>problem_char_count</th>\n      <th>solution_char_count</th>\n      <th>subject_char_count</th>\n      <th>level_char_count</th>\n    </tr>\n  </thead>\n  <tbody>\n    <tr>\n      <th>0</th>\n      <td>Convert the point $(0,3)$ in rectangular coord...</td>\n      <td>We have that $r = \\sqrt{0^2 + 3^2} = 3.$  Also...</td>\n      <td>\\left( 3, \\frac{\\pi}{2} \\right)</td>\n      <td>Precalculus</td>\n      <td>Foundational High-School Math</td>\n      <td>test/precalculus/807.json</td>\n      <td>2</td>\n      <td>161</td>\n      <td>439</td>\n      <td>11</td>\n      <td>29</td>\n    </tr>\n    <tr>\n      <th>1</th>\n      <td>Define\\n\\[p = \\sum_{k = 1}^\\infty \\frac{1}{k^2...</td>\n      <td>We count the number of times $\\frac{1}{n^3}$ a...</td>\n      <td>p - q</td>\n      <td>Intermediate Algebra</td>\n      <td>Advanced Math Competitions; International Olym...</td>\n      <td>test/intermediate_algebra/1994.json</td>\n      <td>5</td>\n      <td>217</td>\n      <td>773</td>\n      <td>20</td>\n      <td>79</td>\n    </tr>\n    <tr>\n      <th>2</th>\n      <td>If $f(x) = \\frac{3x-2}{x-2}$, what is the valu...</td>\n      <td>$f(-2)+f(-1)+f(0)=\\frac{3(-2)-2}{-2-2}+\\frac{3...</td>\n      <td>\\frac{14}{3}</td>\n      <td>Algebra</td>\n      <td>High-School Intermediate Level Competition Mat...</td>\n      <td>test/algebra/2584.json</td>\n      <td>3</td>\n      <td>113</td>\n      <td>158</td>\n      <td>7</td>\n      <td>56</td>\n    </tr>\n    <tr>\n      <th>3</th>\n      <td>How many positive whole-number divisors does 1...</td>\n      <td>First prime factorize $196=2^2\\cdot7^2$.  The ...</td>\n      <td>9</td>\n      <td>Number Theory</td>\n      <td>High-School Intermediate Level Competition Mat...</td>\n      <td>test/number_theory/572.json</td>\n      <td>3</td>\n      <td>54</td>\n      <td>506</td>\n      <td>13</td>\n      <td>56</td>\n    </tr>\n    <tr>\n      <th>4</th>\n      <td>The results of a cross-country team's training...</td>\n      <td>Evelyn covered more distance in less time than...</td>\n      <td>\\text{Evelyn}</td>\n      <td>Algebra</td>\n      <td>Foundational High-School Math</td>\n      <td>test/algebra/1349.json</td>\n      <td>2</td>\n      <td>731</td>\n      <td>326</td>\n      <td>7</td>\n      <td>29</td>\n    </tr>\n    <tr>\n      <th>...</th>\n      <td>...</td>\n      <td>...</td>\n      <td>...</td>\n      <td>...</td>\n      <td>...</td>\n      <td>...</td>\n      <td>...</td>\n      <td>...</td>\n      <td>...</td>\n      <td>...</td>\n      <td>...</td>\n    </tr>\n    <tr>\n      <th>495</th>\n      <td>What is the domain of the function $f(x) = \\fr...</td>\n      <td>The inner logarithm is only defined if $x - 2 ...</td>\n      <td>(2,12) \\cup (12,102)</td>\n      <td>Intermediate Algebra</td>\n      <td>High-Level Math Competition Problems; Regional...</td>\n      <td>test/intermediate_algebra/1981.json</td>\n      <td>4</td>\n      <td>166</td>\n      <td>412</td>\n      <td>20</td>\n      <td>65</td>\n    </tr>\n    <tr>\n      <th>496</th>\n      <td>Let $z = 1+i$ and $w = \\dfrac{3z+1}{5z+7}$. Fi...</td>\n      <td>Plugging in, we have $w = \\dfrac{3(1+i)+1}{5(1...</td>\n      <td>\\frac{5}{13}</td>\n      <td>Intermediate Algebra</td>\n      <td>High-School Intermediate Level Competition Mat...</td>\n      <td>test/intermediate_algebra/1232.json</td>\n      <td>3</td>\n      <td>55</td>\n      <td>442</td>\n      <td>20</td>\n      <td>56</td>\n    </tr>\n    <tr>\n      <th>497</th>\n      <td>An equiangular octagon has four sides of lengt...</td>\n      <td>The octagon can be partitioned into five squar...</td>\n      <td>\\frac{7}{2}</td>\n      <td>Geometry</td>\n      <td>Advanced Math Competitions; International Olym...</td>\n      <td>test/geometry/561.json</td>\n      <td>5</td>\n      <td>195</td>\n      <td>630</td>\n      <td>8</td>\n      <td>79</td>\n    </tr>\n    <tr>\n      <th>498</th>\n      <td>A sequence $(a_n)$ is defined as follows:\\n\\[a...</td>\n      <td>First, if $a_3 = a_1,$ then\\n\\[a_1 = a_3 = a_5...</td>\n      <td>-1</td>\n      <td>Intermediate Algebra</td>\n      <td>Advanced Math Competitions; International Olym...</td>\n      <td>test/intermediate_algebra/1508.json</td>\n      <td>5</td>\n      <td>125</td>\n      <td>509</td>\n      <td>20</td>\n      <td>79</td>\n    </tr>\n    <tr>\n      <th>499</th>\n      <td>Altitudes $\\overline{AD}$ and $\\overline{BE}$ ...</td>\n      <td>First, we build a diagram:\\n\\n[asy]\\n\\nsize(15...</td>\n      <td>106^\\circ</td>\n      <td>Geometry</td>\n      <td>High-Level Math Competition Problems; Regional...</td>\n      <td>test/geometry/615.json</td>\n      <td>4</td>\n      <td>166</td>\n      <td>778</td>\n      <td>8</td>\n      <td>65</td>\n    </tr>\n  </tbody>\n</table>\n<p>500 rows × 11 columns</p>\n</div>"
     },
     "execution_count": 8,
     "metadata": {},
     "output_type": "execute_result"
    }
   ],
   "source": [
    "columns_to_count = [\n",
    "    'problem',\n",
    "    'solution',\n",
    "    'subject',\n",
    "    'level',\n",
    "]\n",
    "\n",
    "# Count characters per cell in specified columns\n",
    "df_char_count = df[columns_to_count].applymap(len)\n",
    "for column in columns_to_count:\n",
    "    df[f'{column}_char_count'] = df_char_count[column]\n",
    "\n",
    "df"
   ],
   "metadata": {
    "collapsed": false,
    "ExecuteTime": {
     "end_time": "2025-01-08T14:01:56.260030Z",
     "start_time": "2025-01-08T14:01:56.256026Z"
    }
   }
  },
  {
   "cell_type": "code",
   "execution_count": 13,
   "outputs": [
    {
     "name": "stdout",
     "output_type": "stream",
     "text": [
      "398017\n"
     ]
    },
    {
     "data": {
      "text/plain": "problem_char_count      97946\nsolution_char_count    265644\nsubject_char_count       6214\nlevel_char_count        28213\ndtype: int64"
     },
     "execution_count": 13,
     "metadata": {},
     "output_type": "execute_result"
    }
   ],
   "source": [
    "print(df.loc[:, [\n",
    "    \"problem_char_count\",\n",
    "    \"solution_char_count\",\n",
    "    \"subject_char_count\",\n",
    "    \"level_char_count\",\n",
    "          ]].sum().sum())\n",
    "df.loc[:, [\n",
    "    \"problem_char_count\",\n",
    "    \"solution_char_count\",\n",
    "    \"subject_char_count\",\n",
    "    \"level_char_count\",\n",
    "          ]].sum()"
   ],
   "metadata": {
    "collapsed": false,
    "ExecuteTime": {
     "end_time": "2025-01-08T14:04:06.806543Z",
     "start_time": "2025-01-08T14:04:06.803741Z"
    }
   }
  },
  {
   "cell_type": "code",
   "execution_count": 17,
   "outputs": [
    {
     "name": "stderr",
     "output_type": "stream",
     "text": [
      "100%|██████████| 500/500 [02:13<00:00,  3.75it/s]\n",
      "100%|██████████| 500/500 [03:49<00:00,  2.17it/s]\n",
      "100%|██████████| 500/500 [02:10<00:00,  3.83it/s]\n",
      "100%|██████████| 500/500 [01:22<00:00,  6.04it/s]\n"
     ]
    },
    {
     "data": {
      "text/plain": "                                               problem  \\\n0    Convert the point $(0,3)$ in rectangular coord...   \n1    Define\\n\\[p = \\sum_{k = 1}^\\infty \\frac{1}{k^2...   \n2    If $f(x) = \\frac{3x-2}{x-2}$, what is the valu...   \n3    How many positive whole-number divisors does 1...   \n4    The results of a cross-country team's training...   \n..                                                 ...   \n495  What is the domain of the function $f(x) = \\fr...   \n496  Let $z = 1+i$ and $w = \\dfrac{3z+1}{5z+7}$. Fi...   \n497  An equiangular octagon has four sides of lengt...   \n498  A sequence $(a_n)$ is defined as follows:\\n\\[a...   \n499  Altitudes $\\overline{AD}$ and $\\overline{BE}$ ...   \n\n                                              solution  \\\n0    We have that $r = \\sqrt{0^2 + 3^2} = 3.$  Also...   \n1    We count the number of times $\\frac{1}{n^3}$ a...   \n2    $f(-2)+f(-1)+f(0)=\\frac{3(-2)-2}{-2-2}+\\frac{3...   \n3    First prime factorize $196=2^2\\cdot7^2$.  The ...   \n4    Evelyn covered more distance in less time than...   \n..                                                 ...   \n495  The inner logarithm is only defined if $x - 2 ...   \n496  Plugging in, we have $w = \\dfrac{3(1+i)+1}{5(1...   \n497  The octagon can be partitioned into five squar...   \n498  First, if $a_3 = a_1,$ then\\n\\[a_1 = a_3 = a_5...   \n499  First, we build a diagram:\\n\\n[asy]\\n\\nsize(15...   \n\n                              answer               subject  \\\n0    \\left( 3, \\frac{\\pi}{2} \\right)           Precalculus   \n1                              p - q  Intermediate Algebra   \n2                       \\frac{14}{3}               Algebra   \n3                                  9         Number Theory   \n4                      \\text{Evelyn}               Algebra   \n..                               ...                   ...   \n495             (2,12) \\cup (12,102)  Intermediate Algebra   \n496                     \\frac{5}{13}  Intermediate Algebra   \n497                      \\frac{7}{2}              Geometry   \n498                               -1  Intermediate Algebra   \n499                        106^\\circ              Geometry   \n\n                                                 level  \\\n0                        Foundational High-School Math   \n1    Advanced Math Competitions; International Olym...   \n2    High-School Intermediate Level Competition Mat...   \n3    High-School Intermediate Level Competition Mat...   \n4                        Foundational High-School Math   \n..                                                 ...   \n495  High-Level Math Competition Problems; Regional...   \n496  High-School Intermediate Level Competition Mat...   \n497  Advanced Math Competitions; International Olym...   \n498  Advanced Math Competitions; International Olym...   \n499  High-Level Math Competition Problems; Regional...   \n\n                               unique_id  original_level  problem_char_count  \\\n0              test/precalculus/807.json               2                 161   \n1    test/intermediate_algebra/1994.json               5                 217   \n2                 test/algebra/2584.json               3                 113   \n3            test/number_theory/572.json               3                  54   \n4                 test/algebra/1349.json               2                 731   \n..                                   ...             ...                 ...   \n495  test/intermediate_algebra/1981.json               4                 166   \n496  test/intermediate_algebra/1232.json               3                  55   \n497               test/geometry/561.json               5                 195   \n498  test/intermediate_algebra/1508.json               5                 125   \n499               test/geometry/615.json               4                 166   \n\n     solution_char_count  subject_char_count  level_char_count  \\\n0                    439                  11                29   \n1                    773                  20                79   \n2                    158                   7                56   \n3                    506                  13                56   \n4                    326                   7                29   \n..                   ...                 ...               ...   \n495                  412                  20                65   \n496                  442                  20                56   \n497                  630                   8                79   \n498                  509                  20                79   \n499                  778                   8                65   \n\n                                    problem_translated  \\\n0    Переведіть точку $(0,3)$ у прямокутних координ...   \n1    Визначити\\n\\[p = \\sum_{k = 1}^\\infty \\frac{1}{...   \n2    Якщо $f(x) = \\frac{3x-2}{x-2}$, то чому дорівн...   \n3         Скільки натуральних дільників має число 196?   \n4    Нижче наведено результати тренувального забігу...   \n..                                                 ...   \n495  Яка область визначення функції $f(x) = \\frac{2...   \n496  Нехай $z = 1+i$ і $w = \\dfrac{3z+1}{5z+7}$. Зн...   \n497  Рівносторонній восьмикутник має чотири сторони...   \n498  Послідовність $(a_n)$ визначається наступним ч...   \n499  Висоти $\\overline{AD}$ і $\\overline{BE}$ трику...   \n\n                                   solution_translated    subject_translated  \\\n0    Маємо, що $r = \\sqrt{0^2 + 3^2} = 3.$ Також, я...  Попереднє обчислення   \n1    Підрахуємо, скільки разів $\\frac{1}{n^3}$ зуст...      Проміжна алгебра   \n2    $f(-2)+f(-1)+f(0)=\\frac{3(-2)-2}{-2-2}+\\frac{3...               Алгебра   \n3    Перший простий множник $196=2^2\\cdot7^2$.  Роз...          Теорія чисел   \n4    Евелін пройшла більшу відстань за менший час, ...               Алгебра   \n..                                                 ...                   ...   \n495  Внутрішній логарифм визначено, якщо $x - 2 > 0...      Проміжна алгебра   \n496  Підставляючи, маємо $w = \\dfrac{3(1+i)+1}{5(1+...      Проміжна алгебра   \n497  Восьмикутник можна розбити на п'ять квадратів ...             Геометрія   \n498  По-перше, якщо $a_3 = a_1,$ то\\n\\[a_1 = a_3 = ...      Проміжна алгебра   \n499  Спочатку будуємо діаграму:\\n\\n[asy]\\n\\nsize(15...             Геометрія   \n\n                                      level_translated  \n0        Фундаментальна математика для середньої школи  \n1    Поглиблені математичні змагання; міжнародна ол...  \n2    Олімпіада з математики для середнього рівня дл...  \n3    Олімпіада з математики для середнього рівня дл...  \n4        Фундаментальна математика для середньої школи  \n..                                                 ...  \n495  Математичні олімпіадні задачі високого рівня; ...  \n496  Олімпіада з математики для середнього рівня дл...  \n497  Поглиблені математичні змагання; міжнародна ол...  \n498  Поглиблені математичні змагання; міжнародна ол...  \n499  Математичні олімпіадні задачі високого рівня; ...  \n\n[500 rows x 15 columns]",
      "text/html": "<div>\n<style scoped>\n    .dataframe tbody tr th:only-of-type {\n        vertical-align: middle;\n    }\n\n    .dataframe tbody tr th {\n        vertical-align: top;\n    }\n\n    .dataframe thead th {\n        text-align: right;\n    }\n</style>\n<table border=\"1\" class=\"dataframe\">\n  <thead>\n    <tr style=\"text-align: right;\">\n      <th></th>\n      <th>problem</th>\n      <th>solution</th>\n      <th>answer</th>\n      <th>subject</th>\n      <th>level</th>\n      <th>unique_id</th>\n      <th>original_level</th>\n      <th>problem_char_count</th>\n      <th>solution_char_count</th>\n      <th>subject_char_count</th>\n      <th>level_char_count</th>\n      <th>problem_translated</th>\n      <th>solution_translated</th>\n      <th>subject_translated</th>\n      <th>level_translated</th>\n    </tr>\n  </thead>\n  <tbody>\n    <tr>\n      <th>0</th>\n      <td>Convert the point $(0,3)$ in rectangular coord...</td>\n      <td>We have that $r = \\sqrt{0^2 + 3^2} = 3.$  Also...</td>\n      <td>\\left( 3, \\frac{\\pi}{2} \\right)</td>\n      <td>Precalculus</td>\n      <td>Foundational High-School Math</td>\n      <td>test/precalculus/807.json</td>\n      <td>2</td>\n      <td>161</td>\n      <td>439</td>\n      <td>11</td>\n      <td>29</td>\n      <td>Переведіть точку $(0,3)$ у прямокутних координ...</td>\n      <td>Маємо, що $r = \\sqrt{0^2 + 3^2} = 3.$ Також, я...</td>\n      <td>Попереднє обчислення</td>\n      <td>Фундаментальна математика для середньої школи</td>\n    </tr>\n    <tr>\n      <th>1</th>\n      <td>Define\\n\\[p = \\sum_{k = 1}^\\infty \\frac{1}{k^2...</td>\n      <td>We count the number of times $\\frac{1}{n^3}$ a...</td>\n      <td>p - q</td>\n      <td>Intermediate Algebra</td>\n      <td>Advanced Math Competitions; International Olym...</td>\n      <td>test/intermediate_algebra/1994.json</td>\n      <td>5</td>\n      <td>217</td>\n      <td>773</td>\n      <td>20</td>\n      <td>79</td>\n      <td>Визначити\\n\\[p = \\sum_{k = 1}^\\infty \\frac{1}{...</td>\n      <td>Підрахуємо, скільки разів $\\frac{1}{n^3}$ зуст...</td>\n      <td>Проміжна алгебра</td>\n      <td>Поглиблені математичні змагання; міжнародна ол...</td>\n    </tr>\n    <tr>\n      <th>2</th>\n      <td>If $f(x) = \\frac{3x-2}{x-2}$, what is the valu...</td>\n      <td>$f(-2)+f(-1)+f(0)=\\frac{3(-2)-2}{-2-2}+\\frac{3...</td>\n      <td>\\frac{14}{3}</td>\n      <td>Algebra</td>\n      <td>High-School Intermediate Level Competition Mat...</td>\n      <td>test/algebra/2584.json</td>\n      <td>3</td>\n      <td>113</td>\n      <td>158</td>\n      <td>7</td>\n      <td>56</td>\n      <td>Якщо $f(x) = \\frac{3x-2}{x-2}$, то чому дорівн...</td>\n      <td>$f(-2)+f(-1)+f(0)=\\frac{3(-2)-2}{-2-2}+\\frac{3...</td>\n      <td>Алгебра</td>\n      <td>Олімпіада з математики для середнього рівня дл...</td>\n    </tr>\n    <tr>\n      <th>3</th>\n      <td>How many positive whole-number divisors does 1...</td>\n      <td>First prime factorize $196=2^2\\cdot7^2$.  The ...</td>\n      <td>9</td>\n      <td>Number Theory</td>\n      <td>High-School Intermediate Level Competition Mat...</td>\n      <td>test/number_theory/572.json</td>\n      <td>3</td>\n      <td>54</td>\n      <td>506</td>\n      <td>13</td>\n      <td>56</td>\n      <td>Скільки натуральних дільників має число 196?</td>\n      <td>Перший простий множник $196=2^2\\cdot7^2$.  Роз...</td>\n      <td>Теорія чисел</td>\n      <td>Олімпіада з математики для середнього рівня дл...</td>\n    </tr>\n    <tr>\n      <th>4</th>\n      <td>The results of a cross-country team's training...</td>\n      <td>Evelyn covered more distance in less time than...</td>\n      <td>\\text{Evelyn}</td>\n      <td>Algebra</td>\n      <td>Foundational High-School Math</td>\n      <td>test/algebra/1349.json</td>\n      <td>2</td>\n      <td>731</td>\n      <td>326</td>\n      <td>7</td>\n      <td>29</td>\n      <td>Нижче наведено результати тренувального забігу...</td>\n      <td>Евелін пройшла більшу відстань за менший час, ...</td>\n      <td>Алгебра</td>\n      <td>Фундаментальна математика для середньої школи</td>\n    </tr>\n    <tr>\n      <th>...</th>\n      <td>...</td>\n      <td>...</td>\n      <td>...</td>\n      <td>...</td>\n      <td>...</td>\n      <td>...</td>\n      <td>...</td>\n      <td>...</td>\n      <td>...</td>\n      <td>...</td>\n      <td>...</td>\n      <td>...</td>\n      <td>...</td>\n      <td>...</td>\n      <td>...</td>\n    </tr>\n    <tr>\n      <th>495</th>\n      <td>What is the domain of the function $f(x) = \\fr...</td>\n      <td>The inner logarithm is only defined if $x - 2 ...</td>\n      <td>(2,12) \\cup (12,102)</td>\n      <td>Intermediate Algebra</td>\n      <td>High-Level Math Competition Problems; Regional...</td>\n      <td>test/intermediate_algebra/1981.json</td>\n      <td>4</td>\n      <td>166</td>\n      <td>412</td>\n      <td>20</td>\n      <td>65</td>\n      <td>Яка область визначення функції $f(x) = \\frac{2...</td>\n      <td>Внутрішній логарифм визначено, якщо $x - 2 &gt; 0...</td>\n      <td>Проміжна алгебра</td>\n      <td>Математичні олімпіадні задачі високого рівня; ...</td>\n    </tr>\n    <tr>\n      <th>496</th>\n      <td>Let $z = 1+i$ and $w = \\dfrac{3z+1}{5z+7}$. Fi...</td>\n      <td>Plugging in, we have $w = \\dfrac{3(1+i)+1}{5(1...</td>\n      <td>\\frac{5}{13}</td>\n      <td>Intermediate Algebra</td>\n      <td>High-School Intermediate Level Competition Mat...</td>\n      <td>test/intermediate_algebra/1232.json</td>\n      <td>3</td>\n      <td>55</td>\n      <td>442</td>\n      <td>20</td>\n      <td>56</td>\n      <td>Нехай $z = 1+i$ і $w = \\dfrac{3z+1}{5z+7}$. Зн...</td>\n      <td>Підставляючи, маємо $w = \\dfrac{3(1+i)+1}{5(1+...</td>\n      <td>Проміжна алгебра</td>\n      <td>Олімпіада з математики для середнього рівня дл...</td>\n    </tr>\n    <tr>\n      <th>497</th>\n      <td>An equiangular octagon has four sides of lengt...</td>\n      <td>The octagon can be partitioned into five squar...</td>\n      <td>\\frac{7}{2}</td>\n      <td>Geometry</td>\n      <td>Advanced Math Competitions; International Olym...</td>\n      <td>test/geometry/561.json</td>\n      <td>5</td>\n      <td>195</td>\n      <td>630</td>\n      <td>8</td>\n      <td>79</td>\n      <td>Рівносторонній восьмикутник має чотири сторони...</td>\n      <td>Восьмикутник можна розбити на п'ять квадратів ...</td>\n      <td>Геометрія</td>\n      <td>Поглиблені математичні змагання; міжнародна ол...</td>\n    </tr>\n    <tr>\n      <th>498</th>\n      <td>A sequence $(a_n)$ is defined as follows:\\n\\[a...</td>\n      <td>First, if $a_3 = a_1,$ then\\n\\[a_1 = a_3 = a_5...</td>\n      <td>-1</td>\n      <td>Intermediate Algebra</td>\n      <td>Advanced Math Competitions; International Olym...</td>\n      <td>test/intermediate_algebra/1508.json</td>\n      <td>5</td>\n      <td>125</td>\n      <td>509</td>\n      <td>20</td>\n      <td>79</td>\n      <td>Послідовність $(a_n)$ визначається наступним ч...</td>\n      <td>По-перше, якщо $a_3 = a_1,$ то\\n\\[a_1 = a_3 = ...</td>\n      <td>Проміжна алгебра</td>\n      <td>Поглиблені математичні змагання; міжнародна ол...</td>\n    </tr>\n    <tr>\n      <th>499</th>\n      <td>Altitudes $\\overline{AD}$ and $\\overline{BE}$ ...</td>\n      <td>First, we build a diagram:\\n\\n[asy]\\n\\nsize(15...</td>\n      <td>106^\\circ</td>\n      <td>Geometry</td>\n      <td>High-Level Math Competition Problems; Regional...</td>\n      <td>test/geometry/615.json</td>\n      <td>4</td>\n      <td>166</td>\n      <td>778</td>\n      <td>8</td>\n      <td>65</td>\n      <td>Висоти $\\overline{AD}$ і $\\overline{BE}$ трику...</td>\n      <td>Спочатку будуємо діаграму:\\n\\n[asy]\\n\\nsize(15...</td>\n      <td>Геометрія</td>\n      <td>Математичні олімпіадні задачі високого рівня; ...</td>\n    </tr>\n  </tbody>\n</table>\n<p>500 rows × 15 columns</p>\n</div>"
     },
     "execution_count": 17,
     "metadata": {},
     "output_type": "execute_result"
    }
   ],
   "source": [
    "def translate_text(text, target_lang='UK'):\n",
    "    if pd.isna(text):\n",
    "        return text  # Return NaN values as is\n",
    "    try:\n",
    "        result = translator.translate_text(text, target_lang=target_lang)\n",
    "        return result.text\n",
    "    except deepl.DeepLException as e:\n",
    "        print(f\"Error translating text: {e}\")\n",
    "        return text  # Return the original text if translation fails\n",
    "\n",
    "columns_to_translate = [\n",
    "    'problem',\n",
    "    'solution',\n",
    "    'subject',\n",
    "    'level',\n",
    "]\n",
    "target_language = 'UK'\n",
    "\n",
    "for column in columns_to_translate:\n",
    "    new_column_name = f\"{column}_translated\"\n",
    "    df.loc[:, new_column_name] = df.loc[:, column].progress_apply(translate_text, target_lang=target_language)\n",
    "\n",
    "# Save to CSV\n",
    "output_file = '../datasets/math-500-uk.csv'\n",
    "df.loc[:, ].to_csv(output_file, index=False)\n",
    "\n",
    "df.loc[:, ]\n"
   ],
   "metadata": {
    "collapsed": false,
    "ExecuteTime": {
     "end_time": "2025-01-08T14:26:34.652692Z",
     "start_time": "2025-01-08T14:16:58.140397Z"
    }
   }
  },
  {
   "cell_type": "code",
   "execution_count": 21,
   "outputs": [
    {
     "data": {
      "text/plain": "np.int64(228035)"
     },
     "execution_count": 21,
     "metadata": {},
     "output_type": "execute_result"
    }
   ],
   "source": [
    "# Initialize the tokenizer\n",
    "encoding = tiktoken.get_encoding(\"cl100k_base\")\n",
    "\n",
    "# Function to count tokens\n",
    "def count_tokens(text):\n",
    "    if pd.isna(text):\n",
    "        return 0\n",
    "    tokens = encoding.encode(text)\n",
    "    return len(tokens)\n",
    "\n",
    "# Apply the function to specified columns\n",
    "columns_to_count_translated = [col + \"_translated\" for col in columns_to_count]\n",
    "token_count_columns = []\n",
    "\n",
    "for column in columns_to_count_translated:\n",
    "    new_column_name = f\"{column}_token_count\"\n",
    "    df[new_column_name] = df[column].apply(count_tokens)\n",
    "    token_count_columns.append(new_column_name)\n",
    "\n",
    "df.loc[:, token_count_columns].sum().sum()\n"
   ],
   "metadata": {
    "collapsed": false,
    "ExecuteTime": {
     "end_time": "2025-01-08T15:35:19.410921Z",
     "start_time": "2025-01-08T15:35:19.347285Z"
    }
   }
  },
  {
   "cell_type": "code",
   "execution_count": 25,
   "outputs": [
    {
     "name": "stdout",
     "output_type": "stream",
     "text": [
      "0.00045607\n",
      "0.02964455\n",
      "0.0228035\n"
     ]
    }
   ],
   "source": [
    "# price for text-embedding-3-small\n",
    "print(228035 / 1_000_000 * 0.002)\n",
    "# price for text-embedding-3-large\n",
    "print(228035 / 1_000_000 * 0.13)\n",
    "# price for ada v2\n",
    "print(228035 / 1_000_000 * 0.1)"
   ],
   "metadata": {
    "collapsed": false,
    "ExecuteTime": {
     "end_time": "2025-01-08T15:40:22.075961Z",
     "start_time": "2025-01-08T15:40:22.073977Z"
    }
   }
  },
  {
   "cell_type": "markdown",
   "source": [
    "### Let's use ADA v2 model to generate our embeddings"
   ],
   "metadata": {
    "collapsed": false
   }
  },
  {
   "cell_type": "code",
   "execution_count": 52,
   "outputs": [],
   "source": [
    "openai_api_key = os.getenv(\"OPENAI_API_KEY\")"
   ],
   "metadata": {
    "collapsed": false,
    "ExecuteTime": {
     "end_time": "2025-01-08T16:05:29.551237Z",
     "start_time": "2025-01-08T16:05:29.545546Z"
    }
   }
  },
  {
   "cell_type": "code",
   "execution_count": 48,
   "outputs": [
    {
     "data": {
      "text/plain": "                                               problem  \\\n0    Convert the point $(0,3)$ in rectangular coord...   \n1    Define\\n\\[p = \\sum_{k = 1}^\\infty \\frac{1}{k^2...   \n2    If $f(x) = \\frac{3x-2}{x-2}$, what is the valu...   \n3    How many positive whole-number divisors does 1...   \n4    The results of a cross-country team's training...   \n..                                                 ...   \n495  What is the domain of the function $f(x) = \\fr...   \n496  Let $z = 1+i$ and $w = \\dfrac{3z+1}{5z+7}$. Fi...   \n497  An equiangular octagon has four sides of lengt...   \n498  A sequence $(a_n)$ is defined as follows:\\n\\[a...   \n499  Altitudes $\\overline{AD}$ and $\\overline{BE}$ ...   \n\n                                              solution  \\\n0    We have that $r = \\sqrt{0^2 + 3^2} = 3.$  Also...   \n1    We count the number of times $\\frac{1}{n^3}$ a...   \n2    $f(-2)+f(-1)+f(0)=\\frac{3(-2)-2}{-2-2}+\\frac{3...   \n3    First prime factorize $196=2^2\\cdot7^2$.  The ...   \n4    Evelyn covered more distance in less time than...   \n..                                                 ...   \n495  The inner logarithm is only defined if $x - 2 ...   \n496  Plugging in, we have $w = \\dfrac{3(1+i)+1}{5(1...   \n497  The octagon can be partitioned into five squar...   \n498  First, if $a_3 = a_1,$ then\\n\\[a_1 = a_3 = a_5...   \n499  First, we build a diagram:\\n\\n[asy]\\n\\nsize(15...   \n\n                              answer               subject  \\\n0    \\left( 3, \\frac{\\pi}{2} \\right)           Precalculus   \n1                              p - q  Intermediate Algebra   \n2                       \\frac{14}{3}               Algebra   \n3                                  9         Number Theory   \n4                      \\text{Evelyn}               Algebra   \n..                               ...                   ...   \n495             (2,12) \\cup (12,102)  Intermediate Algebra   \n496                     \\frac{5}{13}  Intermediate Algebra   \n497                      \\frac{7}{2}              Geometry   \n498                               -1  Intermediate Algebra   \n499                        106^\\circ              Geometry   \n\n                                                 level  \\\n0                        Foundational High-School Math   \n1    Advanced Math Competitions; International Olym...   \n2    High-School Intermediate Level Competition Mat...   \n3    High-School Intermediate Level Competition Mat...   \n4                        Foundational High-School Math   \n..                                                 ...   \n495  High-Level Math Competition Problems; Regional...   \n496  High-School Intermediate Level Competition Mat...   \n497  Advanced Math Competitions; International Olym...   \n498  Advanced Math Competitions; International Olym...   \n499  High-Level Math Competition Problems; Regional...   \n\n                               unique_id  original_level  problem_char_count  \\\n0              test/precalculus/807.json               2                 161   \n1    test/intermediate_algebra/1994.json               5                 217   \n2                 test/algebra/2584.json               3                 113   \n3            test/number_theory/572.json               3                  54   \n4                 test/algebra/1349.json               2                 731   \n..                                   ...             ...                 ...   \n495  test/intermediate_algebra/1981.json               4                 166   \n496  test/intermediate_algebra/1232.json               3                  55   \n497               test/geometry/561.json               5                 195   \n498  test/intermediate_algebra/1508.json               5                 125   \n499               test/geometry/615.json               4                 166   \n\n     solution_char_count  subject_char_count  level_char_count  \\\n0                    439                  11                29   \n1                    773                  20                79   \n2                    158                   7                56   \n3                    506                  13                56   \n4                    326                   7                29   \n..                   ...                 ...               ...   \n495                  412                  20                65   \n496                  442                  20                56   \n497                  630                   8                79   \n498                  509                  20                79   \n499                  778                   8                65   \n\n                                    problem_translated  \\\n0    Переведіть точку $(0,3)$ у прямокутних координ...   \n1    Визначити\\n\\[p = \\sum_{k = 1}^\\infty \\frac{1}{...   \n2    Якщо $f(x) = \\frac{3x-2}{x-2}$, то чому дорівн...   \n3         Скільки натуральних дільників має число 196?   \n4    Нижче наведено результати тренувального забігу...   \n..                                                 ...   \n495  Яка область визначення функції $f(x) = \\frac{2...   \n496  Нехай $z = 1+i$ і $w = \\dfrac{3z+1}{5z+7}$. Зн...   \n497  Рівносторонній восьмикутник має чотири сторони...   \n498  Послідовність $(a_n)$ визначається наступним ч...   \n499  Висоти $\\overline{AD}$ і $\\overline{BE}$ трику...   \n\n                                   solution_translated    subject_translated  \\\n0    Маємо, що $r = \\sqrt{0^2 + 3^2} = 3.$ Також, я...  Попереднє обчислення   \n1    Підрахуємо, скільки разів $\\frac{1}{n^3}$ зуст...      Проміжна алгебра   \n2    $f(-2)+f(-1)+f(0)=\\frac{3(-2)-2}{-2-2}+\\frac{3...               Алгебра   \n3    Перший простий множник $196=2^2\\cdot7^2$.  Роз...          Теорія чисел   \n4    Евелін пройшла більшу відстань за менший час, ...               Алгебра   \n..                                                 ...                   ...   \n495  Внутрішній логарифм визначено, якщо $x - 2 > 0...      Проміжна алгебра   \n496  Підставляючи, маємо $w = \\dfrac{3(1+i)+1}{5(1+...      Проміжна алгебра   \n497  Восьмикутник можна розбити на п'ять квадратів ...             Геометрія   \n498  По-перше, якщо $a_3 = a_1,$ то\\n\\[a_1 = a_3 = ...      Проміжна алгебра   \n499  Спочатку будуємо діаграму:\\n\\n[asy]\\n\\nsize(15...             Геометрія   \n\n                                      level_translated  \\\n0        Фундаментальна математика для середньої школи   \n1    Поглиблені математичні змагання; міжнародна ол...   \n2    Олімпіада з математики для середнього рівня дл...   \n3    Олімпіада з математики для середнього рівня дл...   \n4        Фундаментальна математика для середньої школи   \n..                                                 ...   \n495  Математичні олімпіадні задачі високого рівня; ...   \n496  Олімпіада з математики для середнього рівня дл...   \n497  Поглиблені математичні змагання; міжнародна ол...   \n498  Поглиблені математичні змагання; міжнародна ол...   \n499  Математичні олімпіадні задачі високого рівня; ...   \n\n     problem_translated_token_count  solution_translated_token_count  \\\n0                                80                              238   \n1                               122                              434   \n2                                77                               97   \n3                                25                              299   \n4                               384                              198   \n..                              ...                              ...   \n495                              85                              257   \n496                              38                              228   \n497                             124                              349   \n498                              85                              336   \n499                              83                              338   \n\n     subject_translated_token_count  level_translated_token_count  \\\n0                                12                            23   \n1                                10                            56   \n2                                 5                            34   \n3                                 7                            34   \n4                                 5                            23   \n..                              ...                           ...   \n495                              10                            50   \n496                              10                            34   \n497                               7                            56   \n498                              10                            56   \n499                               7                            50   \n\n                                        embedding_text  \n0    Фундаментальна математика для середньої школи\\...  \n1    Поглиблені математичні змагання; міжнародна ол...  \n2    Олімпіада з математики для середнього рівня дл...  \n3    Олімпіада з математики для середнього рівня дл...  \n4    Фундаментальна математика для середньої школи\\...  \n..                                                 ...  \n495  Математичні олімпіадні задачі високого рівня; ...  \n496  Олімпіада з математики для середнього рівня дл...  \n497  Поглиблені математичні змагання; міжнародна ол...  \n498  Поглиблені математичні змагання; міжнародна ол...  \n499  Математичні олімпіадні задачі високого рівня; ...  \n\n[500 rows x 20 columns]",
      "text/html": "<div>\n<style scoped>\n    .dataframe tbody tr th:only-of-type {\n        vertical-align: middle;\n    }\n\n    .dataframe tbody tr th {\n        vertical-align: top;\n    }\n\n    .dataframe thead th {\n        text-align: right;\n    }\n</style>\n<table border=\"1\" class=\"dataframe\">\n  <thead>\n    <tr style=\"text-align: right;\">\n      <th></th>\n      <th>problem</th>\n      <th>solution</th>\n      <th>answer</th>\n      <th>subject</th>\n      <th>level</th>\n      <th>unique_id</th>\n      <th>original_level</th>\n      <th>problem_char_count</th>\n      <th>solution_char_count</th>\n      <th>subject_char_count</th>\n      <th>level_char_count</th>\n      <th>problem_translated</th>\n      <th>solution_translated</th>\n      <th>subject_translated</th>\n      <th>level_translated</th>\n      <th>problem_translated_token_count</th>\n      <th>solution_translated_token_count</th>\n      <th>subject_translated_token_count</th>\n      <th>level_translated_token_count</th>\n      <th>embedding_text</th>\n    </tr>\n  </thead>\n  <tbody>\n    <tr>\n      <th>0</th>\n      <td>Convert the point $(0,3)$ in rectangular coord...</td>\n      <td>We have that $r = \\sqrt{0^2 + 3^2} = 3.$  Also...</td>\n      <td>\\left( 3, \\frac{\\pi}{2} \\right)</td>\n      <td>Precalculus</td>\n      <td>Foundational High-School Math</td>\n      <td>test/precalculus/807.json</td>\n      <td>2</td>\n      <td>161</td>\n      <td>439</td>\n      <td>11</td>\n      <td>29</td>\n      <td>Переведіть точку $(0,3)$ у прямокутних координ...</td>\n      <td>Маємо, що $r = \\sqrt{0^2 + 3^2} = 3.$ Також, я...</td>\n      <td>Попереднє обчислення</td>\n      <td>Фундаментальна математика для середньої школи</td>\n      <td>80</td>\n      <td>238</td>\n      <td>12</td>\n      <td>23</td>\n      <td>Фундаментальна математика для середньої школи\\...</td>\n    </tr>\n    <tr>\n      <th>1</th>\n      <td>Define\\n\\[p = \\sum_{k = 1}^\\infty \\frac{1}{k^2...</td>\n      <td>We count the number of times $\\frac{1}{n^3}$ a...</td>\n      <td>p - q</td>\n      <td>Intermediate Algebra</td>\n      <td>Advanced Math Competitions; International Olym...</td>\n      <td>test/intermediate_algebra/1994.json</td>\n      <td>5</td>\n      <td>217</td>\n      <td>773</td>\n      <td>20</td>\n      <td>79</td>\n      <td>Визначити\\n\\[p = \\sum_{k = 1}^\\infty \\frac{1}{...</td>\n      <td>Підрахуємо, скільки разів $\\frac{1}{n^3}$ зуст...</td>\n      <td>Проміжна алгебра</td>\n      <td>Поглиблені математичні змагання; міжнародна ол...</td>\n      <td>122</td>\n      <td>434</td>\n      <td>10</td>\n      <td>56</td>\n      <td>Поглиблені математичні змагання; міжнародна ол...</td>\n    </tr>\n    <tr>\n      <th>2</th>\n      <td>If $f(x) = \\frac{3x-2}{x-2}$, what is the valu...</td>\n      <td>$f(-2)+f(-1)+f(0)=\\frac{3(-2)-2}{-2-2}+\\frac{3...</td>\n      <td>\\frac{14}{3}</td>\n      <td>Algebra</td>\n      <td>High-School Intermediate Level Competition Mat...</td>\n      <td>test/algebra/2584.json</td>\n      <td>3</td>\n      <td>113</td>\n      <td>158</td>\n      <td>7</td>\n      <td>56</td>\n      <td>Якщо $f(x) = \\frac{3x-2}{x-2}$, то чому дорівн...</td>\n      <td>$f(-2)+f(-1)+f(0)=\\frac{3(-2)-2}{-2-2}+\\frac{3...</td>\n      <td>Алгебра</td>\n      <td>Олімпіада з математики для середнього рівня дл...</td>\n      <td>77</td>\n      <td>97</td>\n      <td>5</td>\n      <td>34</td>\n      <td>Олімпіада з математики для середнього рівня дл...</td>\n    </tr>\n    <tr>\n      <th>3</th>\n      <td>How many positive whole-number divisors does 1...</td>\n      <td>First prime factorize $196=2^2\\cdot7^2$.  The ...</td>\n      <td>9</td>\n      <td>Number Theory</td>\n      <td>High-School Intermediate Level Competition Mat...</td>\n      <td>test/number_theory/572.json</td>\n      <td>3</td>\n      <td>54</td>\n      <td>506</td>\n      <td>13</td>\n      <td>56</td>\n      <td>Скільки натуральних дільників має число 196?</td>\n      <td>Перший простий множник $196=2^2\\cdot7^2$.  Роз...</td>\n      <td>Теорія чисел</td>\n      <td>Олімпіада з математики для середнього рівня дл...</td>\n      <td>25</td>\n      <td>299</td>\n      <td>7</td>\n      <td>34</td>\n      <td>Олімпіада з математики для середнього рівня дл...</td>\n    </tr>\n    <tr>\n      <th>4</th>\n      <td>The results of a cross-country team's training...</td>\n      <td>Evelyn covered more distance in less time than...</td>\n      <td>\\text{Evelyn}</td>\n      <td>Algebra</td>\n      <td>Foundational High-School Math</td>\n      <td>test/algebra/1349.json</td>\n      <td>2</td>\n      <td>731</td>\n      <td>326</td>\n      <td>7</td>\n      <td>29</td>\n      <td>Нижче наведено результати тренувального забігу...</td>\n      <td>Евелін пройшла більшу відстань за менший час, ...</td>\n      <td>Алгебра</td>\n      <td>Фундаментальна математика для середньої школи</td>\n      <td>384</td>\n      <td>198</td>\n      <td>5</td>\n      <td>23</td>\n      <td>Фундаментальна математика для середньої школи\\...</td>\n    </tr>\n    <tr>\n      <th>...</th>\n      <td>...</td>\n      <td>...</td>\n      <td>...</td>\n      <td>...</td>\n      <td>...</td>\n      <td>...</td>\n      <td>...</td>\n      <td>...</td>\n      <td>...</td>\n      <td>...</td>\n      <td>...</td>\n      <td>...</td>\n      <td>...</td>\n      <td>...</td>\n      <td>...</td>\n      <td>...</td>\n      <td>...</td>\n      <td>...</td>\n      <td>...</td>\n      <td>...</td>\n    </tr>\n    <tr>\n      <th>495</th>\n      <td>What is the domain of the function $f(x) = \\fr...</td>\n      <td>The inner logarithm is only defined if $x - 2 ...</td>\n      <td>(2,12) \\cup (12,102)</td>\n      <td>Intermediate Algebra</td>\n      <td>High-Level Math Competition Problems; Regional...</td>\n      <td>test/intermediate_algebra/1981.json</td>\n      <td>4</td>\n      <td>166</td>\n      <td>412</td>\n      <td>20</td>\n      <td>65</td>\n      <td>Яка область визначення функції $f(x) = \\frac{2...</td>\n      <td>Внутрішній логарифм визначено, якщо $x - 2 &gt; 0...</td>\n      <td>Проміжна алгебра</td>\n      <td>Математичні олімпіадні задачі високого рівня; ...</td>\n      <td>85</td>\n      <td>257</td>\n      <td>10</td>\n      <td>50</td>\n      <td>Математичні олімпіадні задачі високого рівня; ...</td>\n    </tr>\n    <tr>\n      <th>496</th>\n      <td>Let $z = 1+i$ and $w = \\dfrac{3z+1}{5z+7}$. Fi...</td>\n      <td>Plugging in, we have $w = \\dfrac{3(1+i)+1}{5(1...</td>\n      <td>\\frac{5}{13}</td>\n      <td>Intermediate Algebra</td>\n      <td>High-School Intermediate Level Competition Mat...</td>\n      <td>test/intermediate_algebra/1232.json</td>\n      <td>3</td>\n      <td>55</td>\n      <td>442</td>\n      <td>20</td>\n      <td>56</td>\n      <td>Нехай $z = 1+i$ і $w = \\dfrac{3z+1}{5z+7}$. Зн...</td>\n      <td>Підставляючи, маємо $w = \\dfrac{3(1+i)+1}{5(1+...</td>\n      <td>Проміжна алгебра</td>\n      <td>Олімпіада з математики для середнього рівня дл...</td>\n      <td>38</td>\n      <td>228</td>\n      <td>10</td>\n      <td>34</td>\n      <td>Олімпіада з математики для середнього рівня дл...</td>\n    </tr>\n    <tr>\n      <th>497</th>\n      <td>An equiangular octagon has four sides of lengt...</td>\n      <td>The octagon can be partitioned into five squar...</td>\n      <td>\\frac{7}{2}</td>\n      <td>Geometry</td>\n      <td>Advanced Math Competitions; International Olym...</td>\n      <td>test/geometry/561.json</td>\n      <td>5</td>\n      <td>195</td>\n      <td>630</td>\n      <td>8</td>\n      <td>79</td>\n      <td>Рівносторонній восьмикутник має чотири сторони...</td>\n      <td>Восьмикутник можна розбити на п'ять квадратів ...</td>\n      <td>Геометрія</td>\n      <td>Поглиблені математичні змагання; міжнародна ол...</td>\n      <td>124</td>\n      <td>349</td>\n      <td>7</td>\n      <td>56</td>\n      <td>Поглиблені математичні змагання; міжнародна ол...</td>\n    </tr>\n    <tr>\n      <th>498</th>\n      <td>A sequence $(a_n)$ is defined as follows:\\n\\[a...</td>\n      <td>First, if $a_3 = a_1,$ then\\n\\[a_1 = a_3 = a_5...</td>\n      <td>-1</td>\n      <td>Intermediate Algebra</td>\n      <td>Advanced Math Competitions; International Olym...</td>\n      <td>test/intermediate_algebra/1508.json</td>\n      <td>5</td>\n      <td>125</td>\n      <td>509</td>\n      <td>20</td>\n      <td>79</td>\n      <td>Послідовність $(a_n)$ визначається наступним ч...</td>\n      <td>По-перше, якщо $a_3 = a_1,$ то\\n\\[a_1 = a_3 = ...</td>\n      <td>Проміжна алгебра</td>\n      <td>Поглиблені математичні змагання; міжнародна ол...</td>\n      <td>85</td>\n      <td>336</td>\n      <td>10</td>\n      <td>56</td>\n      <td>Поглиблені математичні змагання; міжнародна ол...</td>\n    </tr>\n    <tr>\n      <th>499</th>\n      <td>Altitudes $\\overline{AD}$ and $\\overline{BE}$ ...</td>\n      <td>First, we build a diagram:\\n\\n[asy]\\n\\nsize(15...</td>\n      <td>106^\\circ</td>\n      <td>Geometry</td>\n      <td>High-Level Math Competition Problems; Regional...</td>\n      <td>test/geometry/615.json</td>\n      <td>4</td>\n      <td>166</td>\n      <td>778</td>\n      <td>8</td>\n      <td>65</td>\n      <td>Висоти $\\overline{AD}$ і $\\overline{BE}$ трику...</td>\n      <td>Спочатку будуємо діаграму:\\n\\n[asy]\\n\\nsize(15...</td>\n      <td>Геометрія</td>\n      <td>Математичні олімпіадні задачі високого рівня; ...</td>\n      <td>83</td>\n      <td>338</td>\n      <td>7</td>\n      <td>50</td>\n      <td>Математичні олімпіадні задачі високого рівня; ...</td>\n    </tr>\n  </tbody>\n</table>\n<p>500 rows × 20 columns</p>\n</div>"
     },
     "execution_count": 48,
     "metadata": {},
     "output_type": "execute_result"
    }
   ],
   "source": [
    "df.loc[:, \"embedding_text\"] = df.loc[:, \"level_translated\"] + \"\\n\" + df.loc[:, \"subject_translated\"] + \"\\n\" + df.loc[:, \"problem_translated\"] + \"\\n\" + df.loc[:, \"solution_translated\"]\n",
    "df"
   ],
   "metadata": {
    "collapsed": false,
    "ExecuteTime": {
     "end_time": "2025-01-08T16:02:58.725538Z",
     "start_time": "2025-01-08T16:02:58.696353Z"
    }
   }
  },
  {
   "cell_type": "code",
   "execution_count": 44,
   "outputs": [
    {
     "name": "stdout",
     "output_type": "stream",
     "text": [
      "Example # 0\n",
      "Фундаментальна математика для середньої школи\n",
      "Попереднє обчислення\n",
      "Переведіть точку $(0,3)$ у прямокутних координатах у полярні координати.  Відповідь виведіть у вигляді $(r,\\theta),$ де $r > 0$ і $0 \\le \\theta < 2 \\pi.$\n",
      "Маємо, що $r = \\sqrt{0^2 + 3^2} = 3.$ Також, якщо провести пряму, яка з'єднує початок координат і $(0,3),$ то ця пряма утворює кут $\\frac{\\pi}{2}$ з додатною віссю $x$.\n",
      "\n",
      "[asy]\n",
      "unitsize(0.8 см);\n",
      "\n",
      "draw((-0.5,0)--(3.5,0));\n",
      "draw((0,-0.5)--(0,3.5));\n",
      "draw(arc((0,0),3,0,90),red,Arrow(6));\n",
      "\n",
      "dot((0,3), red);\n",
      "label(\"$(0,3)$\", (0,3), W);\n",
      "dot((3,0), red);\n",
      "[/asy]\n",
      "\n",
      "Отже, полярні координати мають вигляд $\\boxed{\\left( 3, \\frac{\\pi}{2} \\right)}.$\n",
      "\n",
      "Example # 1\n",
      "Поглиблені математичні змагання; міжнародна олімпіада або рівень університетських курсів.\n",
      "Проміжна алгебра\n",
      "Визначити\n",
      "\\[p = \\sum_{k = 1}^\\infty \\frac{1}{k^2} \\quad \\text{and} \\quad q = \\sum_{k = 1}^\\infty \\frac{1}{k^3}.\\]Знайдіть спосіб записати\n",
      "\\[\\sum_{j = 1}^\\infty \\sum_{k = 1}^\\infty \\frac{1}{(j + k)^3}\\]через $p$ та $q.$\n",
      "Підрахуємо, скільки разів $\\frac{1}{n^3}$ зустрічається у сумі\n",
      "\\[\\sum_{j = 1}^\\infty \\sum_{k = 1}^\\infty \\frac{1}{(j + k)^3},\\]де $n$ - фіксоване натуральне число.  (Іншими словами, ми ставимо суму в залежність від $j + k$.) Ми отримуємо член $\\frac{1}{n^3}$ кожного разу, коли $j + k = n.$ Парами $(j,k)$, які працюють, є $(1,n - 1),$ $(2,n - 2),$ $\\dots,$ $(n - 1,1),$ загалом $n - 1$ пар.  Таким чином,\n",
      "\\begin{align*}\n",
      "\\sum_{j = 1}^\\infty \\sum_{k = 1}^\\infty \\frac{1}{(j + k)^3} &= \\sum_{n = 1}^\\infty \\frac{n - 1}{n^3} \\\\\n",
      "&= \\sum_{n = 1}^\\infty \\left( \\frac{n}{n^3} - \\frac{1}{n^3} \\right) \\\\\n",
      "&= \\sum_{n = 1}^\\infty \\left( \\frac{1}{n^2} - \\frac{1}{n^3} \\right) \\\\\n",
      "&= \\sum_{n = 1}^\\infty \\frac{1}{n^2} - \\sum_{n = 1}^\\infty \\frac{1}{n^3} \\\\\n",
      "&= \\boxed{p - q}.\n",
      "\\end{align*}\n",
      "\n",
      "Example # 2\n",
      "Олімпіада з математики для середнього рівня для старшокласників\n",
      "Алгебра\n",
      "Якщо $f(x) = \\frac{3x-2}{x-2}$, то чому дорівнює $f(-2) +f(-1)+f(0)$? Відповідь запишіть у вигляді звичайного дробу.\n",
      "$f(-2)+f(-1)+f(0)=\\frac{3(-2)-2}{-2-2}+\\frac{3(-1)-2}{-1-2}+\\frac{3(0)-2}{0-2}=\\frac{-8}{-4}+\\frac{-5}{-3}+\\frac{-2}{-2}=2+\\frac{5}{3}+1=\\boxed{\\frac{14}{3}}$\n",
      "\n",
      "Example # 3\n",
      "Олімпіада з математики для середнього рівня для старшокласників\n",
      "Теорія чисел\n",
      "Скільки натуральних дільників має число 196?\n",
      "Перший простий множник $196=2^2\\cdot7^2$.  Розклад на прості множники будь-якого дільника числа 196 не може містити ніяких інших простих чисел, окрім 2 та 7.  Ми можемо вибрати 0, 1 або 2 як показник степеня 2 при розкладанні на прості множники дільника числа 196.  Аналогічно, ми можемо вибрати 0, 1 або 2 як показник степеня 7. Всього існує $3\\times 3=9$ можливостей розкладання на прості множники дільника числа 196.  Різним простим розкладам на прості множники відповідають різні цілі числа, тому існує $\\boxed{9}$ дільників числа 196.\n",
      "\n",
      "Example # 4\n",
      "Фундаментальна математика для середньої школи\n",
      "Алгебра\n",
      "Нижче наведено результати тренувального забігу команди з бігу по пересіченій місцевості. У кого з учнів найбільша середня швидкість? [asy]\n",
      "for ( int i = 1; i <= 7; ++i )\n",
      "{\n",
      "\n",
      "draw((i,0)--(i,6));\n",
      "}\n",
      "\n",
      "for ( int i = 1; i <= 5; ++i )\n",
      "{\n",
      "\n",
      "draw((0,i)--(8,i));\n",
      "}\n",
      "draw((-0.5,0)--(8,0), linewidth(1));\n",
      "draw((0,-0.5)--(0,6), linewidth(1));\n",
      "label(\"$O$\", (0,0), SW);\n",
      "label(scale(.85)*rotate(90)*\"distance\", (0, 3), W);\n",
      "label(scale(.85)*\"час\", (4, 0), S);\n",
      "dot((1.25, 4.5));\n",
      "label(scale(.85)*\"Evelyn\", (1.25, 4.8), N);\n",
      "dot((2.5, 2.2));\n",
      "label(scale(.85)*\"Бріана\", (2.5, 2.2), S);\n",
      "dot((4.25,5.2));\n",
      "label(scale(.85)*\"Карла\", (4.25, 5.2), SE);\n",
      "dot((5.6, 2.8));\n",
      "label(scale(.85)*\"Дебра\", (5.6, 2.8), N);\n",
      "dot((6.8, 1.4));\n",
      "label(scale(.85)*\"Анжела\", (6.8, 1.4), E);\n",
      "[/asy]\n",
      "Евелін пройшла більшу відстань за менший час, ніж Бріана, Дебра та Анжела, тому її середня швидкість більша за будь-яку з їхніх середніх швидкостей. Евелін пройшла майже таку ж відстань, як і Карла, за вдвічі менший час, ніж Карла, тому середня швидкість Евелін також більша, ніж у Карли. Отже, $\\boxed{\\text{Evelyn}}$ - наша відповідь.\n",
      "\n",
      "Example # 5\n",
      "Фундаментальна математика для середньої школи\n",
      "Преалгебра\n",
      "Правильний шестикутник можна розбити на шість рівних трикутників. Якщо периметр одного з трикутників дорівнює 21 дюйму, який периметр (в дюймах) правильного шестикутника?\n",
      "Довжина сторони шестикутника дорівнює довжині сторони одного з рівносторонніх трикутників.  Оскільки шестикутник має шість сторін, а трикутник - три, то периметр шестикутника вдвічі більший за периметр трикутника.  Отже, периметр шестикутника дорівнює $2(21\\text{ дюймів})=\\boxed{42}$ дюймів.\n",
      "\n",
      "[asy]\n",
      "unitsize(10mm);\n",
      "defaultpen(linewidth(.7pt)+fontsize(8pt));\n",
      "\n",
      "int i;\n",
      "\n",
      "for(i=1;i<=6;++i)\n",
      "{\n",
      "\n",
      "draw(dir(60*i)--dir(60*(i+1)));\n",
      "}\n",
      "\n",
      "for(i=1;i<=3;++i)\n",
      "{\n",
      "\n",
      "draw(dir(60*i)--dir(60*(i+3)));\n",
      "}[/asy]\n",
      "\n",
      "Example # 6\n",
      "Олімпіада з математики для середнього рівня для старшокласників\n",
      "Теорія чисел\n",
      "Який найменший додатний досконалий куб можна записати у вигляді суми трьох послідовних цілих чисел?\n",
      "Сума трьох послідовних цілих чисел має вигляд $(k-1)+(k)+(k+1)=3k$ і, отже, кратна 3. І навпаки, якщо число $n$ кратне 3, то $n/3-1$, $n/3$ і $n/3+1$ - це три послідовних цілих числа, які в сумі дають $n$.  Отже, число є сумою трьох послідовних цілих чисел тоді і тільки тоді, коли воно кратне 3. Найменший додатний досконалий куб, кратний 3, дорівнює $3^3=\\boxed{27}$.\n",
      "\n",
      "Example # 7\n",
      "Математичні олімпіадні задачі високого рівня; регіональні математичні олімпіади.\n",
      "Попереднє обчислення\n",
      "Множина точок $(x,y,z)$, які задовольняють умову\n",
      "\\[2x = 3y = -z\\]є прямою.\n",
      "\n",
      "Множина точок $(x,y,z)$, які задовольняють рівняння\n",
      "\\[6x = -y = -4z\\]є іншою прямою.\n",
      "\n",
      "Знайдіть кут між цими прямими в градусах.\n",
      "Для першого рядка нехай $t = 2x = 3y = -z.$ Тоді\n",
      "\\[\\begin{pmatrix} x \\\\ y \\\\ z \\end{pmatrix} = \\begin{pmatrix} t/2 \\\\ t/3 \\\\ -t \\end{pmatrix} = \\frac{t}{6} \\begin{pmatrix} 3 \\\\ 2 \\\\ -6 \\end{pmatrix}.\\]Таким чином, вектор напрямку першого рядка дорівнює $\\begin{pmatrix} 3 \\\\ 2 \\\\ -6 \\end{pmatrix}.$\n",
      "\n",
      "Для другого рядка нехай $t = 6x = -y = -4z.$ Тоді\n",
      "\\[\\begin{pmatrix} x \\\\ y \\\\ z \\end{pmatrix} = \\begin{pmatrix} t/6 \\\\ -t \\\\ -t/4 \\end{pmatrix} = \\frac{t}{12} \\begin{pmatrix} 2 \\\\ -12 \\\\ -3 \\end{pmatrix}.\\]Таким чином, вектор напрямку першого рядка дорівнює $\\begin{pmatrix} 2 \\\\ -12 \\\\ -3 \\end{pmatrix}.$\n",
      "\n",
      "Зверніть увагу, що\n",
      "\\[\\begin{pmatrix} 3 \\\\ 2 \\\\ -6 \\end{pmatrix} \\cdot \\begin{pmatrix} 2 \\\\ -12 \\\\ -3 \\end{pmatrix} = 0.\\]Отже, кут між рядками дорівнює $\\boxed{90^\\circ}.$\n",
      "\n",
      "Example # 8\n",
      "Олімпіада з математики для середнього рівня для старшокласників\n",
      "Алгебра\n",
      "Яка відстань в одиницях виміру між точками $(2, -6)$ і $(-4, 3)$? Запишіть відповідь у найпростішій радикальній формі.\n",
      "Використовуємо формулу відстані:  \\begin{align*}\n",
      "\\sqrt{(2 - (-4))^2 + ((-6) - 3)^2} &= \\sqrt{6^2 + (-9)^2}\\\\\n",
      "& = \\sqrt{36 + 81}\\\\\n",
      "& = \\sqrt{117} = \\boxed{3\\sqrt{13}}.\n",
      "\\end{align*}\n",
      "\n",
      "Example # 9\n",
      "Поглиблені математичні змагання; міжнародна олімпіада або рівень університетських курсів.\n",
      "Преалгебра\n",
      "Вираз $2\\cdot 3\\cdot 4\\cdot 5+1$ дорівнює 121, оскільки множення виконується перед додаванням. Однак, ми можемо отримати значення, відмінні від 121, для цього виразу, якщо ми можемо змінити його, вставивши дужки. Наприклад, ми можемо отримати 144, написавши \\[\n",
      "(2\\cdot (3\\cdot 4)) \\cdot (5+1) = 144.\n",
      "\\Скільки всього значень можна отримати з виразу $2\\cdot 3\\cdot 4\\cdot 5 + 1$, вставляючи дужки? (Зверніть увагу, що перестановка доданків заборонена, можна лише вставляти дужки).\n",
      "За асоціативною властивістю множення не допомагає вставляти дужки, які визначають порядок множення. Наприклад, асоціативна властивість говорить нам, що $(2\\cdot(3\\cdot 4))\\cdot (5+1)$ - це те саме, що $2\\cdot3\\cdot4\\cdot (5+1)$. Отже, єдиний спосіб отримати різні значення - це згрупувати +1 з різною кількістю множників. Ми отримаємо \\begin{align*}\n",
      "2\\cdot 3 \\cdot 4 \\cdot (5 + 1) &= 144, \\\\\n",
      "2\\cdot 3 \\cdot (4 \\cdot 5 + 1) &= 126,\\\\\n",
      "2\\cdot (3 \\cdot 4 \\cdot 5 + 1) &= 122, \\\\\n",
      "(2\\cdot 3 \\cdot 4 \\cdot 5) + 1 \\hphantom{)} &= 121.\n",
      "\\end{align*}Усього існує $\\boxed{4}$ можливих значень виразу.\n",
      "\n"
     ]
    }
   ],
   "source": [
    "for i in range(10):\n",
    "\n",
    "    print(\"Example #\", i)\n",
    "    print(df.loc[i, \"embedding_text\"])\n",
    "    print()"
   ],
   "metadata": {
    "collapsed": false,
    "ExecuteTime": {
     "end_time": "2025-01-08T15:57:39.143681Z",
     "start_time": "2025-01-08T15:57:39.140150Z"
    }
   }
  },
  {
   "cell_type": "code",
   "execution_count": 54,
   "outputs": [
    {
     "name": "stderr",
     "output_type": "stream",
     "text": [
      "100%|██████████| 500/500 [03:08<00:00,  2.65it/s]\n"
     ]
    },
    {
     "data": {
      "text/plain": "                                               problem  \\\n0    Convert the point $(0,3)$ in rectangular coord...   \n1    Define\\n\\[p = \\sum_{k = 1}^\\infty \\frac{1}{k^2...   \n2    If $f(x) = \\frac{3x-2}{x-2}$, what is the valu...   \n3    How many positive whole-number divisors does 1...   \n4    The results of a cross-country team's training...   \n..                                                 ...   \n495  What is the domain of the function $f(x) = \\fr...   \n496  Let $z = 1+i$ and $w = \\dfrac{3z+1}{5z+7}$. Fi...   \n497  An equiangular octagon has four sides of lengt...   \n498  A sequence $(a_n)$ is defined as follows:\\n\\[a...   \n499  Altitudes $\\overline{AD}$ and $\\overline{BE}$ ...   \n\n                                              solution  \\\n0    We have that $r = \\sqrt{0^2 + 3^2} = 3.$  Also...   \n1    We count the number of times $\\frac{1}{n^3}$ a...   \n2    $f(-2)+f(-1)+f(0)=\\frac{3(-2)-2}{-2-2}+\\frac{3...   \n3    First prime factorize $196=2^2\\cdot7^2$.  The ...   \n4    Evelyn covered more distance in less time than...   \n..                                                 ...   \n495  The inner logarithm is only defined if $x - 2 ...   \n496  Plugging in, we have $w = \\dfrac{3(1+i)+1}{5(1...   \n497  The octagon can be partitioned into five squar...   \n498  First, if $a_3 = a_1,$ then\\n\\[a_1 = a_3 = a_5...   \n499  First, we build a diagram:\\n\\n[asy]\\n\\nsize(15...   \n\n                              answer               subject  \\\n0    \\left( 3, \\frac{\\pi}{2} \\right)           Precalculus   \n1                              p - q  Intermediate Algebra   \n2                       \\frac{14}{3}               Algebra   \n3                                  9         Number Theory   \n4                      \\text{Evelyn}               Algebra   \n..                               ...                   ...   \n495             (2,12) \\cup (12,102)  Intermediate Algebra   \n496                     \\frac{5}{13}  Intermediate Algebra   \n497                      \\frac{7}{2}              Geometry   \n498                               -1  Intermediate Algebra   \n499                        106^\\circ              Geometry   \n\n                                                 level  \\\n0                        Foundational High-School Math   \n1    Advanced Math Competitions; International Olym...   \n2    High-School Intermediate Level Competition Mat...   \n3    High-School Intermediate Level Competition Mat...   \n4                        Foundational High-School Math   \n..                                                 ...   \n495  High-Level Math Competition Problems; Regional...   \n496  High-School Intermediate Level Competition Mat...   \n497  Advanced Math Competitions; International Olym...   \n498  Advanced Math Competitions; International Olym...   \n499  High-Level Math Competition Problems; Regional...   \n\n                               unique_id  original_level  problem_char_count  \\\n0              test/precalculus/807.json               2                 161   \n1    test/intermediate_algebra/1994.json               5                 217   \n2                 test/algebra/2584.json               3                 113   \n3            test/number_theory/572.json               3                  54   \n4                 test/algebra/1349.json               2                 731   \n..                                   ...             ...                 ...   \n495  test/intermediate_algebra/1981.json               4                 166   \n496  test/intermediate_algebra/1232.json               3                  55   \n497               test/geometry/561.json               5                 195   \n498  test/intermediate_algebra/1508.json               5                 125   \n499               test/geometry/615.json               4                 166   \n\n     solution_char_count  subject_char_count  ...  \\\n0                    439                  11  ...   \n1                    773                  20  ...   \n2                    158                   7  ...   \n3                    506                  13  ...   \n4                    326                   7  ...   \n..                   ...                 ...  ...   \n495                  412                  20  ...   \n496                  442                  20  ...   \n497                  630                   8  ...   \n498                  509                  20  ...   \n499                  778                   8  ...   \n\n                                    problem_translated  \\\n0    Переведіть точку $(0,3)$ у прямокутних координ...   \n1    Визначити\\n\\[p = \\sum_{k = 1}^\\infty \\frac{1}{...   \n2    Якщо $f(x) = \\frac{3x-2}{x-2}$, то чому дорівн...   \n3         Скільки натуральних дільників має число 196?   \n4    Нижче наведено результати тренувального забігу...   \n..                                                 ...   \n495  Яка область визначення функції $f(x) = \\frac{2...   \n496  Нехай $z = 1+i$ і $w = \\dfrac{3z+1}{5z+7}$. Зн...   \n497  Рівносторонній восьмикутник має чотири сторони...   \n498  Послідовність $(a_n)$ визначається наступним ч...   \n499  Висоти $\\overline{AD}$ і $\\overline{BE}$ трику...   \n\n                                   solution_translated    subject_translated  \\\n0    Маємо, що $r = \\sqrt{0^2 + 3^2} = 3.$ Також, я...  Попереднє обчислення   \n1    Підрахуємо, скільки разів $\\frac{1}{n^3}$ зуст...      Проміжна алгебра   \n2    $f(-2)+f(-1)+f(0)=\\frac{3(-2)-2}{-2-2}+\\frac{3...               Алгебра   \n3    Перший простий множник $196=2^2\\cdot7^2$.  Роз...          Теорія чисел   \n4    Евелін пройшла більшу відстань за менший час, ...               Алгебра   \n..                                                 ...                   ...   \n495  Внутрішній логарифм визначено, якщо $x - 2 > 0...      Проміжна алгебра   \n496  Підставляючи, маємо $w = \\dfrac{3(1+i)+1}{5(1+...      Проміжна алгебра   \n497  Восьмикутник можна розбити на п'ять квадратів ...             Геометрія   \n498  По-перше, якщо $a_3 = a_1,$ то\\n\\[a_1 = a_3 = ...      Проміжна алгебра   \n499  Спочатку будуємо діаграму:\\n\\n[asy]\\n\\nsize(15...             Геометрія   \n\n                                      level_translated  \\\n0        Фундаментальна математика для середньої школи   \n1    Поглиблені математичні змагання; міжнародна ол...   \n2    Олімпіада з математики для середнього рівня дл...   \n3    Олімпіада з математики для середнього рівня дл...   \n4        Фундаментальна математика для середньої школи   \n..                                                 ...   \n495  Математичні олімпіадні задачі високого рівня; ...   \n496  Олімпіада з математики для середнього рівня дл...   \n497  Поглиблені математичні змагання; міжнародна ол...   \n498  Поглиблені математичні змагання; міжнародна ол...   \n499  Математичні олімпіадні задачі високого рівня; ...   \n\n    problem_translated_token_count  solution_translated_token_count  \\\n0                               80                              238   \n1                              122                              434   \n2                               77                               97   \n3                               25                              299   \n4                              384                              198   \n..                             ...                              ...   \n495                             85                              257   \n496                             38                              228   \n497                            124                              349   \n498                             85                              336   \n499                             83                              338   \n\n     subject_translated_token_count  level_translated_token_count  \\\n0                                12                            23   \n1                                10                            56   \n2                                 5                            34   \n3                                 7                            34   \n4                                 5                            23   \n..                              ...                           ...   \n495                              10                            50   \n496                              10                            34   \n497                               7                            56   \n498                              10                            56   \n499                               7                            50   \n\n                                        embedding_text  \\\n0    Фундаментальна математика для середньої школи\\...   \n1    Поглиблені математичні змагання; міжнародна ол...   \n2    Олімпіада з математики для середнього рівня дл...   \n3    Олімпіада з математики для середнього рівня дл...   \n4    Фундаментальна математика для середньої школи\\...   \n..                                                 ...   \n495  Математичні олімпіадні задачі високого рівня; ...   \n496  Олімпіада з математики для середнього рівня дл...   \n497  Поглиблені математичні змагання; міжнародна ол...   \n498  Поглиблені математичні змагання; міжнародна ол...   \n499  Математичні олімпіадні задачі високого рівня; ...   \n\n                                             embedding  \n0    [0.012237025424838066, 0.02391546033322811, -0...  \n1    [0.011512582190334797, -0.0008581626461818814,...  \n2    [0.016653820872306824, 0.014230269007384777, -...  \n3    [0.018865710124373436, 0.00984769593924284, -0...  \n4    [-0.00832372810691595, 0.023255910724401474, -...  \n..                                                 ...  \n495  [0.0119700338691473, -0.0050599705427885056, -...  \n496  [0.003386223455891013, 0.018625861033797264, -...  \n497  [-0.010718663223087788, -0.0052996729500591755...  \n498  [-0.008413325063884258, -0.013276073150336742,...  \n499  [-0.0005154917598702013, -0.008703271858394146...  \n\n[500 rows x 21 columns]",
      "text/html": "<div>\n<style scoped>\n    .dataframe tbody tr th:only-of-type {\n        vertical-align: middle;\n    }\n\n    .dataframe tbody tr th {\n        vertical-align: top;\n    }\n\n    .dataframe thead th {\n        text-align: right;\n    }\n</style>\n<table border=\"1\" class=\"dataframe\">\n  <thead>\n    <tr style=\"text-align: right;\">\n      <th></th>\n      <th>problem</th>\n      <th>solution</th>\n      <th>answer</th>\n      <th>subject</th>\n      <th>level</th>\n      <th>unique_id</th>\n      <th>original_level</th>\n      <th>problem_char_count</th>\n      <th>solution_char_count</th>\n      <th>subject_char_count</th>\n      <th>...</th>\n      <th>problem_translated</th>\n      <th>solution_translated</th>\n      <th>subject_translated</th>\n      <th>level_translated</th>\n      <th>problem_translated_token_count</th>\n      <th>solution_translated_token_count</th>\n      <th>subject_translated_token_count</th>\n      <th>level_translated_token_count</th>\n      <th>embedding_text</th>\n      <th>embedding</th>\n    </tr>\n  </thead>\n  <tbody>\n    <tr>\n      <th>0</th>\n      <td>Convert the point $(0,3)$ in rectangular coord...</td>\n      <td>We have that $r = \\sqrt{0^2 + 3^2} = 3.$  Also...</td>\n      <td>\\left( 3, \\frac{\\pi}{2} \\right)</td>\n      <td>Precalculus</td>\n      <td>Foundational High-School Math</td>\n      <td>test/precalculus/807.json</td>\n      <td>2</td>\n      <td>161</td>\n      <td>439</td>\n      <td>11</td>\n      <td>...</td>\n      <td>Переведіть точку $(0,3)$ у прямокутних координ...</td>\n      <td>Маємо, що $r = \\sqrt{0^2 + 3^2} = 3.$ Також, я...</td>\n      <td>Попереднє обчислення</td>\n      <td>Фундаментальна математика для середньої школи</td>\n      <td>80</td>\n      <td>238</td>\n      <td>12</td>\n      <td>23</td>\n      <td>Фундаментальна математика для середньої школи\\...</td>\n      <td>[0.012237025424838066, 0.02391546033322811, -0...</td>\n    </tr>\n    <tr>\n      <th>1</th>\n      <td>Define\\n\\[p = \\sum_{k = 1}^\\infty \\frac{1}{k^2...</td>\n      <td>We count the number of times $\\frac{1}{n^3}$ a...</td>\n      <td>p - q</td>\n      <td>Intermediate Algebra</td>\n      <td>Advanced Math Competitions; International Olym...</td>\n      <td>test/intermediate_algebra/1994.json</td>\n      <td>5</td>\n      <td>217</td>\n      <td>773</td>\n      <td>20</td>\n      <td>...</td>\n      <td>Визначити\\n\\[p = \\sum_{k = 1}^\\infty \\frac{1}{...</td>\n      <td>Підрахуємо, скільки разів $\\frac{1}{n^3}$ зуст...</td>\n      <td>Проміжна алгебра</td>\n      <td>Поглиблені математичні змагання; міжнародна ол...</td>\n      <td>122</td>\n      <td>434</td>\n      <td>10</td>\n      <td>56</td>\n      <td>Поглиблені математичні змагання; міжнародна ол...</td>\n      <td>[0.011512582190334797, -0.0008581626461818814,...</td>\n    </tr>\n    <tr>\n      <th>2</th>\n      <td>If $f(x) = \\frac{3x-2}{x-2}$, what is the valu...</td>\n      <td>$f(-2)+f(-1)+f(0)=\\frac{3(-2)-2}{-2-2}+\\frac{3...</td>\n      <td>\\frac{14}{3}</td>\n      <td>Algebra</td>\n      <td>High-School Intermediate Level Competition Mat...</td>\n      <td>test/algebra/2584.json</td>\n      <td>3</td>\n      <td>113</td>\n      <td>158</td>\n      <td>7</td>\n      <td>...</td>\n      <td>Якщо $f(x) = \\frac{3x-2}{x-2}$, то чому дорівн...</td>\n      <td>$f(-2)+f(-1)+f(0)=\\frac{3(-2)-2}{-2-2}+\\frac{3...</td>\n      <td>Алгебра</td>\n      <td>Олімпіада з математики для середнього рівня дл...</td>\n      <td>77</td>\n      <td>97</td>\n      <td>5</td>\n      <td>34</td>\n      <td>Олімпіада з математики для середнього рівня дл...</td>\n      <td>[0.016653820872306824, 0.014230269007384777, -...</td>\n    </tr>\n    <tr>\n      <th>3</th>\n      <td>How many positive whole-number divisors does 1...</td>\n      <td>First prime factorize $196=2^2\\cdot7^2$.  The ...</td>\n      <td>9</td>\n      <td>Number Theory</td>\n      <td>High-School Intermediate Level Competition Mat...</td>\n      <td>test/number_theory/572.json</td>\n      <td>3</td>\n      <td>54</td>\n      <td>506</td>\n      <td>13</td>\n      <td>...</td>\n      <td>Скільки натуральних дільників має число 196?</td>\n      <td>Перший простий множник $196=2^2\\cdot7^2$.  Роз...</td>\n      <td>Теорія чисел</td>\n      <td>Олімпіада з математики для середнього рівня дл...</td>\n      <td>25</td>\n      <td>299</td>\n      <td>7</td>\n      <td>34</td>\n      <td>Олімпіада з математики для середнього рівня дл...</td>\n      <td>[0.018865710124373436, 0.00984769593924284, -0...</td>\n    </tr>\n    <tr>\n      <th>4</th>\n      <td>The results of a cross-country team's training...</td>\n      <td>Evelyn covered more distance in less time than...</td>\n      <td>\\text{Evelyn}</td>\n      <td>Algebra</td>\n      <td>Foundational High-School Math</td>\n      <td>test/algebra/1349.json</td>\n      <td>2</td>\n      <td>731</td>\n      <td>326</td>\n      <td>7</td>\n      <td>...</td>\n      <td>Нижче наведено результати тренувального забігу...</td>\n      <td>Евелін пройшла більшу відстань за менший час, ...</td>\n      <td>Алгебра</td>\n      <td>Фундаментальна математика для середньої школи</td>\n      <td>384</td>\n      <td>198</td>\n      <td>5</td>\n      <td>23</td>\n      <td>Фундаментальна математика для середньої школи\\...</td>\n      <td>[-0.00832372810691595, 0.023255910724401474, -...</td>\n    </tr>\n    <tr>\n      <th>...</th>\n      <td>...</td>\n      <td>...</td>\n      <td>...</td>\n      <td>...</td>\n      <td>...</td>\n      <td>...</td>\n      <td>...</td>\n      <td>...</td>\n      <td>...</td>\n      <td>...</td>\n      <td>...</td>\n      <td>...</td>\n      <td>...</td>\n      <td>...</td>\n      <td>...</td>\n      <td>...</td>\n      <td>...</td>\n      <td>...</td>\n      <td>...</td>\n      <td>...</td>\n      <td>...</td>\n    </tr>\n    <tr>\n      <th>495</th>\n      <td>What is the domain of the function $f(x) = \\fr...</td>\n      <td>The inner logarithm is only defined if $x - 2 ...</td>\n      <td>(2,12) \\cup (12,102)</td>\n      <td>Intermediate Algebra</td>\n      <td>High-Level Math Competition Problems; Regional...</td>\n      <td>test/intermediate_algebra/1981.json</td>\n      <td>4</td>\n      <td>166</td>\n      <td>412</td>\n      <td>20</td>\n      <td>...</td>\n      <td>Яка область визначення функції $f(x) = \\frac{2...</td>\n      <td>Внутрішній логарифм визначено, якщо $x - 2 &gt; 0...</td>\n      <td>Проміжна алгебра</td>\n      <td>Математичні олімпіадні задачі високого рівня; ...</td>\n      <td>85</td>\n      <td>257</td>\n      <td>10</td>\n      <td>50</td>\n      <td>Математичні олімпіадні задачі високого рівня; ...</td>\n      <td>[0.0119700338691473, -0.0050599705427885056, -...</td>\n    </tr>\n    <tr>\n      <th>496</th>\n      <td>Let $z = 1+i$ and $w = \\dfrac{3z+1}{5z+7}$. Fi...</td>\n      <td>Plugging in, we have $w = \\dfrac{3(1+i)+1}{5(1...</td>\n      <td>\\frac{5}{13}</td>\n      <td>Intermediate Algebra</td>\n      <td>High-School Intermediate Level Competition Mat...</td>\n      <td>test/intermediate_algebra/1232.json</td>\n      <td>3</td>\n      <td>55</td>\n      <td>442</td>\n      <td>20</td>\n      <td>...</td>\n      <td>Нехай $z = 1+i$ і $w = \\dfrac{3z+1}{5z+7}$. Зн...</td>\n      <td>Підставляючи, маємо $w = \\dfrac{3(1+i)+1}{5(1+...</td>\n      <td>Проміжна алгебра</td>\n      <td>Олімпіада з математики для середнього рівня дл...</td>\n      <td>38</td>\n      <td>228</td>\n      <td>10</td>\n      <td>34</td>\n      <td>Олімпіада з математики для середнього рівня дл...</td>\n      <td>[0.003386223455891013, 0.018625861033797264, -...</td>\n    </tr>\n    <tr>\n      <th>497</th>\n      <td>An equiangular octagon has four sides of lengt...</td>\n      <td>The octagon can be partitioned into five squar...</td>\n      <td>\\frac{7}{2}</td>\n      <td>Geometry</td>\n      <td>Advanced Math Competitions; International Olym...</td>\n      <td>test/geometry/561.json</td>\n      <td>5</td>\n      <td>195</td>\n      <td>630</td>\n      <td>8</td>\n      <td>...</td>\n      <td>Рівносторонній восьмикутник має чотири сторони...</td>\n      <td>Восьмикутник можна розбити на п'ять квадратів ...</td>\n      <td>Геометрія</td>\n      <td>Поглиблені математичні змагання; міжнародна ол...</td>\n      <td>124</td>\n      <td>349</td>\n      <td>7</td>\n      <td>56</td>\n      <td>Поглиблені математичні змагання; міжнародна ол...</td>\n      <td>[-0.010718663223087788, -0.0052996729500591755...</td>\n    </tr>\n    <tr>\n      <th>498</th>\n      <td>A sequence $(a_n)$ is defined as follows:\\n\\[a...</td>\n      <td>First, if $a_3 = a_1,$ then\\n\\[a_1 = a_3 = a_5...</td>\n      <td>-1</td>\n      <td>Intermediate Algebra</td>\n      <td>Advanced Math Competitions; International Olym...</td>\n      <td>test/intermediate_algebra/1508.json</td>\n      <td>5</td>\n      <td>125</td>\n      <td>509</td>\n      <td>20</td>\n      <td>...</td>\n      <td>Послідовність $(a_n)$ визначається наступним ч...</td>\n      <td>По-перше, якщо $a_3 = a_1,$ то\\n\\[a_1 = a_3 = ...</td>\n      <td>Проміжна алгебра</td>\n      <td>Поглиблені математичні змагання; міжнародна ол...</td>\n      <td>85</td>\n      <td>336</td>\n      <td>10</td>\n      <td>56</td>\n      <td>Поглиблені математичні змагання; міжнародна ол...</td>\n      <td>[-0.008413325063884258, -0.013276073150336742,...</td>\n    </tr>\n    <tr>\n      <th>499</th>\n      <td>Altitudes $\\overline{AD}$ and $\\overline{BE}$ ...</td>\n      <td>First, we build a diagram:\\n\\n[asy]\\n\\nsize(15...</td>\n      <td>106^\\circ</td>\n      <td>Geometry</td>\n      <td>High-Level Math Competition Problems; Regional...</td>\n      <td>test/geometry/615.json</td>\n      <td>4</td>\n      <td>166</td>\n      <td>778</td>\n      <td>8</td>\n      <td>...</td>\n      <td>Висоти $\\overline{AD}$ і $\\overline{BE}$ трику...</td>\n      <td>Спочатку будуємо діаграму:\\n\\n[asy]\\n\\nsize(15...</td>\n      <td>Геометрія</td>\n      <td>Математичні олімпіадні задачі високого рівня; ...</td>\n      <td>83</td>\n      <td>338</td>\n      <td>7</td>\n      <td>50</td>\n      <td>Математичні олімпіадні задачі високого рівня; ...</td>\n      <td>[-0.0005154917598702013, -0.008703271858394146...</td>\n    </tr>\n  </tbody>\n</table>\n<p>500 rows × 21 columns</p>\n</div>"
     },
     "execution_count": 54,
     "metadata": {},
     "output_type": "execute_result"
    }
   ],
   "source": [
    "client = OpenAI(api_key=openai_api_key)\n",
    "\n",
    "def get_embedding(text, model=\"text-embedding-ada-002\"):\n",
    "    response = client.embeddings.create(input=text, model=model)\n",
    "    return response.data[0].embedding\n",
    "\n",
    "model = \"text-embedding-ada-002\"\n",
    "\n",
    "df['embedding'] = df['embedding_text'].progress_apply(lambda x: get_embedding(x, model=model))\n",
    "df"
   ],
   "metadata": {
    "collapsed": false,
    "ExecuteTime": {
     "end_time": "2025-01-08T16:09:33.168232Z",
     "start_time": "2025-01-08T16:06:24.369795Z"
    }
   }
  },
  {
   "cell_type": "code",
   "execution_count": null,
   "outputs": [],
   "source": [
    "df.to_csv(\"../datasets/math-500-uk-with-embeddings.csv\", index=False)"
   ],
   "metadata": {
    "collapsed": false
   }
  },
  {
   "cell_type": "code",
   "execution_count": 90,
   "outputs": [],
   "source": [
    "inference_df = df[:490]\n",
    "test_df = df[490:]\n",
    "\n",
    "inference_df.to_csv(\"../datasets/math-500-uk-inference.csv\", index=False)\n",
    "test_df.to_csv(\"../datasets/math-500-uk-test.csv\", index=False)\n",
    "\n",
    "# Convert embeddings to a numpy array\n",
    "embeddings = np.vstack(inference_df['embedding'].values).astype('float32')\n",
    "\n",
    "# Normalize the embeddings to unit length\n",
    "faiss.normalize_L2(embeddings)\n",
    "\n",
    "# Initialize a FAISS index for inner product search\n",
    "dimension = embeddings.shape[1]\n",
    "index = faiss.IndexFlatIP(dimension)\n",
    "\n",
    "# Add normalized embeddings to the index\n",
    "index.add(embeddings)\n"
   ],
   "metadata": {
    "collapsed": false,
    "ExecuteTime": {
     "end_time": "2025-01-08T16:32:47.322465Z",
     "start_time": "2025-01-08T16:32:46.794639Z"
    }
   }
  },
  {
   "cell_type": "code",
   "execution_count": 91,
   "outputs": [
    {
     "data": {
      "text/plain": "                                               problem  \\\n308  Let $ABCD$ be a regular tetrahedron with side ...   \n222  The area of $\\triangle ABC$ is 6 square centim...   \n277      What is $\\sqrt{53}$ in simplest radical form?   \n239  The parallelogram bounded by the lines $y=ax+c...   \n154  A gecko is in a room that is 12 feet long, 10 ...   \n274  Let $S$ be the union of the set of all points ...   \n169  What is the number of square units in the area...   \n418  What is the shortest distance from the point $...   \n299  Consider the rectangle with vertices at $(5,4)...   \n382  A rectangular field is enclosed in an athletic...   \n264  In the figure below, quadrilateral $CDEG$ is a...   \n177  In the diagram, four circles of radius 1 with ...   \n129  In triangle $ABC$, $AB = 17$, $AC = 8$, and $B...   \n279  In the diagram, the three concentric circles h...   \n100  A hexagon is inscribed in a circle: [asy]\\npai...   \n485  What is the shortest distance that can be trav...   \n133  In a convex quadrilateral, the measure of the ...   \n267  In circle $J$, $HO$ and $HN$ are tangent to th...   \n243  A triangle has sides measuring 1 unit and 3 un...   \n152  The medians $AD$, $BE$, and $CF$ of triangle $...   \n476  Jim and Martha are standing together at the co...   \n368  Two sides of a triangle are each $8$ units lon...   \n341  What is the smallest number which is one less ...   \n192  In $\\triangle PQR$, we have $PQ = QR = 34$ and...   \n263  In a regular polygon, the measure of an interi...   \n\n                                              solution             answer  \\\n308  The plane intersects each face of the tetrahed...        1+2\\sqrt{3}   \n222  Since $AB \\parallel DE,$ we know that $\\angle ...                 54   \n277  Since 53 is prime, $\\boxed{\\sqrt{53}}$ is alre...          \\sqrt{53}   \n239  Two vertices of the first parallelogram are at...                 16   \n154  [asy]\\nimport three;\\ncurrentprojection=orthog...        2\\sqrt{113}   \n274  $S$ looks like a nonagon with slightly rounded...            18+2\\pi   \n169  This triangle is isosceles, and so the altitud...                 12   \n418  The shortest line from the point $(6,0)$ to th...          2\\sqrt{5}   \n299  Points with integer coordinates are called lat...                 63   \n382  Let the width of the rectangle be $w,$ and let...  \\frac{20000}{\\pi}   \n264  Let $J$ be the intersection of $\\overline{BE}$...       1\\frac{4}{5}   \n177  Join $PQ$, $PR$, $PS$, $RQ$, and $RS$. Since t...           30^\\circ   \n129  By Pythagoras, $\\angle C = 90^\\circ$.  Triangl...   \\frac{3840}{289}   \n279  The area of the inside circle (region $X$) is ...               7\\pi   \n100  Labeling our vertices will help a great deal, ...          145^\\circ   \n485  To visit all four points, we notice that we mu...                 13   \n133  The interior angles of a quadrilateral must ad...                120   \n267  Since $\\overline{OH}$ and $\\overline{NH}$ are ...          180^\\circ   \n243  Call the length of the third side $n$. By the ...                  3   \n152  Since $E$ is the midpoint of $AC$, the area of...                  8   \n476  The diagonal of the field is $\\sqrt{300^2+400^...                200   \n368  The Triangle Inequality says that the sum of t...                 31   \n341  The question is asking us to find the smallest...                 -2   \n192  Because $\\triangle PQR$ is isosceles with $PQ=...                 30   \n263  The measure of an interior angle of a regular ...                 15   \n\n                    subject  \\\n308                Geometry   \n222                Geometry   \n277              Prealgebra   \n239                Geometry   \n154                Geometry   \n274                Geometry   \n169                Geometry   \n418                 Algebra   \n299                Geometry   \n382    Intermediate Algebra   \n264                Geometry   \n177                Geometry   \n129                Geometry   \n279              Prealgebra   \n100                Geometry   \n485  Counting & Probability   \n133              Prealgebra   \n267                Geometry   \n243                Geometry   \n152                Geometry   \n476              Prealgebra   \n368                Geometry   \n341                 Algebra   \n192                Geometry   \n263                Geometry   \n\n                                                 level  \\\n308  Advanced Math Competitions; International Olym...   \n222  High-Level Math Competition Problems; Regional...   \n277  High-Level Math Competition Problems; Regional...   \n239  Advanced Math Competitions; International Olym...   \n154  Advanced Math Competitions; International Olym...   \n274  Advanced Math Competitions; International Olym...   \n169                      Foundational High-School Math   \n418  Advanced Math Competitions; International Olym...   \n299  High-Level Math Competition Problems; Regional...   \n382  Advanced Math Competitions; International Olym...   \n264  Advanced Math Competitions; International Olym...   \n177  High-School Intermediate Level Competition Mat...   \n129  Advanced Math Competitions; International Olym...   \n279  Advanced Math Competitions; International Olym...   \n100  Advanced Math Competitions; International Olym...   \n485                      Foundational High-School Math   \n133  High-School Intermediate Level Competition Mat...   \n267                                Basic Math Concepts   \n243                      Foundational High-School Math   \n152  Advanced Math Competitions; International Olym...   \n476                      Foundational High-School Math   \n368                      Foundational High-School Math   \n341  High-Level Math Competition Problems; Regional...   \n192  High-School Intermediate Level Competition Mat...   \n263  High-Level Math Competition Problems; Regional...   \n\n                                  unique_id  original_level  \\\n308                  test/geometry/711.json               5   \n222                  test/geometry/547.json               4   \n277               test/prealgebra/1834.json               4   \n239                  test/geometry/229.json               5   \n154                  test/geometry/880.json               5   \n274                  test/geometry/686.json               5   \n169                  test/geometry/802.json               2   \n418                  test/algebra/1796.json               5   \n299                 test/geometry/1097.json               4   \n382     test/intermediate_algebra/1111.json               5   \n264                  test/geometry/826.json               5   \n177                   test/geometry/65.json               3   \n129                 test/geometry/1140.json               5   \n279               test/prealgebra/1512.json               5   \n100                  test/geometry/183.json               5   \n485  test/counting_and_probability/199.json               2   \n133               test/prealgebra/1807.json               3   \n267                  test/geometry/226.json               1   \n243                  test/geometry/254.json               2   \n152                  test/geometry/172.json               5   \n476               test/prealgebra/1252.json               2   \n368                  test/geometry/106.json               2   \n341                   test/algebra/858.json               4   \n192                  test/geometry/221.json               3   \n263                  test/geometry/483.json               4   \n\n     problem_char_count  solution_char_count  subject_char_count  ...  \\\n308                 203                  375                   8  ...   \n222                 342                  424                   8  ...   \n277                  45                   75                  10  ...   \n239                 296                 1317                   8  ...   \n154                 546                 3356                   8  ...   \n274                 235                 1677                   8  ...   \n169                  98                  337                   8  ...   \n418                 123                  933                   7  ...   \n299                 156                  387                   8  ...   \n382                 489                  808                  20  ...   \n264                 619                 1352                   8  ...   \n177                 617                 1324                   8  ...   \n129                 143                  621                   8  ...   \n279                 581                  436                  10  ...   \n100                 409                 1259                   8  ...   \n485                 496                  620                  22  ...   \n133                 194                  567                  10  ...   \n267                 500                  301                   8  ...   \n243                 157                  157                   8  ...   \n152                 260                  873                   8  ...   \n476                 277                  227                  10  ...   \n368                 162                  334                   8  ...   \n341                  72                  451                   7  ...   \n192                 101                  598                   8  ...   \n263                 139                  245                   8  ...   \n\n                                    problem_translated  \\\n308  Нехай $ABCD$ - правильний тетраедр зі стороною...   \n222  Площа $\\трикутника ABC$ дорівнює 6 квадратних ...   \n277  Що таке $\\sqrt{53}$ у найпростішому радикально...   \n239  Паралелограм, обмежений прямими $y=ax+c$, $y=a...   \n154  Гекон знаходиться у кімнаті довжиною 12 футів,...   \n274  Нехай $S$ - це об'єднання множини всіх точок в...   \n169  Скільки квадратних одиниць міститься у площі т...   \n418  Яка найкоротша відстань від точки $(6, 0)$ до ...   \n299  Розглянемо прямокутник з вершинами $(5,4),$ $(...   \n382  Прямокутне поле оточене легкоатлетичною доріжк...   \n264  На рисунку нижче чотирикутник $CDEG$ є квадрат...   \n177  На рисунку чотири кола радіуса 1 з центрами $P...   \n129  У трикутнику $ABC$, $AB = 17$, $AC = 8$ і $BC ...   \n279  На рисунку три концентричні кола мають радіуси...   \n100  У коло вписано шестикутник: [asy].\\nпара pA, p...   \n485  Яку найкоротшу відстань можна подолати, якщо с...   \n133  У опуклому чотирикутнику градусна міра найбіль...   \n267  У колі $J$, $HO$ і $HN$ проведені дотичні до к...   \n243  Трикутник має сторони, довжини яких дорівнюють...   \n152  Медіани $AD$, $BE$ і $CF$ трикутника $ABC$ пер...   \n476  Джим і Марта стоять разом на розі прямокутного...   \n368  Дві сторони трикутника мають довжину по $8$ од...   \n341  Яке найменше число, яке на одиницю менше за св...   \n192  У $\\triangle PQR$ маємо $PQ = QR = 34$ і $PR =...   \n263  У правильному многокутнику міра внутрішнього к...   \n\n                                   solution_translated  \\\n308  Площина перетинає кожну грань тетраедра по сер...   \n222  Оскільки $AB \\паралельний DE,$ ми знаємо, що $...   \n277  Оскільки 53 - просте число, $\\boxed{\\sqrt{53}}...   \n239  Дві вершини першого паралелограма знаходяться ...   \n154  [asy]\\nімпортувати три;\\ncurrentprojection=ort...   \n274  $S$ виглядає як нонагон зі злегка заокругленим...   \n169  Цей трикутник рівнобедрений, тому висота, пров...   \n418  Найкоротша пряма з точки $(6,0)$ до заданої пр...   \n299  Точки з цілочисельними координатами називаютьс...   \n382  Нехай ширина прямокутника дорівнює $w,$, а рад...   \n264  Нехай $J$ є перетином $\\overline{BE}$ та $\\ove...   \n177  З'єднайте $PQ$, $PR$, $PS$, $RQ$ і $RS$. Оскіл...   \n129  За теоремою Піфагора, $\\кут C = 90^\\circ$.  Тр...   \n279  Площа внутрішнього кола (область $X$) дорівнює...   \n100  Позначення наших вершин дуже допоможе, так сам...   \n485  Щоб відвідати всі чотири точки, ми помічаємо, ...   \n133  Внутрішні кути чотирикутника повинні складати ...   \n267  Оскільки $\\overline{OH}$ і $\\overline{NH}$ є д...   \n243  Назвемо довжину третьої сторони $n$. За нерівн...   \n152  Оскільки $E$ є серединою $AC$, то площа трикут...   \n476  Діагональ поля дорівнює $\\sqrt{300^2+400^2}=50...   \n368  Нерівність трикутника говорить, що сума довжин...   \n341  У задачі нас просять знайти найменше значення ...   \n192  Оскільки $\\трикутник PQR$ рівнобедрений з $PQ=...   \n263  Міра внутрішнього кута правильного $n$-кутника...   \n\n            subject_translated  \\\n308                  Геометрія   \n222                  Геометрія   \n277                 Преалгебра   \n239                  Геометрія   \n154                  Геометрія   \n274                  Геометрія   \n169                  Геометрія   \n418                    Алгебра   \n299                  Геометрія   \n382           Проміжна алгебра   \n264                  Геометрія   \n177                  Геометрія   \n129                  Геометрія   \n279                 Преалгебра   \n100                  Геометрія   \n485  Підрахунок та ймовірність   \n133                 Преалгебра   \n267                  Геометрія   \n243                  Геометрія   \n152                  Геометрія   \n476                 Преалгебра   \n368                  Геометрія   \n341                    Алгебра   \n192                  Геометрія   \n263                  Геометрія   \n\n                                      level_translated  \\\n308  Поглиблені математичні змагання; міжнародна ол...   \n222  Математичні олімпіадні задачі високого рівня; ...   \n277  Математичні олімпіадні задачі високого рівня; ...   \n239  Поглиблені математичні змагання; міжнародна ол...   \n154  Поглиблені математичні змагання; міжнародна ол...   \n274  Поглиблені математичні змагання; міжнародна ол...   \n169      Фундаментальна математика для середньої школи   \n418  Поглиблені математичні змагання; міжнародна ол...   \n299  Математичні олімпіадні задачі високого рівня; ...   \n382  Поглиблені математичні змагання; міжнародна ол...   \n264  Поглиблені математичні змагання; міжнародна ол...   \n177  Олімпіада з математики для середнього рівня дл...   \n129  Поглиблені математичні змагання; міжнародна ол...   \n279  Поглиблені математичні змагання; міжнародна ол...   \n100  Поглиблені математичні змагання; міжнародна ол...   \n485      Фундаментальна математика для середньої школи   \n133  Олімпіада з математики для середнього рівня дл...   \n267                        Основні математичні поняття   \n243      Фундаментальна математика для середньої школи   \n152  Поглиблені математичні змагання; міжнародна ол...   \n476      Фундаментальна математика для середньої школи   \n368      Фундаментальна математика для середньої школи   \n341  Математичні олімпіадні задачі високого рівня; ...   \n192  Олімпіада з математики для середнього рівня дл...   \n263  Математичні олімпіадні задачі високого рівня; ...   \n\n    problem_translated_token_count  solution_translated_token_count  \\\n308                            117                              191   \n222                            176                              272   \n277                             31                               44   \n239                            155                              705   \n154                            329                             1887   \n274                            141                              948   \n169                             62                              225   \n418                             76                              525   \n299                             85                              209   \n382                            243                              425   \n264                            335                              768   \n177                            282                              688   \n129                             73                              305   \n279                            271                              272   \n100                            199                              629   \n485                            253                              375   \n133                            100                              292   \n267                            217                              146   \n243                            110                              101   \n152                            145                              453   \n476                            131                              128   \n368                             89                              200   \n341                             30                              264   \n192                             50                              314   \n263                             76                              132   \n\n     subject_translated_token_count  level_translated_token_count  \\\n308                               7                            56   \n222                               7                            50   \n277                               6                            50   \n239                               7                            56   \n154                               7                            56   \n274                               7                            56   \n169                               7                            23   \n418                               5                            56   \n299                               7                            50   \n382                              10                            56   \n264                               7                            56   \n177                               7                            34   \n129                               7                            56   \n279                               6                            56   \n100                               7                            56   \n485                              18                            23   \n133                               6                            34   \n267                               7                            16   \n243                               7                            23   \n152                               7                            56   \n476                               6                            23   \n368                               7                            23   \n341                               5                            50   \n192                               7                            34   \n263                               7                            50   \n\n                                        embedding_text  \\\n308  Поглиблені математичні змагання; міжнародна ол...   \n222  Математичні олімпіадні задачі високого рівня; ...   \n277  Математичні олімпіадні задачі високого рівня; ...   \n239  Поглиблені математичні змагання; міжнародна ол...   \n154  Поглиблені математичні змагання; міжнародна ол...   \n274  Поглиблені математичні змагання; міжнародна ол...   \n169  Фундаментальна математика для середньої школи\\...   \n418  Поглиблені математичні змагання; міжнародна ол...   \n299  Математичні олімпіадні задачі високого рівня; ...   \n382  Поглиблені математичні змагання; міжнародна ол...   \n264  Поглиблені математичні змагання; міжнародна ол...   \n177  Олімпіада з математики для середнього рівня дл...   \n129  Поглиблені математичні змагання; міжнародна ол...   \n279  Поглиблені математичні змагання; міжнародна ол...   \n100  Поглиблені математичні змагання; міжнародна ол...   \n485  Фундаментальна математика для середньої школи\\...   \n133  Олімпіада з математики для середнього рівня дл...   \n267  Основні математичні поняття\\nГеометрія\\nУ колі...   \n243  Фундаментальна математика для середньої школи\\...   \n152  Поглиблені математичні змагання; міжнародна ол...   \n476  Фундаментальна математика для середньої школи\\...   \n368  Фундаментальна математика для середньої школи\\...   \n341  Математичні олімпіадні задачі високого рівня; ...   \n192  Олімпіада з математики для середнього рівня дл...   \n263  Математичні олімпіадні задачі високого рівня; ...   \n\n                                             embedding  \n308  [0.008417361415922642, 0.000720419455319643, 5...  \n222  [0.010712559334933758, -0.007907348684966564, ...  \n277  [0.0058866022154688835, 0.016528010368347168, ...  \n239  [-0.005379538983106613, -0.005849181208759546,...  \n154  [-0.005317579489201307, 0.01098331343382597, -...  \n274  [0.00911207776516676, 0.010200942866504192, 0....  \n169  [0.021239973604679108, 0.022146791219711304, 0...  \n418  [-0.009601229801774025, 0.013997208327054977, ...  \n299  [-0.0031878254376351833, -0.003637160174548626...  \n382  [0.010249917395412922, 0.006011402700096369, -...  \n264  [-0.005745587404817343, -0.002533208578824997,...  \n177  [0.013084672391414642, 0.0037478867452591658, ...  \n129  [0.004543466027826071, -0.0061322464607656, 0....  \n279  [0.00530929584056139, 0.005353858228772879, 0....  \n100  [0.008953087031841278, -0.008230245672166348, ...  \n485  [0.0016560006188228726, 0.01458696834743023, -...  \n133  [0.019983725622296333, 0.021765468642115593, -...  \n267  [0.0035390304401516914, 0.0073977564461529255,...  \n243  [0.01385931670665741, 0.016113074496388435, 0....  \n152  [0.010307596065104008, -0.0026040917728096247,...  \n476  [0.011948387138545513, 0.01732580177485943, -0...  \n368  [0.007907223887741566, 0.024386880919337273, -...  \n341  [-0.0007280457648448646, 0.014325850643217564,...  \n192  [0.020815491676330566, 0.0028605533298105, 0.0...  \n263  [0.019035551697015762, 0.006238766014575958, 0...  \n\n[25 rows x 21 columns]",
      "text/html": "<div>\n<style scoped>\n    .dataframe tbody tr th:only-of-type {\n        vertical-align: middle;\n    }\n\n    .dataframe tbody tr th {\n        vertical-align: top;\n    }\n\n    .dataframe thead th {\n        text-align: right;\n    }\n</style>\n<table border=\"1\" class=\"dataframe\">\n  <thead>\n    <tr style=\"text-align: right;\">\n      <th></th>\n      <th>problem</th>\n      <th>solution</th>\n      <th>answer</th>\n      <th>subject</th>\n      <th>level</th>\n      <th>unique_id</th>\n      <th>original_level</th>\n      <th>problem_char_count</th>\n      <th>solution_char_count</th>\n      <th>subject_char_count</th>\n      <th>...</th>\n      <th>problem_translated</th>\n      <th>solution_translated</th>\n      <th>subject_translated</th>\n      <th>level_translated</th>\n      <th>problem_translated_token_count</th>\n      <th>solution_translated_token_count</th>\n      <th>subject_translated_token_count</th>\n      <th>level_translated_token_count</th>\n      <th>embedding_text</th>\n      <th>embedding</th>\n    </tr>\n  </thead>\n  <tbody>\n    <tr>\n      <th>308</th>\n      <td>Let $ABCD$ be a regular tetrahedron with side ...</td>\n      <td>The plane intersects each face of the tetrahed...</td>\n      <td>1+2\\sqrt{3}</td>\n      <td>Geometry</td>\n      <td>Advanced Math Competitions; International Olym...</td>\n      <td>test/geometry/711.json</td>\n      <td>5</td>\n      <td>203</td>\n      <td>375</td>\n      <td>8</td>\n      <td>...</td>\n      <td>Нехай $ABCD$ - правильний тетраедр зі стороною...</td>\n      <td>Площина перетинає кожну грань тетраедра по сер...</td>\n      <td>Геометрія</td>\n      <td>Поглиблені математичні змагання; міжнародна ол...</td>\n      <td>117</td>\n      <td>191</td>\n      <td>7</td>\n      <td>56</td>\n      <td>Поглиблені математичні змагання; міжнародна ол...</td>\n      <td>[0.008417361415922642, 0.000720419455319643, 5...</td>\n    </tr>\n    <tr>\n      <th>222</th>\n      <td>The area of $\\triangle ABC$ is 6 square centim...</td>\n      <td>Since $AB \\parallel DE,$ we know that $\\angle ...</td>\n      <td>54</td>\n      <td>Geometry</td>\n      <td>High-Level Math Competition Problems; Regional...</td>\n      <td>test/geometry/547.json</td>\n      <td>4</td>\n      <td>342</td>\n      <td>424</td>\n      <td>8</td>\n      <td>...</td>\n      <td>Площа $\\трикутника ABC$ дорівнює 6 квадратних ...</td>\n      <td>Оскільки $AB \\паралельний DE,$ ми знаємо, що $...</td>\n      <td>Геометрія</td>\n      <td>Математичні олімпіадні задачі високого рівня; ...</td>\n      <td>176</td>\n      <td>272</td>\n      <td>7</td>\n      <td>50</td>\n      <td>Математичні олімпіадні задачі високого рівня; ...</td>\n      <td>[0.010712559334933758, -0.007907348684966564, ...</td>\n    </tr>\n    <tr>\n      <th>277</th>\n      <td>What is $\\sqrt{53}$ in simplest radical form?</td>\n      <td>Since 53 is prime, $\\boxed{\\sqrt{53}}$ is alre...</td>\n      <td>\\sqrt{53}</td>\n      <td>Prealgebra</td>\n      <td>High-Level Math Competition Problems; Regional...</td>\n      <td>test/prealgebra/1834.json</td>\n      <td>4</td>\n      <td>45</td>\n      <td>75</td>\n      <td>10</td>\n      <td>...</td>\n      <td>Що таке $\\sqrt{53}$ у найпростішому радикально...</td>\n      <td>Оскільки 53 - просте число, $\\boxed{\\sqrt{53}}...</td>\n      <td>Преалгебра</td>\n      <td>Математичні олімпіадні задачі високого рівня; ...</td>\n      <td>31</td>\n      <td>44</td>\n      <td>6</td>\n      <td>50</td>\n      <td>Математичні олімпіадні задачі високого рівня; ...</td>\n      <td>[0.0058866022154688835, 0.016528010368347168, ...</td>\n    </tr>\n    <tr>\n      <th>239</th>\n      <td>The parallelogram bounded by the lines $y=ax+c...</td>\n      <td>Two vertices of the first parallelogram are at...</td>\n      <td>16</td>\n      <td>Geometry</td>\n      <td>Advanced Math Competitions; International Olym...</td>\n      <td>test/geometry/229.json</td>\n      <td>5</td>\n      <td>296</td>\n      <td>1317</td>\n      <td>8</td>\n      <td>...</td>\n      <td>Паралелограм, обмежений прямими $y=ax+c$, $y=a...</td>\n      <td>Дві вершини першого паралелограма знаходяться ...</td>\n      <td>Геометрія</td>\n      <td>Поглиблені математичні змагання; міжнародна ол...</td>\n      <td>155</td>\n      <td>705</td>\n      <td>7</td>\n      <td>56</td>\n      <td>Поглиблені математичні змагання; міжнародна ол...</td>\n      <td>[-0.005379538983106613, -0.005849181208759546,...</td>\n    </tr>\n    <tr>\n      <th>154</th>\n      <td>A gecko is in a room that is 12 feet long, 10 ...</td>\n      <td>[asy]\\nimport three;\\ncurrentprojection=orthog...</td>\n      <td>2\\sqrt{113}</td>\n      <td>Geometry</td>\n      <td>Advanced Math Competitions; International Olym...</td>\n      <td>test/geometry/880.json</td>\n      <td>5</td>\n      <td>546</td>\n      <td>3356</td>\n      <td>8</td>\n      <td>...</td>\n      <td>Гекон знаходиться у кімнаті довжиною 12 футів,...</td>\n      <td>[asy]\\nімпортувати три;\\ncurrentprojection=ort...</td>\n      <td>Геометрія</td>\n      <td>Поглиблені математичні змагання; міжнародна ол...</td>\n      <td>329</td>\n      <td>1887</td>\n      <td>7</td>\n      <td>56</td>\n      <td>Поглиблені математичні змагання; міжнародна ол...</td>\n      <td>[-0.005317579489201307, 0.01098331343382597, -...</td>\n    </tr>\n    <tr>\n      <th>274</th>\n      <td>Let $S$ be the union of the set of all points ...</td>\n      <td>$S$ looks like a nonagon with slightly rounded...</td>\n      <td>18+2\\pi</td>\n      <td>Geometry</td>\n      <td>Advanced Math Competitions; International Olym...</td>\n      <td>test/geometry/686.json</td>\n      <td>5</td>\n      <td>235</td>\n      <td>1677</td>\n      <td>8</td>\n      <td>...</td>\n      <td>Нехай $S$ - це об'єднання множини всіх точок в...</td>\n      <td>$S$ виглядає як нонагон зі злегка заокругленим...</td>\n      <td>Геометрія</td>\n      <td>Поглиблені математичні змагання; міжнародна ол...</td>\n      <td>141</td>\n      <td>948</td>\n      <td>7</td>\n      <td>56</td>\n      <td>Поглиблені математичні змагання; міжнародна ол...</td>\n      <td>[0.00911207776516676, 0.010200942866504192, 0....</td>\n    </tr>\n    <tr>\n      <th>169</th>\n      <td>What is the number of square units in the area...</td>\n      <td>This triangle is isosceles, and so the altitud...</td>\n      <td>12</td>\n      <td>Geometry</td>\n      <td>Foundational High-School Math</td>\n      <td>test/geometry/802.json</td>\n      <td>2</td>\n      <td>98</td>\n      <td>337</td>\n      <td>8</td>\n      <td>...</td>\n      <td>Скільки квадратних одиниць міститься у площі т...</td>\n      <td>Цей трикутник рівнобедрений, тому висота, пров...</td>\n      <td>Геометрія</td>\n      <td>Фундаментальна математика для середньої школи</td>\n      <td>62</td>\n      <td>225</td>\n      <td>7</td>\n      <td>23</td>\n      <td>Фундаментальна математика для середньої школи\\...</td>\n      <td>[0.021239973604679108, 0.022146791219711304, 0...</td>\n    </tr>\n    <tr>\n      <th>418</th>\n      <td>What is the shortest distance from the point $...</td>\n      <td>The shortest line from the point $(6,0)$ to th...</td>\n      <td>2\\sqrt{5}</td>\n      <td>Algebra</td>\n      <td>Advanced Math Competitions; International Olym...</td>\n      <td>test/algebra/1796.json</td>\n      <td>5</td>\n      <td>123</td>\n      <td>933</td>\n      <td>7</td>\n      <td>...</td>\n      <td>Яка найкоротша відстань від точки $(6, 0)$ до ...</td>\n      <td>Найкоротша пряма з точки $(6,0)$ до заданої пр...</td>\n      <td>Алгебра</td>\n      <td>Поглиблені математичні змагання; міжнародна ол...</td>\n      <td>76</td>\n      <td>525</td>\n      <td>5</td>\n      <td>56</td>\n      <td>Поглиблені математичні змагання; міжнародна ол...</td>\n      <td>[-0.009601229801774025, 0.013997208327054977, ...</td>\n    </tr>\n    <tr>\n      <th>299</th>\n      <td>Consider the rectangle with vertices at $(5,4)...</td>\n      <td>Points with integer coordinates are called lat...</td>\n      <td>63</td>\n      <td>Geometry</td>\n      <td>High-Level Math Competition Problems; Regional...</td>\n      <td>test/geometry/1097.json</td>\n      <td>4</td>\n      <td>156</td>\n      <td>387</td>\n      <td>8</td>\n      <td>...</td>\n      <td>Розглянемо прямокутник з вершинами $(5,4),$ $(...</td>\n      <td>Точки з цілочисельними координатами називаютьс...</td>\n      <td>Геометрія</td>\n      <td>Математичні олімпіадні задачі високого рівня; ...</td>\n      <td>85</td>\n      <td>209</td>\n      <td>7</td>\n      <td>50</td>\n      <td>Математичні олімпіадні задачі високого рівня; ...</td>\n      <td>[-0.0031878254376351833, -0.003637160174548626...</td>\n    </tr>\n    <tr>\n      <th>382</th>\n      <td>A rectangular field is enclosed in an athletic...</td>\n      <td>Let the width of the rectangle be $w,$ and let...</td>\n      <td>\\frac{20000}{\\pi}</td>\n      <td>Intermediate Algebra</td>\n      <td>Advanced Math Competitions; International Olym...</td>\n      <td>test/intermediate_algebra/1111.json</td>\n      <td>5</td>\n      <td>489</td>\n      <td>808</td>\n      <td>20</td>\n      <td>...</td>\n      <td>Прямокутне поле оточене легкоатлетичною доріжк...</td>\n      <td>Нехай ширина прямокутника дорівнює $w,$, а рад...</td>\n      <td>Проміжна алгебра</td>\n      <td>Поглиблені математичні змагання; міжнародна ол...</td>\n      <td>243</td>\n      <td>425</td>\n      <td>10</td>\n      <td>56</td>\n      <td>Поглиблені математичні змагання; міжнародна ол...</td>\n      <td>[0.010249917395412922, 0.006011402700096369, -...</td>\n    </tr>\n    <tr>\n      <th>264</th>\n      <td>In the figure below, quadrilateral $CDEG$ is a...</td>\n      <td>Let $J$ be the intersection of $\\overline{BE}$...</td>\n      <td>1\\frac{4}{5}</td>\n      <td>Geometry</td>\n      <td>Advanced Math Competitions; International Olym...</td>\n      <td>test/geometry/826.json</td>\n      <td>5</td>\n      <td>619</td>\n      <td>1352</td>\n      <td>8</td>\n      <td>...</td>\n      <td>На рисунку нижче чотирикутник $CDEG$ є квадрат...</td>\n      <td>Нехай $J$ є перетином $\\overline{BE}$ та $\\ove...</td>\n      <td>Геометрія</td>\n      <td>Поглиблені математичні змагання; міжнародна ол...</td>\n      <td>335</td>\n      <td>768</td>\n      <td>7</td>\n      <td>56</td>\n      <td>Поглиблені математичні змагання; міжнародна ол...</td>\n      <td>[-0.005745587404817343, -0.002533208578824997,...</td>\n    </tr>\n    <tr>\n      <th>177</th>\n      <td>In the diagram, four circles of radius 1 with ...</td>\n      <td>Join $PQ$, $PR$, $PS$, $RQ$, and $RS$. Since t...</td>\n      <td>30^\\circ</td>\n      <td>Geometry</td>\n      <td>High-School Intermediate Level Competition Mat...</td>\n      <td>test/geometry/65.json</td>\n      <td>3</td>\n      <td>617</td>\n      <td>1324</td>\n      <td>8</td>\n      <td>...</td>\n      <td>На рисунку чотири кола радіуса 1 з центрами $P...</td>\n      <td>З'єднайте $PQ$, $PR$, $PS$, $RQ$ і $RS$. Оскіл...</td>\n      <td>Геометрія</td>\n      <td>Олімпіада з математики для середнього рівня дл...</td>\n      <td>282</td>\n      <td>688</td>\n      <td>7</td>\n      <td>34</td>\n      <td>Олімпіада з математики для середнього рівня дл...</td>\n      <td>[0.013084672391414642, 0.0037478867452591658, ...</td>\n    </tr>\n    <tr>\n      <th>129</th>\n      <td>In triangle $ABC$, $AB = 17$, $AC = 8$, and $B...</td>\n      <td>By Pythagoras, $\\angle C = 90^\\circ$.  Triangl...</td>\n      <td>\\frac{3840}{289}</td>\n      <td>Geometry</td>\n      <td>Advanced Math Competitions; International Olym...</td>\n      <td>test/geometry/1140.json</td>\n      <td>5</td>\n      <td>143</td>\n      <td>621</td>\n      <td>8</td>\n      <td>...</td>\n      <td>У трикутнику $ABC$, $AB = 17$, $AC = 8$ і $BC ...</td>\n      <td>За теоремою Піфагора, $\\кут C = 90^\\circ$.  Тр...</td>\n      <td>Геометрія</td>\n      <td>Поглиблені математичні змагання; міжнародна ол...</td>\n      <td>73</td>\n      <td>305</td>\n      <td>7</td>\n      <td>56</td>\n      <td>Поглиблені математичні змагання; міжнародна ол...</td>\n      <td>[0.004543466027826071, -0.0061322464607656, 0....</td>\n    </tr>\n    <tr>\n      <th>279</th>\n      <td>In the diagram, the three concentric circles h...</td>\n      <td>The area of the inside circle (region $X$) is ...</td>\n      <td>7\\pi</td>\n      <td>Prealgebra</td>\n      <td>Advanced Math Competitions; International Olym...</td>\n      <td>test/prealgebra/1512.json</td>\n      <td>5</td>\n      <td>581</td>\n      <td>436</td>\n      <td>10</td>\n      <td>...</td>\n      <td>На рисунку три концентричні кола мають радіуси...</td>\n      <td>Площа внутрішнього кола (область $X$) дорівнює...</td>\n      <td>Преалгебра</td>\n      <td>Поглиблені математичні змагання; міжнародна ол...</td>\n      <td>271</td>\n      <td>272</td>\n      <td>6</td>\n      <td>56</td>\n      <td>Поглиблені математичні змагання; міжнародна ол...</td>\n      <td>[0.00530929584056139, 0.005353858228772879, 0....</td>\n    </tr>\n    <tr>\n      <th>100</th>\n      <td>A hexagon is inscribed in a circle: [asy]\\npai...</td>\n      <td>Labeling our vertices will help a great deal, ...</td>\n      <td>145^\\circ</td>\n      <td>Geometry</td>\n      <td>Advanced Math Competitions; International Olym...</td>\n      <td>test/geometry/183.json</td>\n      <td>5</td>\n      <td>409</td>\n      <td>1259</td>\n      <td>8</td>\n      <td>...</td>\n      <td>У коло вписано шестикутник: [asy].\\nпара pA, p...</td>\n      <td>Позначення наших вершин дуже допоможе, так сам...</td>\n      <td>Геометрія</td>\n      <td>Поглиблені математичні змагання; міжнародна ол...</td>\n      <td>199</td>\n      <td>629</td>\n      <td>7</td>\n      <td>56</td>\n      <td>Поглиблені математичні змагання; міжнародна ол...</td>\n      <td>[0.008953087031841278, -0.008230245672166348, ...</td>\n    </tr>\n    <tr>\n      <th>485</th>\n      <td>What is the shortest distance that can be trav...</td>\n      <td>To visit all four points, we notice that we mu...</td>\n      <td>13</td>\n      <td>Counting &amp; Probability</td>\n      <td>Foundational High-School Math</td>\n      <td>test/counting_and_probability/199.json</td>\n      <td>2</td>\n      <td>496</td>\n      <td>620</td>\n      <td>22</td>\n      <td>...</td>\n      <td>Яку найкоротшу відстань можна подолати, якщо с...</td>\n      <td>Щоб відвідати всі чотири точки, ми помічаємо, ...</td>\n      <td>Підрахунок та ймовірність</td>\n      <td>Фундаментальна математика для середньої школи</td>\n      <td>253</td>\n      <td>375</td>\n      <td>18</td>\n      <td>23</td>\n      <td>Фундаментальна математика для середньої школи\\...</td>\n      <td>[0.0016560006188228726, 0.01458696834743023, -...</td>\n    </tr>\n    <tr>\n      <th>133</th>\n      <td>In a convex quadrilateral, the measure of the ...</td>\n      <td>The interior angles of a quadrilateral must ad...</td>\n      <td>120</td>\n      <td>Prealgebra</td>\n      <td>High-School Intermediate Level Competition Mat...</td>\n      <td>test/prealgebra/1807.json</td>\n      <td>3</td>\n      <td>194</td>\n      <td>567</td>\n      <td>10</td>\n      <td>...</td>\n      <td>У опуклому чотирикутнику градусна міра найбіль...</td>\n      <td>Внутрішні кути чотирикутника повинні складати ...</td>\n      <td>Преалгебра</td>\n      <td>Олімпіада з математики для середнього рівня дл...</td>\n      <td>100</td>\n      <td>292</td>\n      <td>6</td>\n      <td>34</td>\n      <td>Олімпіада з математики для середнього рівня дл...</td>\n      <td>[0.019983725622296333, 0.021765468642115593, -...</td>\n    </tr>\n    <tr>\n      <th>267</th>\n      <td>In circle $J$, $HO$ and $HN$ are tangent to th...</td>\n      <td>Since $\\overline{OH}$ and $\\overline{NH}$ are ...</td>\n      <td>180^\\circ</td>\n      <td>Geometry</td>\n      <td>Basic Math Concepts</td>\n      <td>test/geometry/226.json</td>\n      <td>1</td>\n      <td>500</td>\n      <td>301</td>\n      <td>8</td>\n      <td>...</td>\n      <td>У колі $J$, $HO$ і $HN$ проведені дотичні до к...</td>\n      <td>Оскільки $\\overline{OH}$ і $\\overline{NH}$ є д...</td>\n      <td>Геометрія</td>\n      <td>Основні математичні поняття</td>\n      <td>217</td>\n      <td>146</td>\n      <td>7</td>\n      <td>16</td>\n      <td>Основні математичні поняття\\nГеометрія\\nУ колі...</td>\n      <td>[0.0035390304401516914, 0.0073977564461529255,...</td>\n    </tr>\n    <tr>\n      <th>243</th>\n      <td>A triangle has sides measuring 1 unit and 3 un...</td>\n      <td>Call the length of the third side $n$. By the ...</td>\n      <td>3</td>\n      <td>Geometry</td>\n      <td>Foundational High-School Math</td>\n      <td>test/geometry/254.json</td>\n      <td>2</td>\n      <td>157</td>\n      <td>157</td>\n      <td>8</td>\n      <td>...</td>\n      <td>Трикутник має сторони, довжини яких дорівнюють...</td>\n      <td>Назвемо довжину третьої сторони $n$. За нерівн...</td>\n      <td>Геометрія</td>\n      <td>Фундаментальна математика для середньої школи</td>\n      <td>110</td>\n      <td>101</td>\n      <td>7</td>\n      <td>23</td>\n      <td>Фундаментальна математика для середньої школи\\...</td>\n      <td>[0.01385931670665741, 0.016113074496388435, 0....</td>\n    </tr>\n    <tr>\n      <th>152</th>\n      <td>The medians $AD$, $BE$, and $CF$ of triangle $...</td>\n      <td>Since $E$ is the midpoint of $AC$, the area of...</td>\n      <td>8</td>\n      <td>Geometry</td>\n      <td>Advanced Math Competitions; International Olym...</td>\n      <td>test/geometry/172.json</td>\n      <td>5</td>\n      <td>260</td>\n      <td>873</td>\n      <td>8</td>\n      <td>...</td>\n      <td>Медіани $AD$, $BE$ і $CF$ трикутника $ABC$ пер...</td>\n      <td>Оскільки $E$ є серединою $AC$, то площа трикут...</td>\n      <td>Геометрія</td>\n      <td>Поглиблені математичні змагання; міжнародна ол...</td>\n      <td>145</td>\n      <td>453</td>\n      <td>7</td>\n      <td>56</td>\n      <td>Поглиблені математичні змагання; міжнародна ол...</td>\n      <td>[0.010307596065104008, -0.0026040917728096247,...</td>\n    </tr>\n    <tr>\n      <th>476</th>\n      <td>Jim and Martha are standing together at the co...</td>\n      <td>The diagonal of the field is $\\sqrt{300^2+400^...</td>\n      <td>200</td>\n      <td>Prealgebra</td>\n      <td>Foundational High-School Math</td>\n      <td>test/prealgebra/1252.json</td>\n      <td>2</td>\n      <td>277</td>\n      <td>227</td>\n      <td>10</td>\n      <td>...</td>\n      <td>Джим і Марта стоять разом на розі прямокутного...</td>\n      <td>Діагональ поля дорівнює $\\sqrt{300^2+400^2}=50...</td>\n      <td>Преалгебра</td>\n      <td>Фундаментальна математика для середньої школи</td>\n      <td>131</td>\n      <td>128</td>\n      <td>6</td>\n      <td>23</td>\n      <td>Фундаментальна математика для середньої школи\\...</td>\n      <td>[0.011948387138545513, 0.01732580177485943, -0...</td>\n    </tr>\n    <tr>\n      <th>368</th>\n      <td>Two sides of a triangle are each $8$ units lon...</td>\n      <td>The Triangle Inequality says that the sum of t...</td>\n      <td>31</td>\n      <td>Geometry</td>\n      <td>Foundational High-School Math</td>\n      <td>test/geometry/106.json</td>\n      <td>2</td>\n      <td>162</td>\n      <td>334</td>\n      <td>8</td>\n      <td>...</td>\n      <td>Дві сторони трикутника мають довжину по $8$ од...</td>\n      <td>Нерівність трикутника говорить, що сума довжин...</td>\n      <td>Геометрія</td>\n      <td>Фундаментальна математика для середньої школи</td>\n      <td>89</td>\n      <td>200</td>\n      <td>7</td>\n      <td>23</td>\n      <td>Фундаментальна математика для середньої школи\\...</td>\n      <td>[0.007907223887741566, 0.024386880919337273, -...</td>\n    </tr>\n    <tr>\n      <th>341</th>\n      <td>What is the smallest number which is one less ...</td>\n      <td>The question is asking us to find the smallest...</td>\n      <td>-2</td>\n      <td>Algebra</td>\n      <td>High-Level Math Competition Problems; Regional...</td>\n      <td>test/algebra/858.json</td>\n      <td>4</td>\n      <td>72</td>\n      <td>451</td>\n      <td>7</td>\n      <td>...</td>\n      <td>Яке найменше число, яке на одиницю менше за св...</td>\n      <td>У задачі нас просять знайти найменше значення ...</td>\n      <td>Алгебра</td>\n      <td>Математичні олімпіадні задачі високого рівня; ...</td>\n      <td>30</td>\n      <td>264</td>\n      <td>5</td>\n      <td>50</td>\n      <td>Математичні олімпіадні задачі високого рівня; ...</td>\n      <td>[-0.0007280457648448646, 0.014325850643217564,...</td>\n    </tr>\n    <tr>\n      <th>192</th>\n      <td>In $\\triangle PQR$, we have $PQ = QR = 34$ and...</td>\n      <td>Because $\\triangle PQR$ is isosceles with $PQ=...</td>\n      <td>30</td>\n      <td>Geometry</td>\n      <td>High-School Intermediate Level Competition Mat...</td>\n      <td>test/geometry/221.json</td>\n      <td>3</td>\n      <td>101</td>\n      <td>598</td>\n      <td>8</td>\n      <td>...</td>\n      <td>У $\\triangle PQR$ маємо $PQ = QR = 34$ і $PR =...</td>\n      <td>Оскільки $\\трикутник PQR$ рівнобедрений з $PQ=...</td>\n      <td>Геометрія</td>\n      <td>Олімпіада з математики для середнього рівня дл...</td>\n      <td>50</td>\n      <td>314</td>\n      <td>7</td>\n      <td>34</td>\n      <td>Олімпіада з математики для середнього рівня дл...</td>\n      <td>[0.020815491676330566, 0.0028605533298105, 0.0...</td>\n    </tr>\n    <tr>\n      <th>263</th>\n      <td>In a regular polygon, the measure of an interi...</td>\n      <td>The measure of an interior angle of a regular ...</td>\n      <td>15</td>\n      <td>Geometry</td>\n      <td>High-Level Math Competition Problems; Regional...</td>\n      <td>test/geometry/483.json</td>\n      <td>4</td>\n      <td>139</td>\n      <td>245</td>\n      <td>8</td>\n      <td>...</td>\n      <td>У правильному многокутнику міра внутрішнього к...</td>\n      <td>Міра внутрішнього кута правильного $n$-кутника...</td>\n      <td>Геометрія</td>\n      <td>Математичні олімпіадні задачі високого рівня; ...</td>\n      <td>76</td>\n      <td>132</td>\n      <td>7</td>\n      <td>50</td>\n      <td>Математичні олімпіадні задачі високого рівня; ...</td>\n      <td>[0.019035551697015762, 0.006238766014575958, 0...</td>\n    </tr>\n  </tbody>\n</table>\n<p>25 rows × 21 columns</p>\n</div>"
     },
     "execution_count": 91,
     "metadata": {},
     "output_type": "execute_result"
    }
   ],
   "source": [
    "# Example query\n",
    "query = \"Найпростіша задачка по геометрії\"\n",
    "query_embedding = np.array(get_embedding(query, model=model)).astype('float32').reshape(1, -1)\n",
    "\n",
    "# Normalize the query embedding\n",
    "faiss.normalize_L2(query_embedding)\n",
    "\n",
    "# Define the number of nearest neighbors to retrieve\n",
    "k = 25\n",
    "\n",
    "# Perform the search to retrieve top k similar embeddings\n",
    "distances, indices = index.search(query_embedding, k)\n",
    "\n",
    "# Convert distances to cosine similarities\n",
    "# Since embeddings are normalized, the inner product is equivalent to cosine similarity\n",
    "cosine_similarities = distances[0]\n",
    "\n",
    "# Define the similarity threshold (e.g., 0.8 for cosine similarity)\n",
    "similarity_threshold = 0.7\n",
    "\n",
    "# Filter results based on the similarity threshold\n",
    "filtered_indices = indices[0][cosine_similarities >= similarity_threshold]\n",
    "filtered_similarities = cosine_similarities[cosine_similarities >= similarity_threshold]\n",
    "\n",
    "# Retrieve corresponding texts\n",
    "similar_texts = inference_df.iloc[filtered_indices]\n",
    "similar_texts"
   ],
   "metadata": {
    "collapsed": false,
    "ExecuteTime": {
     "end_time": "2025-01-08T16:32:54.353053Z",
     "start_time": "2025-01-08T16:32:53.845492Z"
    }
   }
  },
  {
   "cell_type": "code",
   "execution_count": 92,
   "outputs": [],
   "source": [
    "faiss.write_index(index, '../datasets/math-500-uk.index')"
   ],
   "metadata": {
    "collapsed": false,
    "ExecuteTime": {
     "end_time": "2025-01-08T16:33:16.900457Z",
     "start_time": "2025-01-08T16:33:16.895062Z"
    }
   }
  }
 ],
 "metadata": {
  "kernelspec": {
   "display_name": "Python 3",
   "language": "python",
   "name": "python3"
  },
  "language_info": {
   "codemirror_mode": {
    "name": "ipython",
    "version": 2
   },
   "file_extension": ".py",
   "mimetype": "text/x-python",
   "name": "python",
   "nbconvert_exporter": "python",
   "pygments_lexer": "ipython2",
   "version": "2.7.6"
  }
 },
 "nbformat": 4,
 "nbformat_minor": 0
}
